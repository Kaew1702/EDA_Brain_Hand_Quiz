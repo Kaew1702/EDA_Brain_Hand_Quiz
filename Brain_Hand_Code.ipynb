{
  "nbformat": 4,
  "nbformat_minor": 0,
  "metadata": {
    "colab": {
      "name": "Final Project1_64.ipynb",
      "provenance": [],
      "collapsed_sections": []
    },
    "kernelspec": {
      "display_name": "Python 3",
      "name": "python3"
    },
    "language_info": {
      "name": "python"
    }
  },
  "cells": [
    {
      "cell_type": "markdown",
      "metadata": {
        "id": "MhCmZKLOEtrk"
      },
      "source": [
        "## Setting Environment"
      ]
    },
    {
      "cell_type": "code",
      "metadata": {
        "id": "Vzr6uRBjDexq"
      },
      "source": [
        "import pandas as pd\n",
        "import numpy as np \n",
        "import matplotlib.pyplot as plt\n",
        "import seaborn as sns\n",
        "import math\n",
        "from google.colab import files\n",
        "\n",
        "%matplotlib inline"
      ],
      "execution_count": 1,
      "outputs": []
    },
    {
      "cell_type": "markdown",
      "metadata": {
        "id": "y4gyuPNKbygL"
      },
      "source": [
        "## Data cleaning"
      ]
    },
    {
      "cell_type": "code",
      "metadata": {
        "id": "kRhX6FUAYEc2",
        "colab": {
          "base_uri": "https://localhost:8080/",
          "height": 213
        },
        "outputId": "17b47267-20ae-47f1-fddc-3fc2bf8b4db4"
      },
      "source": [
        "# read file csv\n",
        "df = pd.read_csv(\"/content/Data_raw_final.csv\") \n",
        "df.head(3)"
      ],
      "execution_count": 2,
      "outputs": [
        {
          "output_type": "execute_result",
          "data": {
            "text/html": [
              "<div>\n",
              "<style scoped>\n",
              "    .dataframe tbody tr th:only-of-type {\n",
              "        vertical-align: middle;\n",
              "    }\n",
              "\n",
              "    .dataframe tbody tr th {\n",
              "        vertical-align: top;\n",
              "    }\n",
              "\n",
              "    .dataframe thead th {\n",
              "        text-align: right;\n",
              "    }\n",
              "</style>\n",
              "<table border=\"1\" class=\"dataframe\">\n",
              "  <thead>\n",
              "    <tr style=\"text-align: right;\">\n",
              "      <th></th>\n",
              "      <th>Timestamp</th>\n",
              "      <th>รหัสนักศึกษา มจธ. (หากไม่มีให้เว้นไว้)</th>\n",
              "      <th>เพศ</th>\n",
              "      <th>ถนัดมือข้างไหน</th>\n",
              "      <th>คิดว่าตัวเองถนัดใช้สมองซีกไหน</th>\n",
              "      <th>สมองLeft brain (กรอกเฉพาะตัวเลข)</th>\n",
              "      <th>สมองRight brain (กรอกเฉพาะตัวเลข)</th>\n",
              "      <th>ถนัดเรื่องไหน (นำคำตอบมาจากกรอบหมายเลข 1)</th>\n",
              "    </tr>\n",
              "  </thead>\n",
              "  <tbody>\n",
              "    <tr>\n",
              "      <th>0</th>\n",
              "      <td>11/30/2021 11:14:46</td>\n",
              "      <td>64070505231</td>\n",
              "      <td>Male</td>\n",
              "      <td>Right hand</td>\n",
              "      <td>Left brain</td>\n",
              "      <td>56</td>\n",
              "      <td>44</td>\n",
              "      <td>Reasoning</td>\n",
              "    </tr>\n",
              "    <tr>\n",
              "      <th>1</th>\n",
              "      <td>11/30/2021 11:29:24</td>\n",
              "      <td>64070505241</td>\n",
              "      <td>Female</td>\n",
              "      <td>Right hand</td>\n",
              "      <td>Left brain</td>\n",
              "      <td>37</td>\n",
              "      <td>63</td>\n",
              "      <td>Memory</td>\n",
              "    </tr>\n",
              "    <tr>\n",
              "      <th>2</th>\n",
              "      <td>11/30/2021 11:32:02</td>\n",
              "      <td>64070505218</td>\n",
              "      <td>Female</td>\n",
              "      <td>Right hand</td>\n",
              "      <td>Right brain</td>\n",
              "      <td>43</td>\n",
              "      <td>57</td>\n",
              "      <td>Art</td>\n",
              "    </tr>\n",
              "  </tbody>\n",
              "</table>\n",
              "</div>"
            ],
            "text/plain": [
              "             Timestamp  ... ถนัดเรื่องไหน (นำคำตอบมาจากกรอบหมายเลข 1)\n",
              "0  11/30/2021 11:14:46  ...                                 Reasoning\n",
              "1  11/30/2021 11:29:24  ...                                    Memory\n",
              "2  11/30/2021 11:32:02  ...                                       Art\n",
              "\n",
              "[3 rows x 8 columns]"
            ]
          },
          "metadata": {},
          "execution_count": 2
        }
      ]
    },
    {
      "cell_type": "code",
      "metadata": {
        "colab": {
          "base_uri": "https://localhost:8080/",
          "height": 112
        },
        "id": "FS9NA45zc5ZW",
        "outputId": "c77c8ee1-7c28-41ab-f784-4d4fc35b5aa3"
      },
      "source": [
        "# 5206 Kaew\n",
        "# change column's name\n",
        "change_col = {'รหัสนักศึกษา มจธ. (หากไม่มีให้เว้นไว้)':'Student_ID',\n",
        "              'เพศ':'Gender',\n",
        "              'ถนัดมือข้างไหน': 'Hand',\n",
        "              'คิดว่าตัวเองถนัดใช้สมองซีกไหน':'Expected_brain',\n",
        "              'สมองLeft brain (กรอกเฉพาะตัวเลข)' :'Left_brain',\n",
        "              'สมองRight brain (กรอกเฉพาะตัวเลข)' :'Right_brain',\n",
        "              'ถนัดเรื่องไหน (นำคำตอบมาจากกรอบหมายเลข 1)':'Personality'\n",
        "              }\n",
        "df.rename(columns=change_col, inplace=True)\n",
        "df.head(2)"
      ],
      "execution_count": 3,
      "outputs": [
        {
          "output_type": "execute_result",
          "data": {
            "text/html": [
              "<div>\n",
              "<style scoped>\n",
              "    .dataframe tbody tr th:only-of-type {\n",
              "        vertical-align: middle;\n",
              "    }\n",
              "\n",
              "    .dataframe tbody tr th {\n",
              "        vertical-align: top;\n",
              "    }\n",
              "\n",
              "    .dataframe thead th {\n",
              "        text-align: right;\n",
              "    }\n",
              "</style>\n",
              "<table border=\"1\" class=\"dataframe\">\n",
              "  <thead>\n",
              "    <tr style=\"text-align: right;\">\n",
              "      <th></th>\n",
              "      <th>Timestamp</th>\n",
              "      <th>Student_ID</th>\n",
              "      <th>Gender</th>\n",
              "      <th>Hand</th>\n",
              "      <th>Expected_brain</th>\n",
              "      <th>Left_brain</th>\n",
              "      <th>Right_brain</th>\n",
              "      <th>Personality</th>\n",
              "    </tr>\n",
              "  </thead>\n",
              "  <tbody>\n",
              "    <tr>\n",
              "      <th>0</th>\n",
              "      <td>11/30/2021 11:14:46</td>\n",
              "      <td>64070505231</td>\n",
              "      <td>Male</td>\n",
              "      <td>Right hand</td>\n",
              "      <td>Left brain</td>\n",
              "      <td>56</td>\n",
              "      <td>44</td>\n",
              "      <td>Reasoning</td>\n",
              "    </tr>\n",
              "    <tr>\n",
              "      <th>1</th>\n",
              "      <td>11/30/2021 11:29:24</td>\n",
              "      <td>64070505241</td>\n",
              "      <td>Female</td>\n",
              "      <td>Right hand</td>\n",
              "      <td>Left brain</td>\n",
              "      <td>37</td>\n",
              "      <td>63</td>\n",
              "      <td>Memory</td>\n",
              "    </tr>\n",
              "  </tbody>\n",
              "</table>\n",
              "</div>"
            ],
            "text/plain": [
              "             Timestamp   Student_ID  ... Right_brain Personality\n",
              "0  11/30/2021 11:14:46  64070505231  ...          44   Reasoning\n",
              "1  11/30/2021 11:29:24  64070505241  ...          63      Memory\n",
              "\n",
              "[2 rows x 8 columns]"
            ]
          },
          "metadata": {},
          "execution_count": 3
        }
      ]
    },
    {
      "cell_type": "code",
      "metadata": {
        "colab": {
          "base_uri": "https://localhost:8080/",
          "height": 112
        },
        "id": "_h079eSJcXH1",
        "outputId": "6b4511cc-b66b-4a67-8b6a-34446bf35f9a"
      },
      "source": [
        "# 5206 Kaew\n",
        "# delete columns\n",
        "del_col = ['Timestamp','Student_ID']\n",
        "df.drop(del_col, axis=1, inplace=True)\n",
        "df.head(2)"
      ],
      "execution_count": 4,
      "outputs": [
        {
          "output_type": "execute_result",
          "data": {
            "text/html": [
              "<div>\n",
              "<style scoped>\n",
              "    .dataframe tbody tr th:only-of-type {\n",
              "        vertical-align: middle;\n",
              "    }\n",
              "\n",
              "    .dataframe tbody tr th {\n",
              "        vertical-align: top;\n",
              "    }\n",
              "\n",
              "    .dataframe thead th {\n",
              "        text-align: right;\n",
              "    }\n",
              "</style>\n",
              "<table border=\"1\" class=\"dataframe\">\n",
              "  <thead>\n",
              "    <tr style=\"text-align: right;\">\n",
              "      <th></th>\n",
              "      <th>Gender</th>\n",
              "      <th>Hand</th>\n",
              "      <th>Expected_brain</th>\n",
              "      <th>Left_brain</th>\n",
              "      <th>Right_brain</th>\n",
              "      <th>Personality</th>\n",
              "    </tr>\n",
              "  </thead>\n",
              "  <tbody>\n",
              "    <tr>\n",
              "      <th>0</th>\n",
              "      <td>Male</td>\n",
              "      <td>Right hand</td>\n",
              "      <td>Left brain</td>\n",
              "      <td>56</td>\n",
              "      <td>44</td>\n",
              "      <td>Reasoning</td>\n",
              "    </tr>\n",
              "    <tr>\n",
              "      <th>1</th>\n",
              "      <td>Female</td>\n",
              "      <td>Right hand</td>\n",
              "      <td>Left brain</td>\n",
              "      <td>37</td>\n",
              "      <td>63</td>\n",
              "      <td>Memory</td>\n",
              "    </tr>\n",
              "  </tbody>\n",
              "</table>\n",
              "</div>"
            ],
            "text/plain": [
              "   Gender        Hand Expected_brain  Left_brain  Right_brain Personality\n",
              "0    Male  Right hand     Left brain          56           44   Reasoning\n",
              "1  Female  Right hand     Left brain          37           63      Memory"
            ]
          },
          "metadata": {},
          "execution_count": 4
        }
      ]
    },
    {
      "cell_type": "code",
      "source": [
        "# 5206 Kaew\n",
        "# count total records\n",
        "dataShape = df.shape\n",
        "n = dataShape[0]\n",
        "m = dataShape[1]\n",
        "print(\"Raw data contains\",n,\"records.\")\n",
        "print(\"Raw data contains\",m,\"columns.\")"
      ],
      "metadata": {
        "colab": {
          "base_uri": "https://localhost:8080/"
        },
        "id": "RtenlBo7TYPa",
        "outputId": "7b1c7977-b08e-4d0a-daac-39a5a9a56a11"
      },
      "execution_count": 5,
      "outputs": [
        {
          "output_type": "stream",
          "name": "stdout",
          "text": [
            "Raw data contains 50 records.\n",
            "Raw data contains 6 columns.\n"
          ]
        }
      ]
    },
    {
      "cell_type": "markdown",
      "metadata": {
        "id": "R0Y2Jg3lHkEn"
      },
      "source": [
        "## Create new columns derive from exist column"
      ]
    },
    {
      "cell_type": "code",
      "metadata": {
        "id": "a4SWDJNb-xRg"
      },
      "source": [
        "# 5231 Floyd\n",
        "# Realbrain function \n",
        "def realbrain(row):\n",
        "  if row['Left_brain'] > 50:\n",
        "    return 'Left brain'\n",
        "  elif row['Left_brain'] == 50:\n",
        "    return 'Both'\n",
        "  else :\n",
        "    return 'Right brain'"
      ],
      "execution_count": 6,
      "outputs": []
    },
    {
      "cell_type": "code",
      "metadata": {
        "colab": {
          "base_uri": "https://localhost:8080/",
          "height": 143
        },
        "id": "-myJvqIPGISC",
        "outputId": "a35fe773-1ddb-402f-d0c8-3d2a6273746c"
      },
      "source": [
        "# 5231 Floyd\n",
        "# apply realbrain function for create Realbrain column\n",
        "df['Realbrain'] = df.apply(realbrain, axis=1)\n",
        "df.head(3)"
      ],
      "execution_count": 7,
      "outputs": [
        {
          "output_type": "execute_result",
          "data": {
            "text/html": [
              "<div>\n",
              "<style scoped>\n",
              "    .dataframe tbody tr th:only-of-type {\n",
              "        vertical-align: middle;\n",
              "    }\n",
              "\n",
              "    .dataframe tbody tr th {\n",
              "        vertical-align: top;\n",
              "    }\n",
              "\n",
              "    .dataframe thead th {\n",
              "        text-align: right;\n",
              "    }\n",
              "</style>\n",
              "<table border=\"1\" class=\"dataframe\">\n",
              "  <thead>\n",
              "    <tr style=\"text-align: right;\">\n",
              "      <th></th>\n",
              "      <th>Gender</th>\n",
              "      <th>Hand</th>\n",
              "      <th>Expected_brain</th>\n",
              "      <th>Left_brain</th>\n",
              "      <th>Right_brain</th>\n",
              "      <th>Personality</th>\n",
              "      <th>Realbrain</th>\n",
              "    </tr>\n",
              "  </thead>\n",
              "  <tbody>\n",
              "    <tr>\n",
              "      <th>0</th>\n",
              "      <td>Male</td>\n",
              "      <td>Right hand</td>\n",
              "      <td>Left brain</td>\n",
              "      <td>56</td>\n",
              "      <td>44</td>\n",
              "      <td>Reasoning</td>\n",
              "      <td>Left brain</td>\n",
              "    </tr>\n",
              "    <tr>\n",
              "      <th>1</th>\n",
              "      <td>Female</td>\n",
              "      <td>Right hand</td>\n",
              "      <td>Left brain</td>\n",
              "      <td>37</td>\n",
              "      <td>63</td>\n",
              "      <td>Memory</td>\n",
              "      <td>Right brain</td>\n",
              "    </tr>\n",
              "    <tr>\n",
              "      <th>2</th>\n",
              "      <td>Female</td>\n",
              "      <td>Right hand</td>\n",
              "      <td>Right brain</td>\n",
              "      <td>43</td>\n",
              "      <td>57</td>\n",
              "      <td>Art</td>\n",
              "      <td>Right brain</td>\n",
              "    </tr>\n",
              "  </tbody>\n",
              "</table>\n",
              "</div>"
            ],
            "text/plain": [
              "   Gender        Hand Expected_brain  ...  Right_brain  Personality    Realbrain\n",
              "0    Male  Right hand     Left brain  ...           44    Reasoning   Left brain\n",
              "1  Female  Right hand     Left brain  ...           63       Memory  Right brain\n",
              "2  Female  Right hand    Right brain  ...           57          Art  Right brain\n",
              "\n",
              "[3 rows x 7 columns]"
            ]
          },
          "metadata": {},
          "execution_count": 7
        }
      ]
    },
    {
      "cell_type": "code",
      "source": [
        "# 5231 Floyd \n",
        "# Percentage from real brain function\n",
        "def realbrain_100(row):\n",
        "  if row['Realbrain'] == 'Left brain' :\n",
        "    return row['Left_brain']\n",
        "  if row['Realbrain'] == 'Right brain':\n",
        "    return row['Right_brain']"
      ],
      "metadata": {
        "id": "Y5Z0T9hBlXPD"
      },
      "execution_count": 8,
      "outputs": []
    },
    {
      "cell_type": "code",
      "source": [
        "# 5231 Floyd \n",
        "#  apply realbrain_100 function for create Realbrain column\n",
        "df['Percent_realbrain'] = df.apply(realbrain_100, axis=1)\n",
        "df.head(3)"
      ],
      "metadata": {
        "colab": {
          "base_uri": "https://localhost:8080/",
          "height": 143
        },
        "id": "JdXep_bmlfu7",
        "outputId": "7f35235d-09b0-4718-82d2-0a8ac738422e"
      },
      "execution_count": 9,
      "outputs": [
        {
          "output_type": "execute_result",
          "data": {
            "text/html": [
              "<div>\n",
              "<style scoped>\n",
              "    .dataframe tbody tr th:only-of-type {\n",
              "        vertical-align: middle;\n",
              "    }\n",
              "\n",
              "    .dataframe tbody tr th {\n",
              "        vertical-align: top;\n",
              "    }\n",
              "\n",
              "    .dataframe thead th {\n",
              "        text-align: right;\n",
              "    }\n",
              "</style>\n",
              "<table border=\"1\" class=\"dataframe\">\n",
              "  <thead>\n",
              "    <tr style=\"text-align: right;\">\n",
              "      <th></th>\n",
              "      <th>Gender</th>\n",
              "      <th>Hand</th>\n",
              "      <th>Expected_brain</th>\n",
              "      <th>Left_brain</th>\n",
              "      <th>Right_brain</th>\n",
              "      <th>Personality</th>\n",
              "      <th>Realbrain</th>\n",
              "      <th>Percent_realbrain</th>\n",
              "    </tr>\n",
              "  </thead>\n",
              "  <tbody>\n",
              "    <tr>\n",
              "      <th>0</th>\n",
              "      <td>Male</td>\n",
              "      <td>Right hand</td>\n",
              "      <td>Left brain</td>\n",
              "      <td>56</td>\n",
              "      <td>44</td>\n",
              "      <td>Reasoning</td>\n",
              "      <td>Left brain</td>\n",
              "      <td>56</td>\n",
              "    </tr>\n",
              "    <tr>\n",
              "      <th>1</th>\n",
              "      <td>Female</td>\n",
              "      <td>Right hand</td>\n",
              "      <td>Left brain</td>\n",
              "      <td>37</td>\n",
              "      <td>63</td>\n",
              "      <td>Memory</td>\n",
              "      <td>Right brain</td>\n",
              "      <td>63</td>\n",
              "    </tr>\n",
              "    <tr>\n",
              "      <th>2</th>\n",
              "      <td>Female</td>\n",
              "      <td>Right hand</td>\n",
              "      <td>Right brain</td>\n",
              "      <td>43</td>\n",
              "      <td>57</td>\n",
              "      <td>Art</td>\n",
              "      <td>Right brain</td>\n",
              "      <td>57</td>\n",
              "    </tr>\n",
              "  </tbody>\n",
              "</table>\n",
              "</div>"
            ],
            "text/plain": [
              "   Gender        Hand  ...    Realbrain  Percent_realbrain\n",
              "0    Male  Right hand  ...   Left brain                 56\n",
              "1  Female  Right hand  ...  Right brain                 63\n",
              "2  Female  Right hand  ...  Right brain                 57\n",
              "\n",
              "[3 rows x 8 columns]"
            ]
          },
          "metadata": {},
          "execution_count": 9
        }
      ]
    },
    {
      "cell_type": "markdown",
      "metadata": {
        "id": "hKKwRmwXUCnR"
      },
      "source": [
        "## Create contingency table"
      ]
    },
    {
      "cell_type": "code",
      "metadata": {
        "id": "0b6OBjFxmrmB"
      },
      "source": [
        "# 5206 Kaew\n",
        "class ctg_table:\n",
        "  #raw_data = \"\"\n",
        "  columnA = \"\"\n",
        "  columnB = \"\"\n",
        "\n",
        "  def __init__(self, columnA, columnB):\n",
        "\n",
        "    self.columnA = columnA\n",
        "    self.columnB = columnB\n",
        "\n",
        "  def with_total(self):\n",
        "    ctg_with_total = pd.crosstab(self.columnA, self.columnB, margins=True)\n",
        "    return ctg_with_total\n",
        "\n",
        "  def without_total(self):\n",
        "    ctg_without_total = pd.crosstab(self.columnA, self.columnB)\n",
        "    return ctg_without_total\n",
        "\n"
      ],
      "execution_count": 10,
      "outputs": []
    },
    {
      "cell_type": "code",
      "metadata": {
        "colab": {
          "base_uri": "https://localhost:8080/",
          "height": 388
        },
        "id": "Z_3hZUuqrLsy",
        "outputId": "776133e7-4b7b-45f1-b0b1-f04b60df25fa"
      },
      "source": [
        "# 5206 Kaew\n",
        "# display contingency table \n",
        "# 1.Contingency table with total column\n",
        "print(\"Contingency table of Hand and brain with total.\") \n",
        "print()\n",
        "test1 = ctg_table(df[\"Hand\"] , df[\"Realbrain\"])\n",
        "display(test1.with_total())\n",
        "test1_ctg_total = test1.with_total()\n",
        "print(\"*****************************************************\")\n",
        "# 2.Contingency table without total column \n",
        "print(\"Contingency table of Hand and brain without total.\")\n",
        "print()\n",
        "display(test1.without_total())\n",
        "test1_ctg_nototal = test1.without_total()       "
      ],
      "execution_count": 11,
      "outputs": [
        {
          "output_type": "stream",
          "name": "stdout",
          "text": [
            "Contingency table of Hand and brain with total.\n",
            "\n"
          ]
        },
        {
          "output_type": "display_data",
          "data": {
            "text/html": [
              "<div>\n",
              "<style scoped>\n",
              "    .dataframe tbody tr th:only-of-type {\n",
              "        vertical-align: middle;\n",
              "    }\n",
              "\n",
              "    .dataframe tbody tr th {\n",
              "        vertical-align: top;\n",
              "    }\n",
              "\n",
              "    .dataframe thead th {\n",
              "        text-align: right;\n",
              "    }\n",
              "</style>\n",
              "<table border=\"1\" class=\"dataframe\">\n",
              "  <thead>\n",
              "    <tr style=\"text-align: right;\">\n",
              "      <th>Realbrain</th>\n",
              "      <th>Left brain</th>\n",
              "      <th>Right brain</th>\n",
              "      <th>All</th>\n",
              "    </tr>\n",
              "    <tr>\n",
              "      <th>Hand</th>\n",
              "      <th></th>\n",
              "      <th></th>\n",
              "      <th></th>\n",
              "    </tr>\n",
              "  </thead>\n",
              "  <tbody>\n",
              "    <tr>\n",
              "      <th>Left hand</th>\n",
              "      <td>3</td>\n",
              "      <td>5</td>\n",
              "      <td>8</td>\n",
              "    </tr>\n",
              "    <tr>\n",
              "      <th>Right hand</th>\n",
              "      <td>30</td>\n",
              "      <td>12</td>\n",
              "      <td>42</td>\n",
              "    </tr>\n",
              "    <tr>\n",
              "      <th>All</th>\n",
              "      <td>33</td>\n",
              "      <td>17</td>\n",
              "      <td>50</td>\n",
              "    </tr>\n",
              "  </tbody>\n",
              "</table>\n",
              "</div>"
            ],
            "text/plain": [
              "Realbrain   Left brain  Right brain  All\n",
              "Hand                                    \n",
              "Left hand            3            5    8\n",
              "Right hand          30           12   42\n",
              "All                 33           17   50"
            ]
          },
          "metadata": {}
        },
        {
          "output_type": "stream",
          "name": "stdout",
          "text": [
            "*****************************************************\n",
            "Contingency table of Hand and brain without total.\n",
            "\n"
          ]
        },
        {
          "output_type": "display_data",
          "data": {
            "text/html": [
              "<div>\n",
              "<style scoped>\n",
              "    .dataframe tbody tr th:only-of-type {\n",
              "        vertical-align: middle;\n",
              "    }\n",
              "\n",
              "    .dataframe tbody tr th {\n",
              "        vertical-align: top;\n",
              "    }\n",
              "\n",
              "    .dataframe thead th {\n",
              "        text-align: right;\n",
              "    }\n",
              "</style>\n",
              "<table border=\"1\" class=\"dataframe\">\n",
              "  <thead>\n",
              "    <tr style=\"text-align: right;\">\n",
              "      <th>Realbrain</th>\n",
              "      <th>Left brain</th>\n",
              "      <th>Right brain</th>\n",
              "    </tr>\n",
              "    <tr>\n",
              "      <th>Hand</th>\n",
              "      <th></th>\n",
              "      <th></th>\n",
              "    </tr>\n",
              "  </thead>\n",
              "  <tbody>\n",
              "    <tr>\n",
              "      <th>Left hand</th>\n",
              "      <td>3</td>\n",
              "      <td>5</td>\n",
              "    </tr>\n",
              "    <tr>\n",
              "      <th>Right hand</th>\n",
              "      <td>30</td>\n",
              "      <td>12</td>\n",
              "    </tr>\n",
              "  </tbody>\n",
              "</table>\n",
              "</div>"
            ],
            "text/plain": [
              "Realbrain   Left brain  Right brain\n",
              "Hand                               \n",
              "Left hand            3            5\n",
              "Right hand          30           12"
            ]
          },
          "metadata": {}
        }
      ]
    },
    {
      "cell_type": "markdown",
      "metadata": {
        "id": "nOxLkuYEmgwG"
      },
      "source": [
        "## Crame's V"
      ]
    },
    {
      "cell_type": "markdown",
      "source": [
        "### Chi-square formula"
      ],
      "metadata": {
        "id": "-QoYTwfutxuG"
      }
    },
    {
      "cell_type": "markdown",
      "source": [
        "![x2.JPG](data:image/jpeg;base64,/9j/4AAQSkZJRgABAQEAeAB4AAD/4RDaRXhpZgAATU0AKgAAAAgABAE7AAIAAAAFAAAISodpAAQAAAABAAAIUJydAAEAAAAKAAAQyOocAAcAAAgMAAAAPgAAAAAc6gAAAAgAAAAAAAAAAAAAAAAAAAAAAAAAAAAAAAAAAAAAAAAAAAAAAAAAAAAAAAAAAAAAAAAAAAAAAAAAAAAAAAAAAAAAAAAAAAAAAAAAAAAAAAAAAAAAAAAAAAAAAAAAAAAAAAAAAAAAAAAAAAAAAAAAAAAAAAAAAAAAAAAAAAAAAAAAAAAAAAAAAAAAAAAAAAAAAAAAAAAAAAAAAAAAAAAAAAAAAAAAAAAAAAAAAAAAAAAAAAAAAAAAAAAAAAAAAAAAAAAAAAAAAAAAAAAAAAAAAAAAAAAAAAAAAAAAAAAAAAAAAAAAAAAAAAAAAAAAAAAAAAAAAAAAAAAAAAAAAAAAAAAAAAAAAAAAAAAAAAAAAAAAAAAAAAAAAAAAAAAAAAAAAAAAAAAAAAAAAAAAAAAAAAAAAAAAAAAAAAAAAAAAAAAAAAAAAAAAAAAAAAAAAAAAAAAAAAAAAAAAAAAAAAAAAAAAAAAAAAAAAAAAAAAAAAAAAAAAAAAAAAAAAAAAAAAAAAAAAAAAAAAAAAAAAAAAAAAAAAAAAAAAAAAAAAAAAAAAAAAAAAAAAAAAAAAAAAAAAAAAAAAAAAAAAAAAAAAAAAAAAAAAAAAAAAAAAAAAAAAAAAAAAAAAAAAAAAAAAAAAAAAAAAAAAAAAAAAAAAAAAAAAAAAAAAAAAAAAAAAAAAAAAAAAAAAAAAAAAAAAAAAAAAAAAAAAAAAAAAAAAAAAAAAAAAAAAAAAAAAAAAAAAAAAAAAAAAAAAAAAAAAAAAAAAAAAAAAAAAAAAAAAAAAAAAAAAAAAAAAAAAAAAAAAAAAAAAAAAAAAAAAAAAAAAAAAAAAAAAAAAAAAAAAAAAAAAAAAAAAAAAAAAAAAAAAAAAAAAAAAAAAAAAAAAAAAAAAAAAAAAAAAAAAAAAAAAAAAAAAAAAAAAAAAAAAAAAAAAAAAAAAAAAAAAAAAAAAAAAAAAAAAAAAAAAAAAAAAAAAAAAAAAAAAAAAAAAAAAAAAAAAAAAAAAAAAAAAAAAAAAAAAAAAAAAAAAAAAAAAAAAAAAAAAAAAAAAAAAAAAAAAAAAAAAAAAAAAAAAAAAAAAAAAAAAAAAAAAAAAAAAAAAAAAAAAAAAAAAAAAAAAAAAAAAAAAAAAAAAAAAAAAAAAAAAAAAAAAAAAAAAAAAAAAAAAAAAAAAAAAAAAAAAAAAAAAAAAAAAAAAAAAAAAAAAAAAAAAAAAAAAAAAAAAAAAAAAAAAAAAAAAAAAAAAAAAAAAAAAAAAAAAAAAAAAAAAAAAAAAAAAAAAAAAAAAAAAAAAAAAAAAAAAAAAAAAAAAAAAAAAAAAAAAAAAAAAAAAAAAAAAAAAAAAAAAAAAAAAAAAAAAAAAAAAAAAAAAAAAAAAAAAAAAAAAAAAAAAAAAAAAAAAAAAAAAAAAAAAAAAAAAAAAAAAAAAAAAAAAAAAAAAAAAAAAAAAAAAAAAAAAAAAAAAAAAAAAAAAAAAAAAAAAAAAAAAAAAAAAAAAAAAAAAAAAAAAAAAAAAAAAAAAAAAAAAAAAAAAAAAAAAAAAAAAAAAAAAAAAAAAAAAAAAAAAAAAAAAAAAAAAAAAAAAAAAAAAAAAAAAAAAAAAAAAAAAAAAAAAAAAAAAAAAAAAAAAAAAAAAAAAAAAAAAAAAAAAAAAAAAAAAAAAAAAAAAAAAAAAAAAAAAAAAAAAAAAAAAAAAAAAAAAAAAAAAAAAAAAAAAAAAAAAAAAAAAAAAAAAAAAAAAAAAAAAAAAAAAAAAAAAAAAAAAAAAAAAAAAAAAAAAAAAAAAAAAAAAAAAAAAAAAAAAAAAAAAAAAAAAAAAAAAAAAAAAAAAAAAAAAAAAAAAAAAAAAAAAAAAAAAAAAAAAAAAAAAAAAAAAAAAAAAAAAAAAAAAAAAAAAAAAAAAAAAAAAAAAAAAAAAAAAAAAAAAAAAAAAAAAAAAAAAAAAAAAAAAAAAAAAAAAAAAAAAAAAAAAAAAAAAAAAAAAAAAAAAAAAAAAAAAAAAAAAAAAAAAAAAAAAAAAAAAAAAAAAAAAAAAAAAAAAAAAAAAAAAAAAAAAAAAAAAAAAAAAAAAAAAAAAAAAAAAAAAAAAAAAAAAAAAAAAAAAAAAAAAAAAAAAAAAAAAAAAAAAAAAAAAAAAAAAAAAAAAAAAAAAAAAAAAAAAAAAAAAAAAAAAAAAAAAAAAAAAAAAAAAAAAAAAAAAAAAAAAAAAAAAAAAAAAAAAAAAAAAAAAAAAAAAAAAAAAAAAAAAAAAAAAAAAAAAAAAAAAAAAAAAAAAAAAAAAAAAAAAAAAAAAAAAAAAAAAAAAAAAAAAAAAAAAAAAAAAAAAAAAAAAAAAAAAAAAAAAAAAAAAAAAAAAAAAAAAAAAAAAAAAAAAAAAAAAAAAAAAAAAAAAAAAAAAAAAAAAAAAAAAAAAAAAAAAAAAAAAAAAAAAAAAAAAAAAAAAAAAAAAAAAAAAAAAAAAAAAAAAAAAAAAAAAAAAAAAAAAAAAAAAAAAAAAAAAAAAAAAAAAAAAAAAAAAAAAAAAAAAAAAAAAAAAAAAAAAAAAAAAAAAAAAAAAAAAAAAAAAAAAAAAAAAAAAAAAAAAAAAAAAAAAAAAAAAAAAAAAAAAAAAAAAAAAAAAAAAAAAAAAAAAAAAAAAAAAAAAAAAAAAAAAAAAAAAAAAAAAAAAAAAAAAAAAAAAAAAAAAAAAAAAAAAAAAAAAAAAAAAAAAAAAAAAAAAAAAAAAAAAAAAAAAAAAAFVzZXIAAAAFkAMAAgAAABQAABCekAQAAgAAABQAABCykpEAAgAAAAM5MQAAkpIAAgAAAAM5MQAA6hwABwAACAwAAAiSAAAAABzqAAAACAAAAAAAAAAAAAAAAAAAAAAAAAAAAAAAAAAAAAAAAAAAAAAAAAAAAAAAAAAAAAAAAAAAAAAAAAAAAAAAAAAAAAAAAAAAAAAAAAAAAAAAAAAAAAAAAAAAAAAAAAAAAAAAAAAAAAAAAAAAAAAAAAAAAAAAAAAAAAAAAAAAAAAAAAAAAAAAAAAAAAAAAAAAAAAAAAAAAAAAAAAAAAAAAAAAAAAAAAAAAAAAAAAAAAAAAAAAAAAAAAAAAAAAAAAAAAAAAAAAAAAAAAAAAAAAAAAAAAAAAAAAAAAAAAAAAAAAAAAAAAAAAAAAAAAAAAAAAAAAAAAAAAAAAAAAAAAAAAAAAAAAAAAAAAAAAAAAAAAAAAAAAAAAAAAAAAAAAAAAAAAAAAAAAAAAAAAAAAAAAAAAAAAAAAAAAAAAAAAAAAAAAAAAAAAAAAAAAAAAAAAAAAAAAAAAAAAAAAAAAAAAAAAAAAAAAAAAAAAAAAAAAAAAAAAAAAAAAAAAAAAAAAAAAAAAAAAAAAAAAAAAAAAAAAAAAAAAAAAAAAAAAAAAAAAAAAAAAAAAAAAAAAAAAAAAAAAAAAAAAAAAAAAAAAAAAAAAAAAAAAAAAAAAAAAAAAAAAAAAAAAAAAAAAAAAAAAAAAAAAAAAAAAAAAAAAAAAAAAAAAAAAAAAAAAAAAAAAAAAAAAAAAAAAAAAAAAAAAAAAAAAAAAAAAAAAAAAAAAAAAAAAAAAAAAAAAAAAAAAAAAAAAAAAAAAAAAAAAAAAAAAAAAAAAAAAAAAAAAAAAAAAAAAAAAAAAAAAAAAAAAAAAAAAAAAAAAAAAAAAAAAAAAAAAAAAAAAAAAAAAAAAAAAAAAAAAAAAAAAAAAAAAAAAAAAAAAAAAAAAAAAAAAAAAAAAAAAAAAAAAAAAAAAAAAAAAAAAAAAAAAAAAAAAAAAAAAAAAAAAAAAAAAAAAAAAAAAAAAAAAAAAAAAAAAAAAAAAAAAAAAAAAAAAAAAAAAAAAAAAAAAAAAAAAAAAAAAAAAAAAAAAAAAAAAAAAAAAAAAAAAAAAAAAAAAAAAAAAAAAAAAAAAAAAAAAAAAAAAAAAAAAAAAAAAAAAAAAAAAAAAAAAAAAAAAAAAAAAAAAAAAAAAAAAAAAAAAAAAAAAAAAAAAAAAAAAAAAAAAAAAAAAAAAAAAAAAAAAAAAAAAAAAAAAAAAAAAAAAAAAAAAAAAAAAAAAAAAAAAAAAAAAAAAAAAAAAAAAAAAAAAAAAAAAAAAAAAAAAAAAAAAAAAAAAAAAAAAAAAAAAAAAAAAAAAAAAAAAAAAAAAAAAAAAAAAAAAAAAAAAAAAAAAAAAAAAAAAAAAAAAAAAAAAAAAAAAAAAAAAAAAAAAAAAAAAAAAAAAAAAAAAAAAAAAAAAAAAAAAAAAAAAAAAAAAAAAAAAAAAAAAAAAAAAAAAAAAAAAAAAAAAAAAAAAAAAAAAAAAAAAAAAAAAAAAAAAAAAAAAAAAAAAAAAAAAAAAAAAAAAAAAAAAAAAAAAAAAAAAAAAAAAAAAAAAAAAAAAAAAAAAAAAAAAAAAAAAAAAAAAAAAAAAAAAAAAAAAAAAAAAAAAAAAAAAAAAAAAAAAAAAAAAAAAAAAAAAAAAAAAAAAAAAAAAAAAAAAAAAAAAAAAAAAAAAAAAAAAAAAAAAAAAAAAAAAAAAAAAAAAAAAAAAAAAAAAAAAAAAAAAAAAAAAAAAAAAAAAAAAAAAAAAAAAAAAAAAAAAAAAAAAAAAAAAAAAAAAAAAAAAAAAAAAAAAAAAAAAAAAAAAAAAAAAAAAAAAAAAAAAAAAAAAAAAAAAAAAAAAAAAAAAAAAAAAAAAAAAAAAAAAAAAAAAAAAAAAAAAAAAAAAAAAAAAAAAAAAAAAAAAAAAAAAAAAAAAAAAAAAAAAAAAAAAAAAAAAAAAAAAAAAAAAAAAAAAAAAAAAAAAAAAAAAAAAAAAAAAAAAAAAAAAAAAAAAAAAAAAAAAAAAAAAAAAAAAAAAAAAAAAAAAAAAAAAAAAAAAAAAAAAAAAAAAAAAAAAAAAAAAAAAAAAAAAAAAAAAAAAAAAAAAAAAAAAAAAAAAAAAAAAAAAAAAAAAAAAAAAAAAAAAAAAAAAAAAAAAAAAAAAAAAAAAAAAAAAAAAAAAAAAAAAAAAAAAAAAAAAAAAAAAAAAAAAAAAAAAAAAAAAAAAAAAAAAAAAAAAAAAAAAAAAAAAAAAAAAAAAAAAAAAAAAAAAAAAAAAAAAAAAAAAAAAAAAAAAAAAAAAAAAAAAAAAAAAAAAAAAAAAAAAAAAAAAAAAAAAAAAAAAAAAAAAAAAAAAAAAAAAAAAAAAAAAAAAAAAAAAAAAAAAAAAAAAAAAAAAAAAAAAAAAAAAAAAAAAAAAAAAAAAAAAAAAAAAAAAAAAAAAAAAAAAAAAAAAAAAAAAAAAAAAAAAAAAAAAAAAAAAAAAAAAAAAAAAAAAAAAAAAAAAAAAAAAAAAAAAAAAAAAAAAAAAAAAAAAAAAAAAAAAAAAAAAAAAAAAAAAAAAAAAAAAAAAAAAAAAAAAAAAAAAAAAAAAAAAAAAAAAAAAAAAAAAAAAAAAAAAAAAAAAAAAAAAAAAAAAAAAAAAAAAAAAAAAAAAAAAAAAAAAAAAAAAAAAAAAAAAAAAAAAAAAAAAAAAAAAAAAAAAAAAAAAAAAAAAAAAAAAAAAAAAAAAAAAAAAAAAAAAAAAAAAAAAAAAAAAAAAAAAAAAAAAAAAAAAAAAAAMjAyMToxMjoxMiAxMDoyODoyNwAyMDIxOjEyOjEyIDEwOjI4OjI3AAAAVQBzAGUAcgAAAP/hCxdodHRwOi8vbnMuYWRvYmUuY29tL3hhcC8xLjAvADw/eHBhY2tldCBiZWdpbj0n77u/JyBpZD0nVzVNME1wQ2VoaUh6cmVTek5UY3prYzlkJz8+DQo8eDp4bXBtZXRhIHhtbG5zOng9ImFkb2JlOm5zOm1ldGEvIj48cmRmOlJERiB4bWxuczpyZGY9Imh0dHA6Ly93d3cudzMub3JnLzE5OTkvMDIvMjItcmRmLXN5bnRheC1ucyMiPjxyZGY6RGVzY3JpcHRpb24gcmRmOmFib3V0PSJ1dWlkOmZhZjViZGQ1LWJhM2QtMTFkYS1hZDMxLWQzM2Q3NTE4MmYxYiIgeG1sbnM6ZGM9Imh0dHA6Ly9wdXJsLm9yZy9kYy9lbGVtZW50cy8xLjEvIi8+PHJkZjpEZXNjcmlwdGlvbiByZGY6YWJvdXQ9InV1aWQ6ZmFmNWJkZDUtYmEzZC0xMWRhLWFkMzEtZDMzZDc1MTgyZjFiIiB4bWxuczp4bXA9Imh0dHA6Ly9ucy5hZG9iZS5jb20veGFwLzEuMC8iPjx4bXA6Q3JlYXRlRGF0ZT4yMDIxLTEyLTEyVDEwOjI4OjI3LjkxMzwveG1wOkNyZWF0ZURhdGU+PC9yZGY6RGVzY3JpcHRpb24+PHJkZjpEZXNjcmlwdGlvbiByZGY6YWJvdXQ9InV1aWQ6ZmFmNWJkZDUtYmEzZC0xMWRhLWFkMzEtZDMzZDc1MTgyZjFiIiB4bWxuczpkYz0iaHR0cDovL3B1cmwub3JnL2RjL2VsZW1lbnRzLzEuMS8iPjxkYzpjcmVhdG9yPjxyZGY6U2VxIHhtbG5zOnJkZj0iaHR0cDovL3d3dy53My5vcmcvMTk5OS8wMi8yMi1yZGYtc3ludGF4LW5zIyI+PHJkZjpsaT5Vc2VyPC9yZGY6bGk+PC9yZGY6U2VxPg0KCQkJPC9kYzpjcmVhdG9yPjwvcmRmOkRlc2NyaXB0aW9uPjwvcmRmOlJERj48L3g6eG1wbWV0YT4NCiAgICAgICAgICAgICAgICAgICAgICAgICAgICAgICAgICAgICAgICAgICAgICAgICAgICAgICAgICAgICAgICAgICAgICAgICAgICAgICAgICAgICAgICAgICAgICAgICAgICAKICAgICAgICAgICAgICAgICAgICAgICAgICAgICAgICAgICAgICAgICAgICAgICAgICAgICAgICAgICAgICAgICAgICAgICAgICAgICAgICAgICAgICAgICAgICAgICAgICAgIAogICAgICAgICAgICAgICAgICAgICAgICAgICAgICAgICAgICAgICAgICAgICAgICAgICAgICAgICAgICAgICAgICAgICAgICAgICAgICAgICAgICAgICAgICAgICAgICAgICAgCiAgICAgICAgICAgICAgICAgICAgICAgICAgICAgICAgICAgICAgICAgICAgICAgICAgICAgICAgICAgICAgICAgICAgICAgICAgICAgICAgICAgICAgICAgICAgICAgICAgICAKICAgICAgICAgICAgICAgICAgICAgICAgICAgICAgICAgICAgICAgICAgICAgICAgICAgICAgICAgICAgICAgICAgICAgICAgICAgICAgICAgICAgICAgICAgICAgICAgICAgIAogICAgICAgICAgICAgICAgICAgICAgICAgICAgICAgICAgICAgICAgICAgICAgICAgICAgICAgICAgICAgICAgICAgICAgICAgICAgICAgICAgICAgICAgICAgICAgICAgICAgCiAgICAgICAgICAgICAgICAgICAgICAgICAgICAgICAgICAgICAgICAgICAgICAgICAgICAgICAgICAgICAgICAgICAgICAgICAgICAgICAgICAgICAgICAgICAgICAgICAgICAKICAgICAgICAgICAgICAgICAgICAgICAgICAgICAgICAgICAgICAgICAgICAgICAgICAgICAgICAgICAgICAgICAgICAgICAgICAgICAgICAgICAgICAgICAgICAgICAgICAgIAogICAgICAgICAgICAgICAgICAgICAgICAgICAgICAgICAgICAgICAgICAgICAgICAgICAgICAgICAgICAgICAgICAgICAgICAgICAgICAgICAgICAgICAgICAgICAgICAgICAgCiAgICAgICAgICAgICAgICAgICAgICAgICAgICAgICAgICAgICAgICAgICAgICAgICAgICAgICAgICAgICAgICAgICAgICAgICAgICAgICAgICAgICAgICAgICAgICAgICAgICAKICAgICAgICAgICAgICAgICAgICAgICAgICAgICAgICAgICAgICAgICAgICAgICAgICAgICAgICAgICAgICAgICAgICAgICAgICAgICAgICAgICAgICAgICAgICAgICAgICAgIAogICAgICAgICAgICAgICAgICAgICAgICAgICAgICAgICAgICAgICAgICAgICAgICAgICAgICAgICAgICAgICAgICAgICAgICAgICAgICAgICAgICAgICAgICAgICAgICAgICAgCiAgICAgICAgICAgICAgICAgICAgICAgICAgICAgICAgICAgICAgICAgICAgICAgICAgICAgICAgICAgICAgICAgICAgICAgICAgICAgICAgICAgICAgICAgICAgICAgICAgICAKICAgICAgICAgICAgICAgICAgICAgICAgICAgICAgICAgICAgICAgICAgICAgICAgICAgICAgICAgICAgICAgICAgICAgICAgICAgICAgICAgICAgICAgICAgICAgICAgICAgIAogICAgICAgICAgICAgICAgICAgICAgICAgICAgICAgICAgICAgICAgICAgICAgICAgICAgICAgICAgICAgICAgICAgICAgICAgICAgICAgICAgICAgICAgICAgICAgICAgICAgCiAgICAgICAgICAgICAgICAgICAgICAgICAgICAgICAgICAgICAgICAgICAgICAgICAgICAgICAgICAgICAgICAgICAgICAgICAgICAgICAgICAgICAgICAgICAgICAgICAgICAKICAgICAgICAgICAgICAgICAgICAgICAgICAgICAgICAgICAgICAgICAgICAgICAgICAgICAgICAgICAgICAgICAgICAgICAgICAgICAgICAgICAgICAgICAgICAgICAgICAgIAogICAgICAgICAgICAgICAgICAgICAgICAgICAgICAgICAgICAgICAgICAgICAgICAgICAgICAgICAgICAgICAgICAgICAgICAgICAgICAgICAgICAgICAgICAgICAgICAgICAgCiAgICAgICAgICAgICAgICAgICAgICAgICAgICAgICAgICAgICAgICAgICAgICAgICAgICAgICAgICAgICAgICAgICAgICAgICAgICAgICAgICAgICAgICAgICAgICAgICAgICAKICAgICAgICAgICAgICAgICAgICAgICAgICAgICAgICAgICAgICAgICAgICAgICAgICAgICAgICAgICAgICAgICAgICAgICAgICAgICAgICAgICAgICAgICAgICAgICAgICAgIAogICAgICAgICAgICAgICAgICAgICAgICAgICAgPD94cGFja2V0IGVuZD0ndyc/Pv/bAEMABwUFBgUEBwYFBggHBwgKEQsKCQkKFQ8QDBEYFRoZGBUYFxseJyEbHSUdFxgiLiIlKCkrLCsaIC8zLyoyJyorKv/bAEMBBwgICgkKFAsLFCocGBwqKioqKioqKioqKioqKioqKioqKioqKioqKioqKioqKioqKioqKioqKioqKioqKioqKv/AABEIAGIBCwMBIgACEQEDEQH/xAAfAAABBQEBAQEBAQAAAAAAAAAAAQIDBAUGBwgJCgv/xAC1EAACAQMDAgQDBQUEBAAAAX0BAgMABBEFEiExQQYTUWEHInEUMoGRoQgjQrHBFVLR8CQzYnKCCQoWFxgZGiUmJygpKjQ1Njc4OTpDREVGR0hJSlNUVVZXWFlaY2RlZmdoaWpzdHV2d3h5eoOEhYaHiImKkpOUlZaXmJmaoqOkpaanqKmqsrO0tba3uLm6wsPExcbHyMnK0tPU1dbX2Nna4eLj5OXm5+jp6vHy8/T19vf4+fr/xAAfAQADAQEBAQEBAQEBAAAAAAAAAQIDBAUGBwgJCgv/xAC1EQACAQIEBAMEBwUEBAABAncAAQIDEQQFITEGEkFRB2FxEyIygQgUQpGhscEJIzNS8BVictEKFiQ04SXxFxgZGiYnKCkqNTY3ODk6Q0RFRkdISUpTVFVWV1hZWmNkZWZnaGlqc3R1dnd4eXqCg4SFhoeIiYqSk5SVlpeYmZqio6Slpqeoqaqys7S1tre4ubrCw8TFxsfIycrS09TV1tfY2dri4+Tl5ufo6ery8/T19vf4+fr/2gAMAwEAAhEDEQA/APpGiiigAooooAKKKKACiiigAooooAKKKKACuR8UeNLvw54u8P6NDoy30euNLFHMt2EaORELYKFcFenO7I54OAD11cR4w8Ma7rPjzwnq+lLpxs9EnllnFzcukknmLsIULGw4HIyRk8cdaANLwp4sn1/U9b0rUtOXTtS0W4SG4iiuDPG6ugdHVyiEgg9CoxXS1xvhfw7rul/ELxbrOqLp32HWpYXtxb3DtKghQRrvVowBlRk4Y4PHPWuyoAKKK57Q/FY8S6hMdFsmm0eFniOqPJtSaRTgiFcEyKDkF+FyON1AHQ0Vyz+PLWe/vbXQdI1TXf7PlMN3Np6ReXDIOSm6SRN7DIyE3EVpeGfFOleLtI/tHRJ2kiWRopUkQpJDIv3kdTyrD0PtQBr0UUUAFFFFABRRXGH4jLJ4w1Pw1Y+F9bvdQ01VefyWtFQo33XUvOuQR26+oFAHZ0VznhzxjF4h1rVtJfSNT0q90kQtPFfrENwlDFSjRyOGHyHnP9cdHQAUVz+r+Kh4f1eGLW7JrfS7mRIYdUWTfGsrcBJRgGPJ4Dcr0yRnFWvEWk3Ws2MNtaavcaUi3CSXElrxJLEM7ow3VM8fMORjigDWorz74dzz3XibxJLpeoX1/wCFkeKGwlvbp7jdOoYTmKSQl2jB2jJJGQcV6DQAUUUUAFFFFABRRRQAUUUUAFFZviDXrPwzoc+q6l5xt4SilYIjI7s7hEVVHJJZlH41naP4zt9T8SS6BdaXqOk6mlr9sWC+SP8Aew7gm9Wjd14YgEEgjPSgDo6KKKACmyb/AC28rbvwdu7pntmnUUAfPek/F34o6n8QrjwXcWnhDS9YhZlCX8d0iSkc4Rlds5X5h0yK7v8A4vf/ANU//wDJ2qHxv+GM3izS4vEXhpTD4l0gCSF4vledFO7Zn+8Dyvvkd+NX4O/EyL4ieFf9LKxa3YARX8HTJ6CQD0bB+hyPSgCH/i9//VP/APydpfhb428WeJPEPinRfG+n6dY3uhSW6BbFHAbzBIcks7ZBCqRjHBr0iqNtoun2etX+rW1sI77UUiS6mDH96IgwTjOBgM3IHPfoKAOc+LWrXOifCXxFfWTFJ1szGjg4KbyE3A+o3ZH0rQ0+yj8OfDaG00seWthpYWHA7rFwfqSM0ePvDreLfAGs6HEQJry1ZYSTgeYPmTJ9NwGaj8A6/H4m8D2Fw67bqKIW1/bOMNBcINskbKehBB69iD3oA574Bxxr8E9CkjbzGn8+WWQnJdzO+4k9zxj8Kzvhtvt/jb8TbKAFbT7RaTlAPlEjoxY/Vjkn1x7Vq+GPCPiXwBDd6T4YOl6loUk7z2cV/cyW8tlvOSmVjcSKDyPunk81reFPAyaDp2sHUL2S71TXp3uNRvYC0BLMCAsZU7kVAcKQcjrkdgC1B4u8/wAI22vf8I9r0f2iUR/2dJZYu48y+XuePdwo+9nP3ea6KvBNL1jV7v8AZl8Na1PrWpnUxqkYa7F9KJJVN80ZV23Zddhxhsjgele90AYV74w02wvZbWe21p5Im2s0GhXsyH6OkRVh7gmoP+E80j/nz8Qf+E5qH/xiukooAK8fsptZh/aM8YHQbCxvZDptnvW8vXtgo2jGCsUmT7cfWvYK84t/DHjDTPirr/iqystEurbU4IreKCbU5oXRYxgM2Ldhk46Dp6mgDovBuo63N4Btr/xXazLq4SZ7m3WHa+Vd8Kq8Z+UAD14Oec1YXxRu0TStS/sPWR/aVxFB9lNp+/td5xvmTPyIvVjk4FYI0zxUbXxfqHii8itoryzRdPtdL1CZhZiNJCWDlYyHZmBJUDO0A9K4+LVNUl+FXwv1R9X1L7Zcazp8NzKLyQG5SSQh1l5/eAgD72f1NAHpvjjS7fWvAOuafeKGinsZQcjO0hCVb6ggEe4rldKs9X+InwM0KFNXXTri+tIfts7wNN9ojUYdDtdCN+Bkhs4LAdcjd+JWuf2J4E1AW483Ub+M2On268vPcSjYiqO+Ccn2BrR8G6D/AMIv4J0jRCwd7G0jhkYHhnC/MR7ZzQBH4d0fWdKZYtQ1PTZbCGBYbay07SzaJFg9fmlkJ44wMCt6iigAooooAKKKKACiiigCpqunjVdJubFri5tRcRlPPtZmiljJ6MrKQQR1rxbQvEGq6T4V1z4e6rfaheeNhdm0s5pb6YyXKzAmO5Vy25URQWbaRgJzy1e33NzDZ2stzdypDBChkkkc4VFAyST6YrxDxANXu4E+NOlkh7Bw1rYH5fP0kZDb/wDbbc0nOdowMZFAHpUt1YfDH4dvd61qd9fQ6fCGmury4aaa4kOBgFyeWYgAcAZ7Vz/gHVNJ1nxVLrWpa/pWo+KNRtCkdjpt0lwmnWiMG8oMhIJ3MpZjjc33eFrvNF1iy8QaHZ6tpUwms7yJZYnHcHsfQjoR2IIq9QAVzjfETwUjlH8YaArKcFTqcIIP/fVdHXONfeNg52eH9AK54J12YEj6fZKAJbTx34Qv7yK0sfFWiXNzMwSKGHUYXd2PQBQ2SfYVvVg2l54ve8iW+0PRIbYsBLJDrM0jqvchTaqGPsWH1reoAK+ffip4Y1L4Y+N4vij4Ki/0VpANXs04U7iAWIH8L8Z9Gwe/H0FXA/FLxFNBpkPhLQ4Ir3X/ABGGtbeCVQyRREESTyA8bVXPXqexwaAOo8L+JdO8X+GrPW9Hl8y1u03AH7yHoyt6EHINa1YPgrwlY+B/CNloOmZaO2T55W6yyHlnP1PbtwO1b1ABWemg6ZFrr6zDaLFqEkflyzxkoZV7bwDhyMcFgSO2Ky/F3g3/AIS37H/xUfiDRPsu/wD5At99m87dt+/8p3Y28emT61zX/Cm/+qj/ABA/8Hn/ANhQB6TUV1bR3lnNbTGQRzRtG5jkaNsEYOGUhlPPUEEdjXnf/Cm/+qj/ABA/8Hn/ANhR/wAKb/6qP8QP/B5/9hQBPrvw8hg8Iab4P8IWDWumf2hFdSyS3bOlqkcqysAHZmJYg4UcZLEkd/Qq82/4U3/1Uf4gf+Dz/wCwo/4U3/1Uf4gf+Dz/AOwoA9Jorzb/AIU3/wBVH+IH/g8/+wo/4U3/ANVH+IH/AIPP/sKAPSaK82/4U3/1Uf4gf+Dz/wCwo/4U3/1Uf4gf+Dz/AOwoA9A1LT7fVtNuLC9EjW9zGY5VjlaNip6jcpDD8DXFax4EAtfCvh/w3Zta6RpOqwak80100giWFiwiUOzOSxOOygZ57VU/4U3/ANVH+IH/AIPP/sKP+FN/9VH+IH/g8/8AsKAO5/sLTf7d/tlrRZNRCeWlxIS5jXGCEycJnvtxnvmtCvNv+FN/9VH+IH/g8/8AsKP+FN/9VH+IH/g8/wDsKAPSaK8/034T/wBnaraX3/CfeOLv7NMk32e61nfFLtYHY67PmU4wR3BNegUAFFFFABRRRQAUUUUAVtQ02x1axez1Wzt721kxvguYlkRsHIyrAg81W/4RzQ/7E/sb+xtP/sv/AJ8fsqeR1z/q8bevPTrWlRQBS0vRtM0O0NromnWmnW5cuYbSBYkLHGTtUAZ4HPtV2iigAooooAKKKRmCqWYgADJJ7UAZPirxNp/hDwzea3q8my2tUztH3pGPCoo7knAFcv8ADfw1qPn3njTxfEF8Ra0ARAef7PtuqW656cYLdOevIyfN9S+LHgrxV8VFuPFGuJb+HPDsm7TrYW0sov7nvO2xCNq4+UH2Pciu+/4aD+GP/Qzf+SFz/wDG6APSaK82/wCGg/hj/wBDN/5IXP8A8brP+HXj9PiD8XPEl3pF5dS6FY2FvBbRuzJGzFmLSeWehJyMkZwB9KAPWaKKKACiiigAooooA8m1a2lv/wBpGLRJtU1hNMn8PfbXtLfVrmBPOEzJuAjkXHygcDjvjNdP4U0WzTxLfavoXiXVL/TVR9Pk0+7vZ7qOK4jk+d1eVyc8bTjI64PauT13R9L1z9qSztNa0601G3Xwrv8AJu4FlQMLl8HawIzyefeuu8NDw/4U1m98HeHYJjMkUmrPbx7PLhEkmBEvI25P3VPQd8YoA7CivJP+Eq0n/hT93qf2vxn9hfVvJnuftMX2+0fzxwH34EW8CPAJO1sYxkj1ugAooooAKKKKACiiigAooooAKKKKACiiigAooooAKKKKACiiigApk0MdxBJDcRpLFIpR43UMrKRggg9QRT6KAPOz4S8HP4/XSLfQPAjWsdkZJ7I2UJ1BZdw2sEAwI9pHJGckV0H/AArjwR/0Jvh//wAFcH/xNcleX9j/AMNRadALqATr4dkiaPeN28yhwuPXb82PTmrt14U16S7mePS9ys7FT/wnuqx5Gf7qxYX6DgdKANXUvBnw70izN1qPhXw7BFuCgnSoSWY9FVQmWY9gASaf8P28J6hor6x4M0K20mC4leF/LsEtXkMbsvzBRnGQcA889BVvTZofCvhczeJp7bSoopCXkudZlvEXJwP39wFbnOMfgK5L4Ga9pOo+DJbKx1K1nu47+8me3SVTIsbXDFXKdQpDDnGOaAPTqKKKACiiigAooooAxNQ8FeFdWvXvNU8M6Pe3UmN89zYRSO2BgZZlJNS6b4a0Hw758+gaBp9hK6Yf7BaRQtKByFyAM8+pxWtRQB4NqWi6xof7Ouv2WvaXLp91JrMdwkbyxSblkvomXBjZh3xzjmveao6joun6vLayalbLc/ZJRNCsjEorjoxXOCRjIJBx2xV6gAooooAKKKKACiiigAooooAKKKKACiiigAooooAKKKKACiiigAooooAKKKKACiiigAooooAKKKKACiiigAooooAKKKKACiiigAooooAKKKKACiiigAooooAKKKKACiiigAooooAKKKKACiiigAooooAKKKKACiiigAooooAKKKKACiiigAooooAKKKKACiiigAooooAKKKKAP//Z)"
      ],
      "metadata": {
        "id": "l8F8ZHRFr_V-"
      }
    },
    {
      "cell_type": "code",
      "metadata": {
        "id": "L3hVDMis9gqj"
      },
      "source": [
        "# 5206 Kaew\n",
        "# calculate chi-square(x^2)\n",
        "def chi2_manual (ctg_withtotal):\n",
        "  # Expected values = (maxrow*maxcol)/total \n",
        "  #-----------Expected Values--------------#\n",
        "  exp_ctg = ctg_withtotal.copy()\n",
        "  exp_ctg.iloc[:,:] = np.multiply.outer(exp_ctg.sum(axis=1).values, exp_ctg.sum(axis=0).values) /exp_ctg.sum().sum()           \n",
        "  print('---Expected (E)---')\n",
        "  display(exp_ctg)\n",
        "  \n",
        "\n",
        "  # square distance = ((observe-expected)^2)/expected        \n",
        "  # calculate chi-square values\n",
        "  chi2 = ((ctg_withtotal - exp_ctg)**2) / exp_ctg    \n",
        "  chi2.loc[:,'All']= chi2.sum(axis=1)\n",
        "  chi2.loc['All']= chi2.sum()\n",
        "  print('---Chi-Square---')\n",
        "  display(chi2)\n",
        "\n",
        "      \n",
        "  #get chi-square score   \n",
        "  chi_square_score = chi2.iloc[:-1,:-1].sum().sum()\n",
        "    \n",
        "  return chi_square_score\n",
        "\n",
        "\n"
      ],
      "execution_count": 12,
      "outputs": []
    },
    {
      "cell_type": "code",
      "metadata": {
        "colab": {
          "base_uri": "https://localhost:8080/",
          "height": 385
        },
        "id": "YUgsc0odCPHc",
        "outputId": "1df9e67f-ab87-445f-801f-7edf48b5fe61"
      },
      "source": [
        "# 5206 Kaew\n",
        "# calling chi-square function\n",
        "chi2_score = chi2_manual(test1_ctg_total)\n",
        "print(\"Chi square score between hand and brain is equal to \",chi2_score)"
      ],
      "execution_count": 13,
      "outputs": [
        {
          "output_type": "stream",
          "name": "stdout",
          "text": [
            "---Expected (E)---\n"
          ]
        },
        {
          "output_type": "display_data",
          "data": {
            "text/html": [
              "<div>\n",
              "<style scoped>\n",
              "    .dataframe tbody tr th:only-of-type {\n",
              "        vertical-align: middle;\n",
              "    }\n",
              "\n",
              "    .dataframe tbody tr th {\n",
              "        vertical-align: top;\n",
              "    }\n",
              "\n",
              "    .dataframe thead th {\n",
              "        text-align: right;\n",
              "    }\n",
              "</style>\n",
              "<table border=\"1\" class=\"dataframe\">\n",
              "  <thead>\n",
              "    <tr style=\"text-align: right;\">\n",
              "      <th>Realbrain</th>\n",
              "      <th>Left brain</th>\n",
              "      <th>Right brain</th>\n",
              "      <th>All</th>\n",
              "    </tr>\n",
              "    <tr>\n",
              "      <th>Hand</th>\n",
              "      <th></th>\n",
              "      <th></th>\n",
              "      <th></th>\n",
              "    </tr>\n",
              "  </thead>\n",
              "  <tbody>\n",
              "    <tr>\n",
              "      <th>Left hand</th>\n",
              "      <td>5.28</td>\n",
              "      <td>2.72</td>\n",
              "      <td>8.0</td>\n",
              "    </tr>\n",
              "    <tr>\n",
              "      <th>Right hand</th>\n",
              "      <td>27.72</td>\n",
              "      <td>14.28</td>\n",
              "      <td>42.0</td>\n",
              "    </tr>\n",
              "    <tr>\n",
              "      <th>All</th>\n",
              "      <td>33.00</td>\n",
              "      <td>17.00</td>\n",
              "      <td>50.0</td>\n",
              "    </tr>\n",
              "  </tbody>\n",
              "</table>\n",
              "</div>"
            ],
            "text/plain": [
              "Realbrain   Left brain  Right brain   All\n",
              "Hand                                     \n",
              "Left hand         5.28         2.72   8.0\n",
              "Right hand       27.72        14.28  42.0\n",
              "All              33.00        17.00  50.0"
            ]
          },
          "metadata": {}
        },
        {
          "output_type": "stream",
          "name": "stdout",
          "text": [
            "---Chi-Square---\n"
          ]
        },
        {
          "output_type": "display_data",
          "data": {
            "text/html": [
              "<div>\n",
              "<style scoped>\n",
              "    .dataframe tbody tr th:only-of-type {\n",
              "        vertical-align: middle;\n",
              "    }\n",
              "\n",
              "    .dataframe tbody tr th {\n",
              "        vertical-align: top;\n",
              "    }\n",
              "\n",
              "    .dataframe thead th {\n",
              "        text-align: right;\n",
              "    }\n",
              "</style>\n",
              "<table border=\"1\" class=\"dataframe\">\n",
              "  <thead>\n",
              "    <tr style=\"text-align: right;\">\n",
              "      <th>Realbrain</th>\n",
              "      <th>Left brain</th>\n",
              "      <th>Right brain</th>\n",
              "      <th>All</th>\n",
              "    </tr>\n",
              "    <tr>\n",
              "      <th>Hand</th>\n",
              "      <th></th>\n",
              "      <th></th>\n",
              "      <th></th>\n",
              "    </tr>\n",
              "  </thead>\n",
              "  <tbody>\n",
              "    <tr>\n",
              "      <th>Left hand</th>\n",
              "      <td>0.984545</td>\n",
              "      <td>1.911176</td>\n",
              "      <td>2.895722</td>\n",
              "    </tr>\n",
              "    <tr>\n",
              "      <th>Right hand</th>\n",
              "      <td>0.187532</td>\n",
              "      <td>0.364034</td>\n",
              "      <td>0.551566</td>\n",
              "    </tr>\n",
              "    <tr>\n",
              "      <th>All</th>\n",
              "      <td>1.172078</td>\n",
              "      <td>2.275210</td>\n",
              "      <td>3.447288</td>\n",
              "    </tr>\n",
              "  </tbody>\n",
              "</table>\n",
              "</div>"
            ],
            "text/plain": [
              "Realbrain   Left brain  Right brain       All\n",
              "Hand                                         \n",
              "Left hand     0.984545     1.911176  2.895722\n",
              "Right hand    0.187532     0.364034  0.551566\n",
              "All           1.172078     2.275210  3.447288"
            ]
          },
          "metadata": {}
        },
        {
          "output_type": "stream",
          "name": "stdout",
          "text": [
            "Chi square score between hand and brain is equal to  3.4472880061115356\n"
          ]
        }
      ]
    },
    {
      "cell_type": "markdown",
      "source": [
        "### Cramer's V formula"
      ],
      "metadata": {
        "id": "YVFA6xLft3rX"
      }
    },
    {
      "cell_type": "markdown",
      "source": [
        "![cma.JPG](data:image/jpeg;base64,/9j/4AAQSkZJRgABAQEAeAB4AAD/4RDaRXhpZgAATU0AKgAAAAgABAE7AAIAAAAFAAAISodpAAQAAAABAAAIUJydAAEAAAAKAAAQyOocAAcAAAgMAAAAPgAAAAAc6gAAAAgAAAAAAAAAAAAAAAAAAAAAAAAAAAAAAAAAAAAAAAAAAAAAAAAAAAAAAAAAAAAAAAAAAAAAAAAAAAAAAAAAAAAAAAAAAAAAAAAAAAAAAAAAAAAAAAAAAAAAAAAAAAAAAAAAAAAAAAAAAAAAAAAAAAAAAAAAAAAAAAAAAAAAAAAAAAAAAAAAAAAAAAAAAAAAAAAAAAAAAAAAAAAAAAAAAAAAAAAAAAAAAAAAAAAAAAAAAAAAAAAAAAAAAAAAAAAAAAAAAAAAAAAAAAAAAAAAAAAAAAAAAAAAAAAAAAAAAAAAAAAAAAAAAAAAAAAAAAAAAAAAAAAAAAAAAAAAAAAAAAAAAAAAAAAAAAAAAAAAAAAAAAAAAAAAAAAAAAAAAAAAAAAAAAAAAAAAAAAAAAAAAAAAAAAAAAAAAAAAAAAAAAAAAAAAAAAAAAAAAAAAAAAAAAAAAAAAAAAAAAAAAAAAAAAAAAAAAAAAAAAAAAAAAAAAAAAAAAAAAAAAAAAAAAAAAAAAAAAAAAAAAAAAAAAAAAAAAAAAAAAAAAAAAAAAAAAAAAAAAAAAAAAAAAAAAAAAAAAAAAAAAAAAAAAAAAAAAAAAAAAAAAAAAAAAAAAAAAAAAAAAAAAAAAAAAAAAAAAAAAAAAAAAAAAAAAAAAAAAAAAAAAAAAAAAAAAAAAAAAAAAAAAAAAAAAAAAAAAAAAAAAAAAAAAAAAAAAAAAAAAAAAAAAAAAAAAAAAAAAAAAAAAAAAAAAAAAAAAAAAAAAAAAAAAAAAAAAAAAAAAAAAAAAAAAAAAAAAAAAAAAAAAAAAAAAAAAAAAAAAAAAAAAAAAAAAAAAAAAAAAAAAAAAAAAAAAAAAAAAAAAAAAAAAAAAAAAAAAAAAAAAAAAAAAAAAAAAAAAAAAAAAAAAAAAAAAAAAAAAAAAAAAAAAAAAAAAAAAAAAAAAAAAAAAAAAAAAAAAAAAAAAAAAAAAAAAAAAAAAAAAAAAAAAAAAAAAAAAAAAAAAAAAAAAAAAAAAAAAAAAAAAAAAAAAAAAAAAAAAAAAAAAAAAAAAAAAAAAAAAAAAAAAAAAAAAAAAAAAAAAAAAAAAAAAAAAAAAAAAAAAAAAAAAAAAAAAAAAAAAAAAAAAAAAAAAAAAAAAAAAAAAAAAAAAAAAAAAAAAAAAAAAAAAAAAAAAAAAAAAAAAAAAAAAAAAAAAAAAAAAAAAAAAAAAAAAAAAAAAAAAAAAAAAAAAAAAAAAAAAAAAAAAAAAAAAAAAAAAAAAAAAAAAAAAAAAAAAAAAAAAAAAAAAAAAAAAAAAAAAAAAAAAAAAAAAAAAAAAAAAAAAAAAAAAAAAAAAAAAAAAAAAAAAAAAAAAAAAAAAAAAAAAAAAAAAAAAAAAAAAAAAAAAAAAAAAAAAAAAAAAAAAAAAAAAAAAAAAAAAAAAAAAAAAAAAAAAAAAAAAAAAAAAAAAAAAAAAAAAAAAAAAAAAAAAAAAAAAAAAAAAAAAAAAAAAAAAAAAAAAAAAAAAAAAAAAAAAAAAAAAAAAAAAAAAAAAAAAAAAAAAAAAAAAAAAAAAAAAAAAAAAAAAAAAAAAAAAAAAAAAAAAAAAAAAAAAAAAAAAAAAAAAAAAAAAAAAAAAAAAAAAAAAAAAAAAAAAAAAAAAAAAAAAAAAAAAAAAAAAAAAAAAAAAAAAAAAAAAAAAAAAAAAAAAAAAAAAAAAAAAAAAAAAAAAAAAAAAAAAAAAAAAAAAAAAAAAAAAAAAAAAAAAAAAAAAAAAAAAAAAAAAAAAAAAAAAAAAAAAAAAAAAAAAAAAAAAAAAAAAAAAAAAAAAAAAAAAAAAAAAAAAAAAAAAAAAAAAAAAAAAAAAAAAAAAAAAAAAAAAAAAAAAAAAAAAAAAAAAAAAAAAAAAAAAAAAAAAAAAAAAAAAAAAAAAAAAAAAAAAAAAAAAAAAAAAAAAAAAAAAAAAAAAAAAAAAAAAAAAAAAAAAAAAAAAAAAAAAAAAAAAAAAAAAAAAAAAAAAAAAAAAAAAAAAAAAAAAAAAAAAAAAAAAAAAAAAAAAAAAAAAAAAAAAAAAAAAAAAAAAAAAAAAAAAAAAAAAAAAAAAAAAAAAAAAAAAAAAAAAAAAAAAAAAAAAAAAAAAAAAAAAAAAAAAAAAAAAAAAAAAAAAAAAAAAAAAAAAAAAAAAAAAAAAAAAAAAAAAAAAAAAAAAAAAAAAAAAAAAAAAAAAAAAAAAAAAAAAAAAAAAAAAAAAAAAAAAAAAAAAAAAAAAAAAAAAAAAAAAAAAAAAAAAAAAAAAAAAAAAAAAAAAAAAAAAAAAAAAAAAAAAAAAAAAAAAAAAAAAAAAAAAAAAAAAAAAAAAAAAAAAAAAAAAAAAAAAAAAAAAAAAAAAAAAAAAAAAAAAAAAAAAAAAAAAAAAAAAAAAAAAAAAAAAAAAAAAAAAAAAAAAAAAAAAAAAAAAAAAAAAAAAAAAAAAAAAAAAAAAAAAAAAAAAAAAAAAAAAAAAAAAAAAAAAAAAAAAAAAAAAAAAAAAAAAAAAAAAAAAAAAAAAAAAAAAAAAAAAAAAAAAAAAAAAAAAAAAAAAAAAAAAAAAAAAAAAAAAAAAAAAAAAAAAAAAAAAAAAAAAAAAAAAAAAAAAAAAAAAAAAAAAAAAAAAAAAAAAAAAAAAAAAAAAAAAAAAAAAAAAAAAAAAAAAAAAAAAAAAAAAAAAAAAAAAAAAAAAAAAAAAAAAAAAAAAAAAAAAAAAAAAAAAAAAAAAAAAAAFVzZXIAAAAFkAMAAgAAABQAABCekAQAAgAAABQAABCykpEAAgAAAAM2MwAAkpIAAgAAAAM2MwAA6hwABwAACAwAAAiSAAAAABzqAAAACAAAAAAAAAAAAAAAAAAAAAAAAAAAAAAAAAAAAAAAAAAAAAAAAAAAAAAAAAAAAAAAAAAAAAAAAAAAAAAAAAAAAAAAAAAAAAAAAAAAAAAAAAAAAAAAAAAAAAAAAAAAAAAAAAAAAAAAAAAAAAAAAAAAAAAAAAAAAAAAAAAAAAAAAAAAAAAAAAAAAAAAAAAAAAAAAAAAAAAAAAAAAAAAAAAAAAAAAAAAAAAAAAAAAAAAAAAAAAAAAAAAAAAAAAAAAAAAAAAAAAAAAAAAAAAAAAAAAAAAAAAAAAAAAAAAAAAAAAAAAAAAAAAAAAAAAAAAAAAAAAAAAAAAAAAAAAAAAAAAAAAAAAAAAAAAAAAAAAAAAAAAAAAAAAAAAAAAAAAAAAAAAAAAAAAAAAAAAAAAAAAAAAAAAAAAAAAAAAAAAAAAAAAAAAAAAAAAAAAAAAAAAAAAAAAAAAAAAAAAAAAAAAAAAAAAAAAAAAAAAAAAAAAAAAAAAAAAAAAAAAAAAAAAAAAAAAAAAAAAAAAAAAAAAAAAAAAAAAAAAAAAAAAAAAAAAAAAAAAAAAAAAAAAAAAAAAAAAAAAAAAAAAAAAAAAAAAAAAAAAAAAAAAAAAAAAAAAAAAAAAAAAAAAAAAAAAAAAAAAAAAAAAAAAAAAAAAAAAAAAAAAAAAAAAAAAAAAAAAAAAAAAAAAAAAAAAAAAAAAAAAAAAAAAAAAAAAAAAAAAAAAAAAAAAAAAAAAAAAAAAAAAAAAAAAAAAAAAAAAAAAAAAAAAAAAAAAAAAAAAAAAAAAAAAAAAAAAAAAAAAAAAAAAAAAAAAAAAAAAAAAAAAAAAAAAAAAAAAAAAAAAAAAAAAAAAAAAAAAAAAAAAAAAAAAAAAAAAAAAAAAAAAAAAAAAAAAAAAAAAAAAAAAAAAAAAAAAAAAAAAAAAAAAAAAAAAAAAAAAAAAAAAAAAAAAAAAAAAAAAAAAAAAAAAAAAAAAAAAAAAAAAAAAAAAAAAAAAAAAAAAAAAAAAAAAAAAAAAAAAAAAAAAAAAAAAAAAAAAAAAAAAAAAAAAAAAAAAAAAAAAAAAAAAAAAAAAAAAAAAAAAAAAAAAAAAAAAAAAAAAAAAAAAAAAAAAAAAAAAAAAAAAAAAAAAAAAAAAAAAAAAAAAAAAAAAAAAAAAAAAAAAAAAAAAAAAAAAAAAAAAAAAAAAAAAAAAAAAAAAAAAAAAAAAAAAAAAAAAAAAAAAAAAAAAAAAAAAAAAAAAAAAAAAAAAAAAAAAAAAAAAAAAAAAAAAAAAAAAAAAAAAAAAAAAAAAAAAAAAAAAAAAAAAAAAAAAAAAAAAAAAAAAAAAAAAAAAAAAAAAAAAAAAAAAAAAAAAAAAAAAAAAAAAAAAAAAAAAAAAAAAAAAAAAAAAAAAAAAAAAAAAAAAAAAAAAAAAAAAAAAAAAAAAAAAAAAAAAAAAAAAAAAAAAAAAAAAAAAAAAAAAAAAAAAAAAAAAAAAAAAAAAAAAAAAAAAAAAAAAAAAAAAAAAAAAAAAAAAAAAAAAAAAAAAAAAAAAAAAAAAAAAAAAAAAAAAAAAAAAAAAAAAAAAAAAAAAAAAAAAAAAAAAAAAAAAAAAAAAAAAAAAAAAAAAAAAAAAAAAAAAAAAAAAAAAAAAAAAAAAAAAAAAAAAAAAAAAAAAAAAAAAAAAAAAAAAAAAAAAAAAAAAAAAAAAAAAAAAAAAAAAAAAAAAAAAAAAAAAAAAAAAAAAAAAAAAAAAAAAAAAAAAAAAAAAAAAAAAAAAAAAAAAAAAAAAAAAAAAAAAAAAAAAAAAAAAAAAAAAAAAAAAAAAAAAAAAAAAAAAAAAAAAAAAAAAAAAAAAAAAAAAAAAAAAAAAAAAAAAAAAAAAAAAAAAAAAAAAAAAAAAAAAAAAAAAAAAAAAAAAAAAAAAAAAAAAAAAAAAAAAAAAAAAAAAAAAAAAAAAAAAAAAAAAAAAAAAAAAAAAAAAAAAAAAAAAAAAAAAAAAAAAAAAAAAAAAAAAAAAAAAAAAAAAAAAAAAAAAAAAAAAAAAAAAAAAAAAAAAAAAAAAAAAAAAAAAAAAAAAAAAAAAAAAAAAAAAAAAAAAAAAAAAAAAAAAAAAAAAAAAAAAAAAAAAAAAAAAAAAAAAAAAAAAAAAAAAAAAAAAAAAAAAAAAAAAAAAAAAAAAAAAAAAAAAAAAAAAAAAAAAAAAAAAAAAAAAAAAAAAAAAAAAAAAAAAAAAAAAAAAAAAAAAAAAAAAAAAAAAAAAAAAAAAAAAAAAAAAAAAAAAAAAAAAAAAAAAAAAAAAAAAAAAAAAAAAAAAAAAAAAAAAAAAAAAAAAAAAAAAAAAAAAAAAAAAAAAAAAAAAAAAAAAAAAAAAAAAAAAAAAAAAAAAAAAAAAAAAAAAAAAAAAAAAAAAAAAAAAAAAAAAAAAAAAAAAAAAAAAAAAAAAAAAAAAAAAAAAAAAAAAAAAAAAAAAAAAAAAAAAAAAAAAAAAAAAAAAAAAAAAAAAAAAAAAAAAAAAAAAAAAAAAAAAAAAAAAAAAAAAAAAAAAAAAAAAAAAAAAAAAAAAAAAAAAAAAAAAAAAAAAAAAAAAAAAAAAAAAAAAAAAAAAAAAAAAAAAAAAAAAAAAAAAAAAAAAAAAAAAAAAAAAAAAAAAAAAAAAAAAAAAAAAAAAAAAAAAAAAAAAAAAAAAAAAAAAAAAAAAAAAAAAAAAAAAAAAAAAAAAAAAAAAAAAAAAAAAAAAAAAAAAAAAAAAAAAAAAMjAyMToxMjoxMiAxMDoyODowOQAyMDIxOjEyOjEyIDEwOjI4OjA5AAAAVQBzAGUAcgAAAP/hCxdodHRwOi8vbnMuYWRvYmUuY29tL3hhcC8xLjAvADw/eHBhY2tldCBiZWdpbj0n77u/JyBpZD0nVzVNME1wQ2VoaUh6cmVTek5UY3prYzlkJz8+DQo8eDp4bXBtZXRhIHhtbG5zOng9ImFkb2JlOm5zOm1ldGEvIj48cmRmOlJERiB4bWxuczpyZGY9Imh0dHA6Ly93d3cudzMub3JnLzE5OTkvMDIvMjItcmRmLXN5bnRheC1ucyMiPjxyZGY6RGVzY3JpcHRpb24gcmRmOmFib3V0PSJ1dWlkOmZhZjViZGQ1LWJhM2QtMTFkYS1hZDMxLWQzM2Q3NTE4MmYxYiIgeG1sbnM6ZGM9Imh0dHA6Ly9wdXJsLm9yZy9kYy9lbGVtZW50cy8xLjEvIi8+PHJkZjpEZXNjcmlwdGlvbiByZGY6YWJvdXQ9InV1aWQ6ZmFmNWJkZDUtYmEzZC0xMWRhLWFkMzEtZDMzZDc1MTgyZjFiIiB4bWxuczp4bXA9Imh0dHA6Ly9ucy5hZG9iZS5jb20veGFwLzEuMC8iPjx4bXA6Q3JlYXRlRGF0ZT4yMDIxLTEyLTEyVDEwOjI4OjA5LjYyNzwveG1wOkNyZWF0ZURhdGU+PC9yZGY6RGVzY3JpcHRpb24+PHJkZjpEZXNjcmlwdGlvbiByZGY6YWJvdXQ9InV1aWQ6ZmFmNWJkZDUtYmEzZC0xMWRhLWFkMzEtZDMzZDc1MTgyZjFiIiB4bWxuczpkYz0iaHR0cDovL3B1cmwub3JnL2RjL2VsZW1lbnRzLzEuMS8iPjxkYzpjcmVhdG9yPjxyZGY6U2VxIHhtbG5zOnJkZj0iaHR0cDovL3d3dy53My5vcmcvMTk5OS8wMi8yMi1yZGYtc3ludGF4LW5zIyI+PHJkZjpsaT5Vc2VyPC9yZGY6bGk+PC9yZGY6U2VxPg0KCQkJPC9kYzpjcmVhdG9yPjwvcmRmOkRlc2NyaXB0aW9uPjwvcmRmOlJERj48L3g6eG1wbWV0YT4NCiAgICAgICAgICAgICAgICAgICAgICAgICAgICAgICAgICAgICAgICAgICAgICAgICAgICAgICAgICAgICAgICAgICAgICAgICAgICAgICAgICAgICAgICAgICAgICAgICAgICAKICAgICAgICAgICAgICAgICAgICAgICAgICAgICAgICAgICAgICAgICAgICAgICAgICAgICAgICAgICAgICAgICAgICAgICAgICAgICAgICAgICAgICAgICAgICAgICAgICAgIAogICAgICAgICAgICAgICAgICAgICAgICAgICAgICAgICAgICAgICAgICAgICAgICAgICAgICAgICAgICAgICAgICAgICAgICAgICAgICAgICAgICAgICAgICAgICAgICAgICAgCiAgICAgICAgICAgICAgICAgICAgICAgICAgICAgICAgICAgICAgICAgICAgICAgICAgICAgICAgICAgICAgICAgICAgICAgICAgICAgICAgICAgICAgICAgICAgICAgICAgICAKICAgICAgICAgICAgICAgICAgICAgICAgICAgICAgICAgICAgICAgICAgICAgICAgICAgICAgICAgICAgICAgICAgICAgICAgICAgICAgICAgICAgICAgICAgICAgICAgICAgIAogICAgICAgICAgICAgICAgICAgICAgICAgICAgICAgICAgICAgICAgICAgICAgICAgICAgICAgICAgICAgICAgICAgICAgICAgICAgICAgICAgICAgICAgICAgICAgICAgICAgCiAgICAgICAgICAgICAgICAgICAgICAgICAgICAgICAgICAgICAgICAgICAgICAgICAgICAgICAgICAgICAgICAgICAgICAgICAgICAgICAgICAgICAgICAgICAgICAgICAgICAKICAgICAgICAgICAgICAgICAgICAgICAgICAgICAgICAgICAgICAgICAgICAgICAgICAgICAgICAgICAgICAgICAgICAgICAgICAgICAgICAgICAgICAgICAgICAgICAgICAgIAogICAgICAgICAgICAgICAgICAgICAgICAgICAgICAgICAgICAgICAgICAgICAgICAgICAgICAgICAgICAgICAgICAgICAgICAgICAgICAgICAgICAgICAgICAgICAgICAgICAgCiAgICAgICAgICAgICAgICAgICAgICAgICAgICAgICAgICAgICAgICAgICAgICAgICAgICAgICAgICAgICAgICAgICAgICAgICAgICAgICAgICAgICAgICAgICAgICAgICAgICAKICAgICAgICAgICAgICAgICAgICAgICAgICAgICAgICAgICAgICAgICAgICAgICAgICAgICAgICAgICAgICAgICAgICAgICAgICAgICAgICAgICAgICAgICAgICAgICAgICAgIAogICAgICAgICAgICAgICAgICAgICAgICAgICAgICAgICAgICAgICAgICAgICAgICAgICAgICAgICAgICAgICAgICAgICAgICAgICAgICAgICAgICAgICAgICAgICAgICAgICAgCiAgICAgICAgICAgICAgICAgICAgICAgICAgICAgICAgICAgICAgICAgICAgICAgICAgICAgICAgICAgICAgICAgICAgICAgICAgICAgICAgICAgICAgICAgICAgICAgICAgICAKICAgICAgICAgICAgICAgICAgICAgICAgICAgICAgICAgICAgICAgICAgICAgICAgICAgICAgICAgICAgICAgICAgICAgICAgICAgICAgICAgICAgICAgICAgICAgICAgICAgIAogICAgICAgICAgICAgICAgICAgICAgICAgICAgICAgICAgICAgICAgICAgICAgICAgICAgICAgICAgICAgICAgICAgICAgICAgICAgICAgICAgICAgICAgICAgICAgICAgICAgCiAgICAgICAgICAgICAgICAgICAgICAgICAgICAgICAgICAgICAgICAgICAgICAgICAgICAgICAgICAgICAgICAgICAgICAgICAgICAgICAgICAgICAgICAgICAgICAgICAgICAKICAgICAgICAgICAgICAgICAgICAgICAgICAgICAgICAgICAgICAgICAgICAgICAgICAgICAgICAgICAgICAgICAgICAgICAgICAgICAgICAgICAgICAgICAgICAgICAgICAgIAogICAgICAgICAgICAgICAgICAgICAgICAgICAgICAgICAgICAgICAgICAgICAgICAgICAgICAgICAgICAgICAgICAgICAgICAgICAgICAgICAgICAgICAgICAgICAgICAgICAgCiAgICAgICAgICAgICAgICAgICAgICAgICAgICAgICAgICAgICAgICAgICAgICAgICAgICAgICAgICAgICAgICAgICAgICAgICAgICAgICAgICAgICAgICAgICAgICAgICAgICAKICAgICAgICAgICAgICAgICAgICAgICAgICAgICAgICAgICAgICAgICAgICAgICAgICAgICAgICAgICAgICAgICAgICAgICAgICAgICAgICAgICAgICAgICAgICAgICAgICAgIAogICAgICAgICAgICAgICAgICAgICAgICAgICAgPD94cGFja2V0IGVuZD0ndyc/Pv/bAEMABwUFBgUEBwYFBggHBwgKEQsKCQkKFQ8QDBEYFRoZGBUYFxseJyEbHSUdFxgiLiIlKCkrLCsaIC8zLyoyJyorKv/bAEMBBwgICgkKFAsLFCocGBwqKioqKioqKioqKioqKioqKioqKioqKioqKioqKioqKioqKioqKioqKioqKioqKioqKv/AABEIAG4BLQMBIgACEQEDEQH/xAAfAAABBQEBAQEBAQAAAAAAAAAAAQIDBAUGBwgJCgv/xAC1EAACAQMDAgQDBQUEBAAAAX0BAgMABBEFEiExQQYTUWEHInEUMoGRoQgjQrHBFVLR8CQzYnKCCQoWFxgZGiUmJygpKjQ1Njc4OTpDREVGR0hJSlNUVVZXWFlaY2RlZmdoaWpzdHV2d3h5eoOEhYaHiImKkpOUlZaXmJmaoqOkpaanqKmqsrO0tba3uLm6wsPExcbHyMnK0tPU1dbX2Nna4eLj5OXm5+jp6vHy8/T19vf4+fr/xAAfAQADAQEBAQEBAQEBAAAAAAAAAQIDBAUGBwgJCgv/xAC1EQACAQIEBAMEBwUEBAABAncAAQIDEQQFITEGEkFRB2FxEyIygQgUQpGhscEJIzNS8BVictEKFiQ04SXxFxgZGiYnKCkqNTY3ODk6Q0RFRkdISUpTVFVWV1hZWmNkZWZnaGlqc3R1dnd4eXqCg4SFhoeIiYqSk5SVlpeYmZqio6Slpqeoqaqys7S1tre4ubrCw8TFxsfIycrS09TV1tfY2dri4+Tl5ufo6ery8/T19vf4+fr/2gAMAwEAAhEDEQA/APpGiiigAooooAKKKKACiiigAooooAKKKKACiiigAooooAKKKKACiiigAooooAKKKKACiiigAooooAKKKKACiiigAooooAKKKKACiiigAooooAKKKKACiiigAooooAKKKKAPPNe8O6P4t+LT6b4h06z1G1h8Ok+XOm5kMs5Xcp6qcIcMpBHY1D/wz58Mf+hZ/wDJ+5/+OVsaWftHxn8RSZU/ZdH0+HpyN0ly/wDn8K7GgDzb/hnz4Y/9Cz/5P3P/AMco/wCGfPhj/wBCz/5P3P8A8cr0migDzb/hnz4Y/wDQs/8Ak/c//HKP+GfPhj/0LP8A5P3P/wAcr0migDzb/hnz4Y/9Cz/5P3P/AMco/wCGfPhj/wBCz/5P3P8A8cr0migDzb/hnz4Y/wDQs/8Ak/c//HKP+GfPhj/0LP8A5P3P/wAcr0morq6t7K1lur2eO3t4VLySyuERFHUkngD3oA87/wCGfPhj/wBCz/5P3P8A8co/4Z8+GP8A0LP/AJP3P/xyu1svE+g6lp9xfadrem3dnagme4gu43jiAGfmYHC8c81Xm8Z+H08N3mvW2q2t/p1kCZprCUXAUjHy/ITzyOPegDkv+GfPhj/0LP8A5P3P/wAco/4Z8+GP/Qs/+T9z/wDHK6PTPG9vfeIoNEvtI1TSL26t2ubZb+OMCeNSNxBjdsEbhlW2kZ6V01AHm3/DPnwx/wChZ/8AJ+5/+OUf8M+fDH/oWf8Ayfuf/jldzo+u6dr8NzNpFx9oitrmS1kcRso8xDhgCQNwB43DIPY1oUAebf8ADPnwx/6Fn/yfuf8A45R/wz58Mf8AoWf/ACfuf/jlek0UAebf8M+fDH/oWf8Ayfuf/jlH/DPnwx/6Fn/yfuf/AI5XpNFAHm3/AAz58Mf+hZ/8n7n/AOOUf8M+fDH/AKFn/wAn7n/45XpNFAHm3/DPnwx/6Fn/AMn7n/45R/wz58Mf+hZ/8n7n/wCOV6TRQB5t/wAM+fDH/oWf/J+5/wDjlegabp9rpGlWmm6fF5NpZwpBBHuLbERQqjJJJwAOSc1ZooAKKKKACiiigAooooAKKKKACiiigAooooA4/wANN5vxK8ayb93lvZQbduNuIN/Xv/rK7CuO8DkzeIvG90WY7tdEQyMcR2luv/1vwrsaACiiigAooooAKKKKACkZVdSrgMrDBBGQRS1Xv71NO0+e8linlSFC5jtoWlkb2VFBLH2AoA8S2al8PPFd/wDDfQykFl4rkNxol2zKBp+/i4Ug9dqglB3O0c5Ner40L4deBjgLZaPpFtk4GSFUf+PMT+JJ96801DwzceNfhxrXizVrLUrHxRLN9rsIjZSi40827N9nhjTbuOQSWIGCZGPYY9E8A+I77xN4RtLzWtKvdK1NVEd3bXlpJARIOrKHAyp6gjOM4PIoA5PwVr2jeJvGFv4g1fXtMuNcvIXg0zR7K7Sc6fb43sH2E/vGCgsxwBgKPfrfiD4jfwt4F1LUrZTJeCMQ2cY5LzyEJGAO/wAzA/QGukrz3xF/xVPxe0HQBh7LQYzrV8MZBmOY7dT6EEu+PQCgCSZpvhF8GYHsNPi1NtHtle7je6MJkJ5lcNsbJLsTggdTz6xXnxPvdOu9Bn1HwvPb6HrdzFaQ6ibpd6SSD5C0O3cEPJBJBx1UHir/AMX47i4+E+u2ljZXd9dXVv5MMFnbvM7MxH8KgnHcnpXM/EH7Vd/D3wUlnpWq3EsWp2FxNDDps7yQxxD94XQJlcehAJ7ZoA9aopEYOisMgMMjIIP5HpS0AFFFFABRRRQAUUUUAFFFFABRRRQAUUUUAUtYtry80W7g0u+ewvXiIguURHMb9jhwVIz1yOmenWuL+EGv6r4l+GovvEmqyz6stxcQXjtHDH9mdHICgKgXhdrfMDyT24r0GvB9SmuPDXjfxp4F09jDL4vlgudM28bPtBMd1IP90B24/uUAegfCq617VvDEmteIdZn1KO/uJH09ZbeGLZbByI2PlouWYDcSeMEYA5z3FQWNlBpunW1jZxiO3tYlhiQdFRQAB+QrL8V2lne6VHHqHhb/AISeITBhZ+VbybDtb95id1XjJHBz83TGaANuivNv7A8P/wDREv8AyS0n/wCSK6rwnZWNlaXC6d4Q/wCEWVnBaHybWPzjj73+ju4Ppzg0Ab9FFFAHIfDs+Zb+I58ufN8Q3wy4/uSeXx7fJXX1w3w/t7u7+Gd4bG7exvb+81OSG6eMSmF3uptkm08Nj5WwetZ//CE/E7/orn/ltW3/AMVQB6TRXm3/AAhPxO/6K5/5bVt/8VR/whPxO/6K5/5bVt/8VQB6TRXm3/CE/E7/AKK5/wCW1bf/ABVH/CE/E7/orn/ltW3/AMVQB6TRXm3/AAhPxO/6K5/5bVt/8VR/whPxO/6K5/5bVt/8VQB6TRXm3/CE/E7/AKK5/wCW1bf/ABVH/CE/E7/orn/ltW3/AMVQB6TRXm3/AAhPxO/6K5/5bVt/8VR/whPxO/6K5/5bVt/8VQB6TXP+G/C39hatr2p3N59tvdavfPeXytnlxKoWKIDJyFUHnuSeBXLf8IT8Tv8Aorn/AJbVt/8AFUf8IT8Tv+iuf+W1bf8AxVAHpNFebf8ACE/E7/orn/ltW3/xVH/CE/E7/orn/ltW3/xVAHpNFebf8IT8Tv8Aorn/AJbVt/8AFUf8IT8Tv+iuf+W1bf8AxVAHpNFebf8ACE/E7/orn/ltW3/xVH/CE/E7/orn/ltW3/xVAHpNFebf8IT8Tv8Aorn/AJbVt/8AFUf8IT8Tv+iuf+W1bf8AxVAHpNFebf8ACE/E7/orn/ltW3/xVH/CE/E7/orn/ltW3/xVAHpNFebf8IT8Tv8Aorn/AJbVt/8AFV6BpsF1baVaQahd/bruKFEnuvKEfnuFAZ9g4XJycDgZxQBZooooAKKKKACsu58N6Td+JLLX7myV9UsYnhtrks2Y0f7wxnBzzyRkZOOtalFABRRRQAUUUUAFFFUtZm+zaFfz4z5VtI+M4zhSetAHOfCcZ+FOgSFCnn23n4LZP7xi/X/gVay+M/C7WE18viTSDaQSCKW4F/F5cbnorNuwD7Gq3w7tvsnwx8MQEBWTSbUMAc/N5S5/XNcX4F8P6Tq3jr4if2pp8F4P7W8tUnQOqq8S78KeAW4yRycDPQUAei3fiTQ9PS1e/wBZ0+2W8x9maa6RBPnpsyfm69qzPHF+9po8MVt4rsPDF3NcIIrq98oiQA5aNVkOCSOOORXjnhfw9pVz+yDeajd2UVzeSWF3J58673QxSyCMKTyoXaCAOMknua6j4lMZv2cdKklJkcx6YxZjkkl4snPryaAPUbnXtIstUg0y81Wyt7+5G6C0luEWWUc8qhOT0PQdjRpuvaRrEk8ekarZX727bZltbhJTEfRgpOD9a4H4rWcF/wCL/h/b3cfmRS6vJHIuSN6GI7lOOqkcEdCODxUcemWWkftMWg0u2is0uvDMhmjgQIrlZwASBxnGBn0AoA9RrhfCepXvj69m8RfbJ7XQLe7eHS7W2cp9sEbbWnlYcspYMFTgYHIOeOr13f8A8I7qPlbvM+yy7dvXOw4x71y3wY8s/Bnw15W3b9jGdvruOfxzmgDpNU8T6DocyQ61rem6dLIMol3dxxMw9gxGa0YJ4rm3Se2lSaGRQySRsGVgehBHUV5Z8Jba08R6d42fXoI7q/vdcurXUFlGW8oBVSI9woXIA+telaPptjo+i2enaRGIrG1hWK3QOXCoB8o3EknjuSaALlFYN3Z+L3vJWsdc0SG2LExRzaNNI6r2BYXShj7hR9KiWx8bBxv8QaAVzyBoUwJH1+10AdHXmXxR8XeLvDcFlPpMFlY2Euq29k08rebPKHbkqmNqLwRkknnotem15h8ev+RP0T/sYLP+bUAen0VBfX9ppllLealdQWdrCMyT3EgjRB0yWPAqWORJolkidXjdQyupyGB6EHuKAHVRudc0my1S30281Ozt7+6GYLWW4RZZv91Cct0PQVerzH4sWUOoeLvAFtcBvLm1aSOTYxUshhO5cjnBHBx2oA9B07WdL1fz/wCydStL77O/lzfZp1k8pv7rbScH2NXayNB8KaF4Xa7/AOEe0yDTlvJFkmjtxtRmC7QQn3V4HYD1607VrfxDNcIdC1TTLOELh0vNNkuWZs9Qyzx4GO2D9aANWiub+w+N/wDoYfD/AP4IZ/8A5MrcsUvI7GNdTnguLoD95LbwGFGOeyF3I4/2jQBzfxA1vxFofhnUr7w3ZWZ+w2E13Jd3sp2rsUtsWNeWbA7lVHHJ6VP4Gv7rxH8M9FvtWneS61DTo3uJYz5TMzJyRsxtPPbGO1L8R/8Aklniv/sC3n/oh6rfCr/kkfhf/sFwf+gCgCrpmr3/AIb8eweEdZu5L+z1K3e40i9nx5u6P/W27kffIUhg2AcZByea7evOPiR/yUH4c7P9d/a0uMfe2+Sd34dM16PQAUUUUAFFFFABRRRQAUUUUAFFFFAGX4g0JfEOmtYzX99ZxOGD/YpzCz5BHLD5sDOcAjOOcjivJ/DviS80/wCFPjfwd4imEmteFNPuoVaQ4NxbeSxhf6YwPptzya9srxL9oLwtfR2aeLvDxCXDWzaRqa7ciW1m+UMcf3XYfmOy0Aeu6Bb/AGTw3pluAB5NpFHhegwgFZ2leBtB0SfVJtMguoJdXYtev/aFwxlY5y2S52tz95cH3roFVUUKgCqowABgAUtAHL2vw38L2PhGfwvaWM8WjXBJktBf3GDk5IDb9wB7gEA9xT9Q+HvhvVfC9n4d1CzuJtKsipgtzf3A27fugsH3MB2BJxgY6CulooAwNV8EaFrd7pd5qcF1NcaRg2Uv2+dWiPHzfK43McDLNknuTT5fB2izeL4/FElvOdYii8hLgXkwUR/3PLD7NvfG3GeevNblFABXCeEtMvvAN9P4c+xTXPh+4u3m0u6tk3i0EjFmglUcqAxYq/IweSDXd0UAcrqvwz8I61rU2raho6tezgCeSK4liE4H/PRUYK//AAIGultraCytIrWzhjgt4UEcUUShVRQMBQBwAB2qWigAooooAK5fxJ8OfDXi65E3iK2vL3a6ukR1O5SJGAwGWNZAinHcAHr611FFAHI+JfBH9reBp/C+mXk8NteyKtzPeXc1zKkO4FwjSMxJIXaATgZJ7YPVW1vHaWsVvANscKCNBnoAMCpKKACsLXfBmieJNT0/UNXt7iW601i9pJFezQ+Sx6kBHUZ46ntxW7RQAUUUUAFFFFAGN4j8KaV4rtPsuuJdy2xUo8EN/PAkinqHWN1Djj+LNRaF4W0fwZp7x6LHfRWscWFt2vbi5VFXJxHG7sAfZRk1vUUAcPpej3/iTx/D4u1qzksLPTLd7fR7KfHnZk/1s7gfcJAChc5xkkA8V3FFFABRRRQAUUUUAFFFFABRRRQAUUUUAFFFFABRRRQAUUUUAFFFFABRRRQAUUUUAFFFFABRRRQAUUUUAFFFFABRRRQAUUUUAFFFFABRRRQAUUUUAf/Z)"
      ],
      "metadata": {
        "id": "bXwrEphasfAW"
      }
    },
    {
      "cell_type": "code",
      "metadata": {
        "id": "goPtbUXF3lDM"
      },
      "source": [
        "# 5206 Kaew\n",
        "# calculate cramer's v value\n",
        "def cramer_v(x2, num_row, num_col, data_size):\n",
        "  cramer = math.sqrt((x2/data_size)/(min((num_col)-1, (num_row)-1)))\n",
        "  deg_freedom = min((num_col)-1, (num_row)-1)\n",
        "  return cramer, deg_freedom\n"
      ],
      "execution_count": 41,
      "outputs": []
    },
    {
      "cell_type": "code",
      "source": [
        "# 5206 Kaew\n",
        "# assign shape of contingencytable to variable\n",
        "ctg_shape = test1_ctg_nototal.shape\n",
        "nrow_ctg = ctg_shape[0]\n",
        "ncol_ctg = ctg_shape[1]\n",
        "\n",
        "# checker\n",
        "# print(\"nrow_ctg = \",nrow_ctg)\n",
        "# print(\"ncol_ctg = \",ncol_ctg)\n",
        "# print(\"n = \",n )"
      ],
      "metadata": {
        "id": "esKDqsj-Zv2w"
      },
      "execution_count": 15,
      "outputs": []
    },
    {
      "cell_type": "code",
      "metadata": {
        "colab": {
          "base_uri": "https://localhost:8080/"
        },
        "id": "QqpoGjHC3yYU",
        "outputId": "9afaf293-4b2a-4ffa-c66a-8cdc72cb181f"
      },
      "source": [
        "# 5206 Kaew\n",
        "cramer, deg_freedom = cramer_v(chi2_score, ncol_ctg, nrow_ctg, n )\n",
        "print(\"Cramer's V score between hand and brain is equal to \",cramer)\n",
        "print(\"Degree of freedom between hand and brain is equal to \",deg_freedom)"
      ],
      "execution_count": 16,
      "outputs": [
        {
          "output_type": "stream",
          "name": "stdout",
          "text": [
            "Cramer's V score between hand and brain is equal to  0.2625752465908215\n",
            "Degree of freedom between hand and brain is equal to  1\n"
          ]
        }
      ]
    },
    {
      "cell_type": "markdown",
      "source": [
        "### Cramer's V interpretation table"
      ],
      "metadata": {
        "id": "ZfGS0asFt_pJ"
      }
    },
    {
      "cell_type": "markdown",
      "source": [
        "![cramerV.JPG](data:image/jpeg;base64,/9j/4AAQSkZJRgABAQEAeAB4AAD/4RDaRXhpZgAATU0AKgAAAAgABAE7AAIAAAAFAAAISodpAAQAAAABAAAIUJydAAEAAAAKAAAQyOocAAcAAAgMAAAAPgAAAAAc6gAAAAgAAAAAAAAAAAAAAAAAAAAAAAAAAAAAAAAAAAAAAAAAAAAAAAAAAAAAAAAAAAAAAAAAAAAAAAAAAAAAAAAAAAAAAAAAAAAAAAAAAAAAAAAAAAAAAAAAAAAAAAAAAAAAAAAAAAAAAAAAAAAAAAAAAAAAAAAAAAAAAAAAAAAAAAAAAAAAAAAAAAAAAAAAAAAAAAAAAAAAAAAAAAAAAAAAAAAAAAAAAAAAAAAAAAAAAAAAAAAAAAAAAAAAAAAAAAAAAAAAAAAAAAAAAAAAAAAAAAAAAAAAAAAAAAAAAAAAAAAAAAAAAAAAAAAAAAAAAAAAAAAAAAAAAAAAAAAAAAAAAAAAAAAAAAAAAAAAAAAAAAAAAAAAAAAAAAAAAAAAAAAAAAAAAAAAAAAAAAAAAAAAAAAAAAAAAAAAAAAAAAAAAAAAAAAAAAAAAAAAAAAAAAAAAAAAAAAAAAAAAAAAAAAAAAAAAAAAAAAAAAAAAAAAAAAAAAAAAAAAAAAAAAAAAAAAAAAAAAAAAAAAAAAAAAAAAAAAAAAAAAAAAAAAAAAAAAAAAAAAAAAAAAAAAAAAAAAAAAAAAAAAAAAAAAAAAAAAAAAAAAAAAAAAAAAAAAAAAAAAAAAAAAAAAAAAAAAAAAAAAAAAAAAAAAAAAAAAAAAAAAAAAAAAAAAAAAAAAAAAAAAAAAAAAAAAAAAAAAAAAAAAAAAAAAAAAAAAAAAAAAAAAAAAAAAAAAAAAAAAAAAAAAAAAAAAAAAAAAAAAAAAAAAAAAAAAAAAAAAAAAAAAAAAAAAAAAAAAAAAAAAAAAAAAAAAAAAAAAAAAAAAAAAAAAAAAAAAAAAAAAAAAAAAAAAAAAAAAAAAAAAAAAAAAAAAAAAAAAAAAAAAAAAAAAAAAAAAAAAAAAAAAAAAAAAAAAAAAAAAAAAAAAAAAAAAAAAAAAAAAAAAAAAAAAAAAAAAAAAAAAAAAAAAAAAAAAAAAAAAAAAAAAAAAAAAAAAAAAAAAAAAAAAAAAAAAAAAAAAAAAAAAAAAAAAAAAAAAAAAAAAAAAAAAAAAAAAAAAAAAAAAAAAAAAAAAAAAAAAAAAAAAAAAAAAAAAAAAAAAAAAAAAAAAAAAAAAAAAAAAAAAAAAAAAAAAAAAAAAAAAAAAAAAAAAAAAAAAAAAAAAAAAAAAAAAAAAAAAAAAAAAAAAAAAAAAAAAAAAAAAAAAAAAAAAAAAAAAAAAAAAAAAAAAAAAAAAAAAAAAAAAAAAAAAAAAAAAAAAAAAAAAAAAAAAAAAAAAAAAAAAAAAAAAAAAAAAAAAAAAAAAAAAAAAAAAAAAAAAAAAAAAAAAAAAAAAAAAAAAAAAAAAAAAAAAAAAAAAAAAAAAAAAAAAAAAAAAAAAAAAAAAAAAAAAAAAAAAAAAAAAAAAAAAAAAAAAAAAAAAAAAAAAAAAAAAAAAAAAAAAAAAAAAAAAAAAAAAAAAAAAAAAAAAAAAAAAAAAAAAAAAAAAAAAAAAAAAAAAAAAAAAAAAAAAAAAAAAAAAAAAAAAAAAAAAAAAAAAAAAAAAAAAAAAAAAAAAAAAAAAAAAAAAAAAAAAAAAAAAAAAAAAAAAAAAAAAAAAAAAAAAAAAAAAAAAAAAAAAAAAAAAAAAAAAAAAAAAAAAAAAAAAAAAAAAAAAAAAAAAAAAAAAAAAAAAAAAAAAAAAAAAAAAAAAAAAAAAAAAAAAAAAAAAAAAAAAAAAAAAAAAAAAAAAAAAAAAAAAAAAAAAAAAAAAAAAAAAAAAAAAAAAAAAAAAAAAAAAAAAAAAAAAAAAAAAAAAAAAAAAAAAAAAAAAAAAAAAAAAAAAAAAAAAAAAAAAAAAAAAAAAAAAAAAAAAAAAAAAAAAAAAAAAAAAAAAAAAAAAAAAAAAAAAAAAAAAAAAAAAAAAAAAAAAAAAAAAAAAAAAAAAAAAAAAAAAAAAAAAAAAAAAAAAAAAAAAAAAAAAAAAAAAAAAAAAAAAAAAAAAAAAAAAAAAAAAAAAAAAAAAAAAAAAAAAAAAAAAAAAAAAAAAAAAAAAAAAAAAAAAAAAAAAAAAAAAAAAAAAAAAAAAAAAAAAAAAAAAAAAAAAAAAAAAAAAAAAAAAAAAAAAAAAAAAAAAAAAAAAAAAAAAAAAAAAAAAAAAAAAAAAAAAAAAAAAAAAAAAAAAAAAAAAAAAAAAAAAAAAAAAAAAAAAAAAAAAAAAAAAAAAAAAAAAAAAAAAAAAAAAAAAAAAAAAAAAAAAAAAAAAAAAAAAAAAAAAAAAAAAAAAAAAAAAAAAAAAAAAAAAAAAAAAAAAAAAAAAAAAAAAAAAAAAAAAAAAAAAAAAAAAAAAAAAAAAAAAAAAAAAAAAAAAAAAAAAAAAAAAAAAAAAAAAAAAAAAAAAAAAAAAAAAAAAAAAAAAAAAAAAAAAAAAAAAAAAAAAAAAAAAAAAAAAAAAAAAAAAAAAAAAAAAAAAAAAAAAAAAAAAAAAAAAAAAAAAAAAAAAAAAAAAAAAAAAAAAAAAAAAAAAAAAAAAAAAAAAAAAAAAAAAAAAAAAAAAAAAAAAAAAAAAAAAAAAAAAAAAAAAAAAAAAAAAAAAAAAAAAAAAAAAAAAAAAAAAAAAAAAAAAAAAAAAAAAAAAAAAAAAAAAAAAAAAAAAAAAAAAAAAAAAAAAAAAAAAAAAAAAAAAAAAAAAAAAAAAAAAAAAAAAAAAAAAAAAAAAAAAAAAAAAAAAAAAAAAAAAAAAAAAAAAAAAAAAAAAAAAAAAFVzZXIAAAAFkAMAAgAAABQAABCekAQAAgAAABQAABCykpEAAgAAAAM3MAAAkpIAAgAAAAM3MAAA6hwABwAACAwAAAiSAAAAABzqAAAACAAAAAAAAAAAAAAAAAAAAAAAAAAAAAAAAAAAAAAAAAAAAAAAAAAAAAAAAAAAAAAAAAAAAAAAAAAAAAAAAAAAAAAAAAAAAAAAAAAAAAAAAAAAAAAAAAAAAAAAAAAAAAAAAAAAAAAAAAAAAAAAAAAAAAAAAAAAAAAAAAAAAAAAAAAAAAAAAAAAAAAAAAAAAAAAAAAAAAAAAAAAAAAAAAAAAAAAAAAAAAAAAAAAAAAAAAAAAAAAAAAAAAAAAAAAAAAAAAAAAAAAAAAAAAAAAAAAAAAAAAAAAAAAAAAAAAAAAAAAAAAAAAAAAAAAAAAAAAAAAAAAAAAAAAAAAAAAAAAAAAAAAAAAAAAAAAAAAAAAAAAAAAAAAAAAAAAAAAAAAAAAAAAAAAAAAAAAAAAAAAAAAAAAAAAAAAAAAAAAAAAAAAAAAAAAAAAAAAAAAAAAAAAAAAAAAAAAAAAAAAAAAAAAAAAAAAAAAAAAAAAAAAAAAAAAAAAAAAAAAAAAAAAAAAAAAAAAAAAAAAAAAAAAAAAAAAAAAAAAAAAAAAAAAAAAAAAAAAAAAAAAAAAAAAAAAAAAAAAAAAAAAAAAAAAAAAAAAAAAAAAAAAAAAAAAAAAAAAAAAAAAAAAAAAAAAAAAAAAAAAAAAAAAAAAAAAAAAAAAAAAAAAAAAAAAAAAAAAAAAAAAAAAAAAAAAAAAAAAAAAAAAAAAAAAAAAAAAAAAAAAAAAAAAAAAAAAAAAAAAAAAAAAAAAAAAAAAAAAAAAAAAAAAAAAAAAAAAAAAAAAAAAAAAAAAAAAAAAAAAAAAAAAAAAAAAAAAAAAAAAAAAAAAAAAAAAAAAAAAAAAAAAAAAAAAAAAAAAAAAAAAAAAAAAAAAAAAAAAAAAAAAAAAAAAAAAAAAAAAAAAAAAAAAAAAAAAAAAAAAAAAAAAAAAAAAAAAAAAAAAAAAAAAAAAAAAAAAAAAAAAAAAAAAAAAAAAAAAAAAAAAAAAAAAAAAAAAAAAAAAAAAAAAAAAAAAAAAAAAAAAAAAAAAAAAAAAAAAAAAAAAAAAAAAAAAAAAAAAAAAAAAAAAAAAAAAAAAAAAAAAAAAAAAAAAAAAAAAAAAAAAAAAAAAAAAAAAAAAAAAAAAAAAAAAAAAAAAAAAAAAAAAAAAAAAAAAAAAAAAAAAAAAAAAAAAAAAAAAAAAAAAAAAAAAAAAAAAAAAAAAAAAAAAAAAAAAAAAAAAAAAAAAAAAAAAAAAAAAAAAAAAAAAAAAAAAAAAAAAAAAAAAAAAAAAAAAAAAAAAAAAAAAAAAAAAAAAAAAAAAAAAAAAAAAAAAAAAAAAAAAAAAAAAAAAAAAAAAAAAAAAAAAAAAAAAAAAAAAAAAAAAAAAAAAAAAAAAAAAAAAAAAAAAAAAAAAAAAAAAAAAAAAAAAAAAAAAAAAAAAAAAAAAAAAAAAAAAAAAAAAAAAAAAAAAAAAAAAAAAAAAAAAAAAAAAAAAAAAAAAAAAAAAAAAAAAAAAAAAAAAAAAAAAAAAAAAAAAAAAAAAAAAAAAAAAAAAAAAAAAAAAAAAAAAAAAAAAAAAAAAAAAAAAAAAAAAAAAAAAAAAAAAAAAAAAAAAAAAAAAAAAAAAAAAAAAAAAAAAAAAAAAAAAAAAAAAAAAAAAAAAAAAAAAAAAAAAAAAAAAAAAAAAAAAAAAAAAAAAAAAAAAAAAAAAAAAAAAAAAAAAAAAAAAAAAAAAAAAAAAAAAAAAAAAAAAAAAAAAAAAAAAAAAAAAAAAAAAAAAAAAAAAAAAAAAAAAAAAAAAAAAAAAAAAAAAAAAAAAAAAAAAAAAAAAAAAAAAAAAAAAAAAAAAAAAAAAAAAAAAAAAAAAAAAAAAAAAAAAAAAAAAAAAAAAAAAAAAAAAAAAAAAAAAAAAAAAAAAAAAAAAAAAAAAAAAAAAAAAAAAAAAAAAAAAAAAAAAAAAAAAAAAAAAAAAAAAAAAAAAAAAAAAAAAAAAAAAAAAAAAAAAAAAAAAAAAAAAAAAAAAAAAAAAAAAAAAAAAAAAAAAAAAAAAAAAAAAAAAAAAAAAAAAAAAAAAAAAAAAAAAAAAAAAAAAAAAAAAAAAAAAAAAAAAAAAAAAAAAAAAAAAAAAAAAAAAAAAAAAAAAAAAAAAAAAAAAAAAAAAAAAAAAAAAAAAAAAAAAAAAAAAAAAAAAAAAAAAAAAAAAAAAAAAAAAAAAAAAAAAAAAAAAAAAAAAAAAAAAAAAAAAAAAAAAAAAAAAAAAAAAAAAAAAAAAAAAAAAAAAAAAAAAAAAAAAAAAAAAAAAAAAAAAAAAAAAAAAAAAAAAAAAAAAAAAAAAAAAAAAAAAAAAAAAAAAAAAAAAAAAAAAAAAAAAAAAAAAAAAAAAAAAAAAAAAAAAAAAAAAAAAAAAAAAAAAAAAAAAAAAAAAAAAAAAAAAAAAAAAAAAAAAAAAAAAAAAAAAAAAAAAAAAAAAAAAAAAAAAAAAAAAAAAAAAAAAAAAAAAAAAAAAAAAAAAAAAAAAAAAAAAAAAAAAAAAAAAAAAAAAAAAAAAAAAAAAAAAAAAAAAAAAAAAAAAAAAAAAAAAAAAAAAAAAAAAAAAAAAAAAAAAAAAAAAAAAAAAAAAAAAAAAAAAAAAAAAAAAAAAAAAAAAAAAAAAAAAAAAAAAAAAAAAAAAAAAAAAAAAAAAAAAAAAAAAAAAAAAAAAAAAAAAAAAAAAAAAAAAAAAAAAAAAAAAAAAAAAAAAAAAAAAAAAAAAAAAAAAAMjAyMToxMjowOSAyMzoxMzowNAAyMDIxOjEyOjA5IDIzOjEzOjA0AAAAVQBzAGUAcgAAAP/hCxdodHRwOi8vbnMuYWRvYmUuY29tL3hhcC8xLjAvADw/eHBhY2tldCBiZWdpbj0n77u/JyBpZD0nVzVNME1wQ2VoaUh6cmVTek5UY3prYzlkJz8+DQo8eDp4bXBtZXRhIHhtbG5zOng9ImFkb2JlOm5zOm1ldGEvIj48cmRmOlJERiB4bWxuczpyZGY9Imh0dHA6Ly93d3cudzMub3JnLzE5OTkvMDIvMjItcmRmLXN5bnRheC1ucyMiPjxyZGY6RGVzY3JpcHRpb24gcmRmOmFib3V0PSJ1dWlkOmZhZjViZGQ1LWJhM2QtMTFkYS1hZDMxLWQzM2Q3NTE4MmYxYiIgeG1sbnM6ZGM9Imh0dHA6Ly9wdXJsLm9yZy9kYy9lbGVtZW50cy8xLjEvIi8+PHJkZjpEZXNjcmlwdGlvbiByZGY6YWJvdXQ9InV1aWQ6ZmFmNWJkZDUtYmEzZC0xMWRhLWFkMzEtZDMzZDc1MTgyZjFiIiB4bWxuczp4bXA9Imh0dHA6Ly9ucy5hZG9iZS5jb20veGFwLzEuMC8iPjx4bXA6Q3JlYXRlRGF0ZT4yMDIxLTEyLTA5VDIzOjEzOjA0LjY5ODwveG1wOkNyZWF0ZURhdGU+PC9yZGY6RGVzY3JpcHRpb24+PHJkZjpEZXNjcmlwdGlvbiByZGY6YWJvdXQ9InV1aWQ6ZmFmNWJkZDUtYmEzZC0xMWRhLWFkMzEtZDMzZDc1MTgyZjFiIiB4bWxuczpkYz0iaHR0cDovL3B1cmwub3JnL2RjL2VsZW1lbnRzLzEuMS8iPjxkYzpjcmVhdG9yPjxyZGY6U2VxIHhtbG5zOnJkZj0iaHR0cDovL3d3dy53My5vcmcvMTk5OS8wMi8yMi1yZGYtc3ludGF4LW5zIyI+PHJkZjpsaT5Vc2VyPC9yZGY6bGk+PC9yZGY6U2VxPg0KCQkJPC9kYzpjcmVhdG9yPjwvcmRmOkRlc2NyaXB0aW9uPjwvcmRmOlJERj48L3g6eG1wbWV0YT4NCiAgICAgICAgICAgICAgICAgICAgICAgICAgICAgICAgICAgICAgICAgICAgICAgICAgICAgICAgICAgICAgICAgICAgICAgICAgICAgICAgICAgICAgICAgICAgICAgICAgICAKICAgICAgICAgICAgICAgICAgICAgICAgICAgICAgICAgICAgICAgICAgICAgICAgICAgICAgICAgICAgICAgICAgICAgICAgICAgICAgICAgICAgICAgICAgICAgICAgICAgIAogICAgICAgICAgICAgICAgICAgICAgICAgICAgICAgICAgICAgICAgICAgICAgICAgICAgICAgICAgICAgICAgICAgICAgICAgICAgICAgICAgICAgICAgICAgICAgICAgICAgCiAgICAgICAgICAgICAgICAgICAgICAgICAgICAgICAgICAgICAgICAgICAgICAgICAgICAgICAgICAgICAgICAgICAgICAgICAgICAgICAgICAgICAgICAgICAgICAgICAgICAKICAgICAgICAgICAgICAgICAgICAgICAgICAgICAgICAgICAgICAgICAgICAgICAgICAgICAgICAgICAgICAgICAgICAgICAgICAgICAgICAgICAgICAgICAgICAgICAgICAgIAogICAgICAgICAgICAgICAgICAgICAgICAgICAgICAgICAgICAgICAgICAgICAgICAgICAgICAgICAgICAgICAgICAgICAgICAgICAgICAgICAgICAgICAgICAgICAgICAgICAgCiAgICAgICAgICAgICAgICAgICAgICAgICAgICAgICAgICAgICAgICAgICAgICAgICAgICAgICAgICAgICAgICAgICAgICAgICAgICAgICAgICAgICAgICAgICAgICAgICAgICAKICAgICAgICAgICAgICAgICAgICAgICAgICAgICAgICAgICAgICAgICAgICAgICAgICAgICAgICAgICAgICAgICAgICAgICAgICAgICAgICAgICAgICAgICAgICAgICAgICAgIAogICAgICAgICAgICAgICAgICAgICAgICAgICAgICAgICAgICAgICAgICAgICAgICAgICAgICAgICAgICAgICAgICAgICAgICAgICAgICAgICAgICAgICAgICAgICAgICAgICAgCiAgICAgICAgICAgICAgICAgICAgICAgICAgICAgICAgICAgICAgICAgICAgICAgICAgICAgICAgICAgICAgICAgICAgICAgICAgICAgICAgICAgICAgICAgICAgICAgICAgICAKICAgICAgICAgICAgICAgICAgICAgICAgICAgICAgICAgICAgICAgICAgICAgICAgICAgICAgICAgICAgICAgICAgICAgICAgICAgICAgICAgICAgICAgICAgICAgICAgICAgIAogICAgICAgICAgICAgICAgICAgICAgICAgICAgICAgICAgICAgICAgICAgICAgICAgICAgICAgICAgICAgICAgICAgICAgICAgICAgICAgICAgICAgICAgICAgICAgICAgICAgCiAgICAgICAgICAgICAgICAgICAgICAgICAgICAgICAgICAgICAgICAgICAgICAgICAgICAgICAgICAgICAgICAgICAgICAgICAgICAgICAgICAgICAgICAgICAgICAgICAgICAKICAgICAgICAgICAgICAgICAgICAgICAgICAgICAgICAgICAgICAgICAgICAgICAgICAgICAgICAgICAgICAgICAgICAgICAgICAgICAgICAgICAgICAgICAgICAgICAgICAgIAogICAgICAgICAgICAgICAgICAgICAgICAgICAgICAgICAgICAgICAgICAgICAgICAgICAgICAgICAgICAgICAgICAgICAgICAgICAgICAgICAgICAgICAgICAgICAgICAgICAgCiAgICAgICAgICAgICAgICAgICAgICAgICAgICAgICAgICAgICAgICAgICAgICAgICAgICAgICAgICAgICAgICAgICAgICAgICAgICAgICAgICAgICAgICAgICAgICAgICAgICAKICAgICAgICAgICAgICAgICAgICAgICAgICAgICAgICAgICAgICAgICAgICAgICAgICAgICAgICAgICAgICAgICAgICAgICAgICAgICAgICAgICAgICAgICAgICAgICAgICAgIAogICAgICAgICAgICAgICAgICAgICAgICAgICAgICAgICAgICAgICAgICAgICAgICAgICAgICAgICAgICAgICAgICAgICAgICAgICAgICAgICAgICAgICAgICAgICAgICAgICAgCiAgICAgICAgICAgICAgICAgICAgICAgICAgICAgICAgICAgICAgICAgICAgICAgICAgICAgICAgICAgICAgICAgICAgICAgICAgICAgICAgICAgICAgICAgICAgICAgICAgICAKICAgICAgICAgICAgICAgICAgICAgICAgICAgICAgICAgICAgICAgICAgICAgICAgICAgICAgICAgICAgICAgICAgICAgICAgICAgICAgICAgICAgICAgICAgICAgICAgICAgIAogICAgICAgICAgICAgICAgICAgICAgICAgICAgPD94cGFja2V0IGVuZD0ndyc/Pv/bAEMABwUFBgUEBwYFBggHBwgKEQsKCQkKFQ8QDBEYFRoZGBUYFxseJyEbHSUdFxgiLiIlKCkrLCsaIC8zLyoyJyorKv/bAEMBBwgICgkKFAsLFCocGBwqKioqKioqKioqKioqKioqKioqKioqKioqKioqKioqKioqKioqKioqKioqKioqKioqKv/AABEIAZUDoAMBIgACEQEDEQH/xAAfAAABBQEBAQEBAQAAAAAAAAAAAQIDBAUGBwgJCgv/xAC1EAACAQMDAgQDBQUEBAAAAX0BAgMABBEFEiExQQYTUWEHInEUMoGRoQgjQrHBFVLR8CQzYnKCCQoWFxgZGiUmJygpKjQ1Njc4OTpDREVGR0hJSlNUVVZXWFlaY2RlZmdoaWpzdHV2d3h5eoOEhYaHiImKkpOUlZaXmJmaoqOkpaanqKmqsrO0tba3uLm6wsPExcbHyMnK0tPU1dbX2Nna4eLj5OXm5+jp6vHy8/T19vf4+fr/xAAfAQADAQEBAQEBAQEBAAAAAAAAAQIDBAUGBwgJCgv/xAC1EQACAQIEBAMEBwUEBAABAncAAQIDEQQFITEGEkFRB2FxEyIygQgUQpGhscEJIzNS8BVictEKFiQ04SXxFxgZGiYnKCkqNTY3ODk6Q0RFRkdISUpTVFVWV1hZWmNkZWZnaGlqc3R1dnd4eXqCg4SFhoeIiYqSk5SVlpeYmZqio6Slpqeoqaqys7S1tre4ubrCw8TFxsfIycrS09TV1tfY2dri4+Tl5ufo6ery8/T19vf4+fr/2gAMAwEAAhEDEQA/APo7yY/+ea/98ijyY/8Anmv/AHyKfRQAzyY/+ea/98ijyY/+ea/98in0UAM8mP8A55r/AN8ijyY/+ea/98in0UAM8mP/AJ5r/wB8ijyY/wDnmv8A3yKfRQAzyY/+ea/98ijyY/8Anmv/AHyKfRQAzyY/+ea/98ijyY/+ea/98in0UAM8mP8A55r/AN8ijyY/+ea/98in0UAM8mP/AJ5r/wB8ijyY/wDnmv8A3yKfRQAzyY/+ea/98ijyY/8Anmv/AHyKfRQAzyY/+ea/98ijyY/+ea/98in0UAM8mP8A55r/AN8ijyY/+ea/98in0UAM8mP/AJ5r/wB8ijyY/wDnmv8A3yKfRQAzyY/+ea/98ijyY/8Anmv/AHyKfRQAzyY/+ea/98ijyY/+ea/98in0UAM8mP8A55r/AN8ijyY/+ea/98in0UAM8mP/AJ5r/wB8ijyY/wDnmv8A3yKfRQAzyY/+ea/98ijyY/8Anmv/AHyKfRQAzyY/+ea/98ijyY/+ea/98in0UAM8mP8A55r/AN8ijyY/+ea/98in0UAM8mP/AJ5r/wB8ijyY/wDnmv8A3yKfRQAzyY/+ea/98ijyY/8Anmv/AHyKfRQAzyY/+ea/98ijyY/+ea/98in0UAM8mP8A55r/AN8ijyY/+ea/98in0UAM8mP/AJ5r/wB8ijyY/wDnmv8A3yKfRQAzyY/+ea/98ijyY/8Anmv/AHyKfRQAzyY/+ea/98ijyY/+ea/98in0UAM8mP8A55r/AN8ijyY/+ea/98in0UAM8mP/AJ5r/wB8ijyY/wDnmv8A3yKfRQAzyY/+ea/98ijyY/8Anmv/AHyKfRQAzyY/+ea/98ijyY/+ea/98in0UAM8mP8A55r/AN8ijyY/+ea/98in0UAM8mP/AJ5r/wB8ijyY/wDnmv8A3yKfRQAzyY/+ea/98ijyY/8Anmv/AHyKfRQAzyY/+ea/98ijyY/+ea/98in0UAM8mP8A55r/AN8ijyY/+ea/98in0UAM8mP/AJ5r/wB8ijyY/wDnmv8A3yKfRQAzyY/+ea/98ijyY/8Anmv/AHyKfRQAzyY/+ea/98ijyY/+ea/98in0UAM8mP8A55r/AN8ijyY/+ea/98in0UAM8mP/AJ5r/wB8ijyY/wDnmv8A3yKfRQAzyY/+ea/98ijyY/8Anmv/AHyKfRQAzyY/+ea/98ijyY/+ea/98in0UAM8mP8A55r/AN8ijyY/+ea/98in0UAM8mP/AJ5r/wB8ijyY/wDnmv8A3yKfRQAzyY/+ea/98ijyY/8Anmv/AHyKfRQAzyY/+ea/98ijyY/+ea/98in0UAM8mP8A55r/AN8ijyY/+ea/98in0UAM8mP/AJ5r/wB8ijyY/wDnmv8A3yKfRQAzyY/+ea/98ijyY/8Anmv/AHyKfRQAzyY/+ea/98ijyY/+ea/98in0UAM8mP8A55r/AN8ijyY/+ea/98in0UAM8mP/AJ5r/wB8ijyY/wDnmv8A3yKfRQAzyY/+ea/98ijyY/8Anmv/AHyKfRQAzyY/+ea/98ijyY/+ea/98in0UAM8mP8A55r/AN8ijyY/+ea/98in0UAM8mP/AJ5r/wB8ijyY/wDnmv8A3yKfRQAzyY/+ea/98ijyY/8Anmv/AHyKfRQAzyY/+ea/98ilEUYOQig/SnUUAFFFFABRRRQAUUUUAFFFFABRRRQAUUV4x+1GM/CuzB/6C0X/AKLkpdvl+JUY8zt6/gj2eivKm+AfhBNJE3hdb7QNWMQaC/s7+bcj4yMhmIIz1HH1FO+GHxNe98A6tceOruK3vPDdw1pqF0eA4XgPgfxE5GB1I4HOKrRXT6ELWzXU9Torz/S/jN4e1HVbWzubDW9JivpBFZXupae0NvdMfuhHyevbOKl8TfFzQ/DmtXGkxafrOt31mge8i0ey8/7KpGQZCSAOPek9NxrU7uivLrL4/eGrzwne+I/7J12DTbOeKBpZrWMeY0hI+QiQhtu35ucjI4NdHo3xI0fW3v5oLXUrbS7GA3B1i8tTDZzIOpjkY5b16YxR/X4X/IDrqK85tvjh4YnuofOstbs9MuHEcGsXWnPHZyknAxJ1APqQK2fFnxI0Xwlfw6dLBqGq6rPH5senaVbG4nMecbyowAPqRQB1tFcfpvxR8Maj4b1LWnuprGHSeNQgvYGjntSeitH1ye2M5PFQ+FvinpXivVYrC30jXtPa5RpLWbUNOaOK5QDO5HBIxjnJxTtrYOlztqKx/FHirR/B2hyat4guxa2qMEBwWZ2PRVUckn0rmtB+MGga1rtvpF3Y6xoV5ef8ea6xZG3F3/1zOSD+OM0lq7IHors72ivmfxB4ktPGXxyvbPxX4a8V6lpOmwpHa6RbW7BopMrmeRFcfKckhs8gr9K9f+L3iq78I/DbULzTLW/kupYmhins4d4tGKnErnPyqMfe55IqXK1P2g7e/wAh3NFeB/C/xL4a8E/DjUPFVz4d8Sw3S21tJqeoXkRP9oO7EBoS8m1lBbr8vBHWvS9E+JujeIL6ZNPs9UGnQ2rXLazPaGKxKrjcBKxGSM9hjg88VpJWbXYlaq52NFebp8c/CzTrI9nrcOku4RNbl011smJOB+864z3K1u+K/iLonhKa2tbhLzUtRu0Mlvp2l25uLiVB/EFHAHuSM846VPS4zq6K5fwx8QtC8U2l9LbPcWE2mjN9aajCYJrUYJy6noMA8gkV5h8Svi/4f8T/AAw8Q2Wl2WstayxeTBqj6ews5nDj5Vk7Hj+ICpk+VMcVdnu9Fec6R450TwR8IfCM+uTSeZc6Zax21rbxmSa4fyl+VEHXqOeByPUVp+FfijofinWW0b7Nqejausfmrp+r2ht5nT+8oyQR+OfatZR5ZuK6Ep+6m+p2dFeZS/HnwwkeoGHTtdun025kgvI7aw8zyFQ4MrMG2rH1wSc8HipNQ+O3hCxEc8Ueq32mkoJtVtLFntbcsAQrucfNyOACQeOvFQtdhnpNFR21xDd2sVzbSLLDMgkjdTkMpGQR+FSUbAnfVBRRRQAUUUUAFFFFABRRRQAUUUUAFFFFABRRRQAUUUUAFFFFABRXD/GTW9W8PfCfWdR0BnjvY0RRKg+aJWcKzj0IBPPbrXA/D/wl8M/E8Gl6j4a8R6hF4jj8ue7lTVHS7nYYLrIjHlScglR+NEfeb8glol5nu1FcHrPxe0DRfFWo+HJbHV7vVbGONxb2Vn57XO9Q2IwpzwCMltoHrVFvjr4VfSY73T7TWdSk2M9zaWVgZJrJVOGMwyAgBB79uKV1a42mnZnpVFcqfiT4ZHgSHxct5I+lTkLG0cDNIzltoj2AZ3buKp+GPirovibxCdCaw1fRtTaMyw22r2Zt2uEHVk5OR9cHg+hqrO9ib6XO2orwDwt/qvjl/wBdrr/0Ceu/+Bf/ACRPw7/1xf8A9GvQtVfyT+9MqS5Xbzkvut/megUUUUhBRRRQAUUUUAFFFFABRRRQAUUUUAFFFZHiz/kTNa/68J//AEW1TOXLFy7FRXNJI16K+cv2cPEV9oEtv4W1w7bPW7dtQ0eQk7SwJWSME9/lzj2PrWl+0b4kvdRtT4L0A7mitX1TVmBwI4I+VU/U4OP931qqnuf123+6z+4mHv8A9fd9+h73RXm3h7xto3gv4O+EJdYkmea606CO1tLWIyz3L+WPlRB1+vA5HPNbfhT4k6N4r1GbTEttS0nVIYvOfT9WtTbzeXnG8Akgj6GqlG0nFdBJ3im+p11FeQ+MfjJ4c1Lw34m0vTLXV723SxuLZ9VtrBpLNJTGyhTIORyQM4x3zjmuMuU01/2W/Bq6xqGqWELX8ao+mxq7l/MlIDBnUY4JznggHBqY6/h+JTVtPX8EfSNFcyPG2mwfEGDwSYrxtRew+2rOVUxFASMFt27dx/dx702Hx/pc/jfV/CyW94L7SLRbueQovlMhVThTuyT8w6gfWjT8/wANxK7/AA/H/hzqKK8ut/2gfCNzpdrqUdnrf2GVwlxdfYCYrElsATOCVBPBwpY4Iq5L8b/CkOs29pJHqi2NzP8AZ4dZNkRYySZxtWXPzc9wMd84p2d7CurXPRaKKKQwooooAKKKKACiiigAooooAKKKKACiiigAoryD9pv/AJI+3/X/AA/+zV6rpn/IIs/+uCf+gilF83N5O34XCWjXmWqK881r40+HdG1C7txp+uX8FhKYr6+stOZ7e1YfeDuSOntmtTxH8T/DfhnRdF1e+nlm03WZkit7qBQyIGXcHfJBC464BPtT3V/61DrY6+iuIj+K+hLoOo61qVlq+labYuiJc6hYtELwvnb5Kn5nzj0HWsE/H/RU1u00mfwp4tgvLxgIIptNRGkBP3gpkyV75AoSu7CbSV+h6rRXEeIfivomg65Lo9vY6xrl/bAG6g0ayNwbUHkGQ5AH0yT7V0PhrxNpXi7RI9V0O48+2dih3KVaNx95GU8gj0oWquhvR2ZrUUUUAFFFFABRRRQAUUUUAFFFFABRRRQAUUUUAFFFFABXjH7Uf/JK7P8A7C0X/ouSvZ6paro2l67aC11vTbTUbdXDiG7gWVAwyAcMCM8nn3pdn5r8GXCXK7+v4o5HUPi94G0Tw79rfxLp148UI221ncpNLI2OFCqSck8ZPA714rqHgXxEfgD4h128s5oL3WNXXVriyUfvBbAseRjIwXL+wAr6KsPBXhXSrpbrS/DWj2Vwv3ZrewijcfQqoNbdN63fX/g3/RER0su3+Vv1PnePR/hlrNjpLXvxW8T6gLqeEwafPqwnYS5G0NF5RK4PGSBj1qr4q8aXPw7+MniqHQdX03TV1NYJbn+3bO4kBk2H5oTArEgA/wAWBkkYOK9+s/DGgafqL39hoem2t7IcvcwWkaSN9WAya8/Hgbx74Y8Q61d+CdV0G7s9avGvJk1uCUyws3BCtH94AdAcf4j1f3/jbT8N/JAkkvu/XX+u7PPPFlroVh+yotl4d1yHW44tRja4uYhtHms+5hsPK9RgHnHPevVfi3o99q/wP1Sw0WNmnFrE6wxDl0RlZlAH+yp4/CpfBnwt0/QtF1O38RrZ67c6xem+vRLZp9n8zsEiOQAuTg9ee3Su8ACqFUAADAA7USV4yXd3/BL9BxdpKXa/z1ufM9jpvw01nwDYtrnxU8TrDNDEk2kyasJDG4x8nkeWTgMOOCOAc1Z8Q6JYaZ8fb5PFfirW/Denajp0P9m6nZX32ZZBGiKY3kKkfwk845x6ivfE8MaBFqx1SPQ9NTUGOTdraRiUn134z+tWdS0nTtZtDa6xYWt/bk5MN1CsqZ9cMCKbd3zEpWXL/X9aHilj4f8AhWNB8YyT+N9U1q1uYoLfVb+8uvtBjO790ySLH85BA6bgMelT+DPF2p6R8R9G8IaX4wtPHGiXltI3mpGvnaeiL8u+RCQ3YfNz9OM+yWuk6dY6f9gsrC1trPBH2eGFUjweo2gYqLS/D+jaH5n9i6TY6d5pzJ9ktki3n32gZoWj8geqt/XT/I8v+PtvNA3g7XZ0eTR9J1mObUVVNwVCy4cj0GGH/Aqyvi14j0bx3feDtF8F6lb6tqx1eK6VrKQSfZ4lB3MxH3eoOD/d9q9zkjSWNo5UV0YYZWGQR6EVQ0vw7omiSSvouj2GnPMcyNaWqRF/rtAzSjpv3v8Al/kOWq+Vvz/zPMPDP/J13jH/ALBVv/6DDXV/GP8A5I34m/68W/mK6mLSNNg1abVIdPtY9QuECTXaQKJZFGMBnxkgYHBPYVLeWVrqNnLaahbQ3VtMu2SGeMOjj0KngionHmpez8mvz/zKUrVOf0/BJfoeKeM/+TOrT/sF2P8A6FHXWeKNIvdW/Z0l03RUb7TJokPlxRDlwEVigHuARj3ruJtD0m50caRcaXZy6aqKgspLdGhCrjaNhG3AwMDHGKtxRR28KQwRrFFGoVERcKoAwAAOgrSp7/P/AHnf8yY+64P+X/gf5HzHoen/AA51H4a2beIfij4mtE+zJFd6OdWBEbgAGNbfyyxUEcYBGMVe8UaBp+kfG6y/4SDxNrWgaHe6LDb6bq9nd/ZyTGqjy5JNuADgsc45YV76fDGgHVv7VOh6adRzn7YbSPzs+u/Gf1q1qOmWGr2bWmrWNtfWzctDcwrIh+qsCKG7vm/rZr9RJWVv63T/AEPCZvDPhifw346fwJ4v1jxVrjaR5Ny11d/agY87gqyBAGOFIwGOM9OarX/jjwtP+yumi2WqWx1L+zI7c2EZzMJFILkoOQOGO48e9e/6dpen6RaC10mxtrG3ByIbaFY0H4KAKqJ4W8PxteMmhaarXylbsizjBuAeofj5gffNRKPNFx6Nf5/5lRdmpdn/AJf5HhFzIugeIfg/4o1xvL0CDRY7Z53XMdvM0BwzHtncvP8Asn0re8Saxp3jf4++CB4NvIdSbSRNPf3dm4kjiiOMKXHHOCMZ/iHrXsh0uwbS101rG2NgsYiW1MK+UEAwF2YxgDtio9K0TSdCt2g0TTLPToWO5o7S3SJSfUhQK1crz5uzbXzv/n+hDV427pL7v6/U8e+EY/4pX4l/9hi+/wDQKxNDVR+xTeYAGYpyeOp+0mvfLPRNK0+K5isNMs7WO7dpLlIbdEEzN95nAHzE9yetMTw9osWiHRo9IsE0tgQbFbZBAQTk/u8bevPTrWHJ7ko90l91zRS95Ps2/vMf4ZEn4U+FyTk/2Vb9f+uYrqaitbW3sbSK1soI7e3hQJFDEgREUcAADgAegqWt5y5pOXczirRSCiiioKCiiigAooooAKKKKACiiigAooooAKKKKACiiigAooooAw/GHifRvCXhyXUvErEaeXWGQCEy53nHKgcj19q+fviTofw+uZtGvfhHdWq+KrrUI/s8GjzlhjqWaMZEe3g9F75Hp9NyRpLG0cqK6MMMrDII9CKztN8M6Do1zJcaPomnWE8v+sltbSOJn+pUAmiOkk30f9Ib2seY+Fgw/aq8X+YQXGk2+SPXbDUPweRf+Eg+KJ2jJ1mUE47Zkr1uLSNNg1abVIdPtY9QuECTXaQKJZFGMBnxkgYHBPYUlno2madJdPp+nWlq945kuWggVDOx6s5A+Y8nk+tJ/By+TX3u4fav5p/dGx84+APHl/4G/Z802bTY7bz7/XXs1ur3cYLQMATI4HOBg/z9qsQ39/f/AB/8ETXvjWz8WFXnTzdPs0ihtiYiTGHQkPnIPJyPxr3+LwxoMGjvpEGiabHpshLPZJaRiFiepKAbT0Hanw+HtFtls1t9IsIlsGLWgjtkUW5IwSmB8pI44xV399S7W/KxCjaDj3v+LbPEfC3+q+OX/Xa6/wDQJ67/AOBf/JE/Dv8A1xf/ANGvXYRaBo8AvvI0mxj/ALRJN7stkH2onOfMwPnzk9c9TVixsLPS7GOz0y0gs7WIYjgt4xGiDOeFGAOTSWit5RX3Jlz95385P77f5FiiiikIKKKKACiiigAooooAKKKKACiiigArI8Wf8iZrX/XhP/6LatemSxR3ELwzxrLFIpV0dQVYHggg9RUTjzQce5UXyyTPAtK8I3niH9m3wtqnh5T/AMJDoW6905kHzMVlYtH77gOncgVPB4Y1O0+CvjrxZ4tgaLxF4itJpp45FKtbxAERxYPK4HOPoD0r3GxsLPS7GOz0y0gs7WIYjgt4xGiDOeFGAOTTruztr+zltL+3iubaZSksMyB0dT1BU8Eexq6nvc1ut/x3/JEQXKop9P0/pnzL4h01Y4vhTrGt6pqek6B/Y0dpJqOnS+VJZymPIO/B27sgHjoprrdL8NeDbnxHdHwv8Qta8S+Jk0i6W0FzqK3kaK6FfvqmBywO3cOe1e0/2Xp/9lrpn2G2+wLGIhaeSvlBB0XZjGPbFRaVoWkaFC0WiaXZadGxyyWdukQJ9woFOdpcy73/ABv/AJjWln2t+B4L4D8Y+G9L/Zs1Dw/d6jb2utJbX1tJp7HFw8zl9oEf3jwyjOOMc9Kyde/5NT8D/wDYWi/9Cmr6OHh3RV1SXUho9gL6ZSst0LVPNcEYIL4yRj3pknhnQZdJg0uXRNOfT7dw8No1pGYomGcMqYwDyeQO5p815cz7xf3MNlZbe9/5MjynxHqdl4a/ai0rVdfuotP0+50FoI7q4bZGXDsSpY8DqOvqPWqPhjV7DXv2gPHWo6Rcpd2cuhqI5487ZNqxqSp7jKkZHBxXtep6Lpet26wazptnqEKNuWO7gWVVPqAwPNEei6XDdNdQ6bZx3DQC3aVYFDmIdIycZ2/7PSs7aW8mvvv/AJjTtt1t+DX+R4J4UH/GF+p/9cbr/wBHGj4kqF/ZL8L7QB+7sTwP+mZr3eLw9osGito8GkWEWmOCGsUtkELAnJzGBt5PPSi58PaLe6TFpV5pFhcadCFEVnLbI0KbeFwhGBjtgcVT1lf/AA/+S3FH3fx/Et2hJsoCTkmNck/SpqQAKoVQAAMADtS027u4oqySCiiikMKKKKACiiigAooooAKKKKACiiigDyD9pv8A5I+3/X/D/wCzV1Gh/FPwRdxafp9r4lsZbuZY4Y4Vc7mcgAKOOueK6vU9I03W7P7JrOn2uoW24N5N3AsqZHQ7WBGay7bwD4Os7qK5tPCehwTwuJIpYtNhVkYHIYELkEHuKUFZu/V3/CwS1tbojw7WPiPrnjjwz4id/F+k+GYUNxaReH1sxcXt2ApGxgxyC2cZQcfhVG8Al+CnwkWUB1bXYlIYZBHmOMV9HJ4e0WLVZdTj0ewS/mBEl2tqglcHqC+Mn86afDOgtZWlm2iacbaxkEtrAbSPZbvnO5FxhTknkYpx0Vv8P4f5hL3n/wCBficN8f4bf/hVc17O80c2n3kF1ayRR7wkwbapcf3PmOT+h6Vw/grxfZeO/ijour+LfGHh973S0ki06x0y2uYRNJKNpLNOq5Poozk4/H1P4j+C73xjpunf2TqSWF/pd6l9b+fF5kMjr0V19PftXON8PvGPi7XNIu/iLf6DHaaPdrdwW+iQSbp3X7u+STlRnqB1/UFPSWvf9ErhPWOnb9djzjRtF0qy+I/jHTfG/jjXvCV7JqL3du1rqYs4buFySHyykMwGO/fA6GvXfhFpXhbTfDuoSeC9bv8AW7S6v5JJ7u+fezTAANg7FyDgHPOc9a67VdA0fXVjXW9JsdREZygu7ZJdh9twOKuW9vDa26QWsUcMMY2pHGoVVHoAOBRH3Y28rBLWV/O5JRRRQAUUUUAFFFFABRRRQAUUUUAFFFFABRRRQAUUUUAFFFFABRRRQAUUUUAFFFFABRRRQAUUUUAFFFFABRRRQAUUUUAFFFFABRRRQAUUUUAFFFFABRRRQAUUUUAFFFFABRRRQAUUUUAFFFFABRRRQAUUUUAFFFFABRRRQAUUUUAFFFFABRRRQAUUUUAFFFFABRRRQAUUUUAFFFFABRRRQAUUUUAFFFFABRRRQAUUUUAFFFFABRRRQAUUUUAFFFFABRRRQAUUUUAFFFFABRRRQAUUUUAFFFFABRRRQAUUUUAFFFFABRRRQAUUUUAFFFFABRRRQAzyl9W/77P+NHlL6t/32f8AGn0UAM8pfVv++z/jR5S+rf8AfZ/xp9FADPKX1b/vs/40eUvq3/fZ/wAafRQAzyl9W/77P+NHlL6t/wB9n/Gn0UAM8pfVv++z/jR5S+rf99n/ABp9FADPKX1b/vs/40eUvq3/AH2f8afRQAzyl9W/77P+NHlL6t/32f8AGn0UAM8pfVv++z/jR5S+rf8AfZ/xp9FADPKX1b/vs/40eUvq3/fZ/wAafRQAzyl9W/77P+NHlL6t/wB9n/Gn0UAM8pfVv++z/jR5S+rf99n/ABp9FADPKX1b/vs/40eUvq3/AH2f8afRQAzyl9W/77P+NHlL6t/32f8AGn0UAM8pfVv++z/jR5S+rf8AfZ/xp9FADPKX1b/vs/40eUvq3/fZ/wAafRQAzyl9W/77P+NHlL6t/wB9n/Gn0UAM8pfVv++z/jR5S+rf99n/ABp9FADPKX1b/vs/40eUvq3/AH2f8afRQAzyl9W/77P+NHlL6t/32f8AGn0UAM8pfVv++z/jR5S+rf8AfZ/xp9FADPKX1b/vs/40eUvq3/fZ/wAafRQAzyl9W/77P+NHlL6t/wB9n/Gn0UAM8pfVv++z/jR5S+rf99n/ABp9FADPKX1b/vs/40eUvq3/AH2f8afRQAzyl9W/77P+NHlL6t/32f8AGn0UAM8pfVv++z/jR5S+rf8AfZ/xp9FADPKX1b/vs/40eUvq3/fZ/wAafRQAzyl9W/77P+NHlL6t/wB9n/Gn0UAM8pfVv++z/jR5S+rf99n/ABp9FADPKX1b/vs/40eUvq3/AH2f8afRQAzyl9W/77P+NHlL6t/32f8AGn0UAM8pfVv++z/jR5S+rf8AfZ/xp9FADPKX1b/vs/40eUvq3/fZ/wAafRQAzyl9W/77P+NHlL6t/wB9n/Gn0UAM8pfVv++z/jR5S+rf99n/ABp9FADPKX1b/vs/40eUvq3/AH2f8afRQAzyl9W/77P+NHlL6t/32f8AGn0UAM8pfVv++z/jR5S+rf8AfZ/xp9FADPKX1b/vs/40eUvq3/fZ/wAafRQAzyl9W/77P+NHlL6t/wB9n/Gn0UAM8pfVv++z/jR5S+rf99n/ABp9FADPKX1b/vs/40eUvq3/AH2f8afRQAzyl9W/77P+NHlL6t/32f8AGn0UAM8pfVv++z/jR5S+rf8AfZ/xp9FADPKX1b/vs/40eUvq3/fZ/wAafRQAzyl9W/77P+NHlL6t/wB9n/Gn0UAM8pfVv++z/jR5S+rf99n/ABp9FADPKX1b/vs/40eUvq3/AH2f8afRQAzyl9W/77P+NHlL6t/32f8AGn0UAM8pfVv++z/jR5S+rf8AfZ/xp9FADPKX1b/vs/40eUvq3/fZ/wAafRQAzyl9W/77P+NHlL6t/wB9n/Gn0UAM8pfVv++z/jR5S+rf99n/ABp9FADPKX1b/vs/40eUvq3/AH2f8afRQAzyl9W/77P+NHlL6t/32f8AGn0UAM8pfVv++z/jR5S+rf8AfZ/xp9FADPKX1b/vs/40eUvq3/fZ/wAafRQAzyl9W/77P+NKI1Bzlv8Avo06igAooooAKKKKACiiigAooooAKKKKACiiigAooooAKKKKACiiigAooooAKKKKACiivKvjFr/jeCxvNM8GWEtjbQ2El7e67I21UjUEmOIjJ8w469RnjH3hMpWRUY8zseq0VxnwhvrvU/hJ4fvNSupru6mti0k88hkdzvbkseTXZ1pKPLJozhLmipdwoooqSgooooAKKKKACiiigAooooAKKKKACiiigAooooAKKKKACiiigAooooAKKKKACiiigAooooAKKKKACiiuD8WajqWtePdN8E6PqM+lxSWb6jqV3a4EwhDBEjRiDtLNnJ6gDijrZD6XO8orzmN9R8A+PtE0uTWdQ1XQtf8AMt0XUpvPltLlF3qRKfmKsARg5wRXd6rdz2Gk3V1Z2MuoTwxl47WFlVpmA4UFiAM0O1ri62LdFeV+Cbzxb/wuPVLXxfqId5dFivF063c/Z7MtMyhFGcMwC8vjJJPbFaOoz6j41+JGo+GrXVr3StH0O3he9fT5PKmuZ5QWVBKOVVVGTtwST1os9PP9L/5CTTv5frb/ADPQ6K8/8PXmpeGPiRJ4O1LVLrVbC8sTfaZc3rB54ijbZInfguOQwJ5xxk16BRpa6H1sFFFFABRRRQAUUUUAFFFFABRRRQAUUUUAFFFFABRRRQAUV5/rdzqXiz4kSeErDVLvStL0yyS61Gexfy55pJCRHEsnVBhSxI5PTIpNIutR8IfEm28KX2q3eq6Vq1nJcafLfv5k8EsRG+MyYy6lSCC3IxjNC1t53/C/+QPS/lb8bf5noNFYPi+LxDc6PHaeFJY7a6uLiOOa7faTbQE/PIqnhmA4A9643VbK/wDAXibwydJ8Sazqn9raktld2Gp3f2nzYyjFpUyMoVxk7cLjtQtXbzsD0V/K56hRXmtmuofEfxRrzSa5qel6Ho14dPtoNMnNu88yAGSR5B8xAJwFBxxzmtHwPq2p2vibXfB2u30mpT6V5VxZ30yqJJ7aUHaHxgFlIKk4GeDQtfnr/Xy19Ael/L+vz0O5ooooAKKKKACiiigAooooAKKKKACiiigAooooAKKKKACiiuB8UX+p6/8AEKy8FaTqVxpVsti2o6nd2hCzGPfsjiRjnZk5JYDOBxR1sg6XZ31FedW8uoeBPiFpGiTavf6romvJLHB/aMvnTWtxGu/AkPzMrLnhs4I681s/FDVptE+GOuXlrcta3H2fyYZ0fYY3kIRWDDoQWBz2oe10NL3rM6yivP8AwtoHhu61CK40bxzq2tT2bBpYV8SyXMe4dnQORjPY8VC51Hx/481vTV1jUNK0LQWjt2XTZvIlurll3sWlHzBVBAwCMk80dbEp6XPRqK4Pwlqeo6P481PwTrGpTaokVomoabd3ODMYC2xkkIA3FWAw3Ug813lHS4+tmFFFFABRRRQAUUUUAFFFFABRRRQAUUUUAFFFFABRRRQAUUUUAFFFFABRRRQAUUUUAFFFFABRRRQAVzPxHYD4Y+JQSATpdxjn/pm1dNXMeLfhz4V8dTW0virSvtz2qssJ+0SxbAxBP3GGeg61MlzK3cuEuWSl2Mv4JsD8GPDYBGRanjP+21d3XK+E/hp4S8D3s934W0n7DPcR+VK/2mWTcuc4w7EDn0rqq1nLmk5dzGnFxio9goooqCwooooAKKKKACiiigAooooAKKKKACiiigAooooAKKKKACiiigAooooAKKKKACiiigAooooAKKKKACvObzbo/wC0RZXl4RHBrWhtZW8jHAM8Uu/Z9SrZH0r0as7XPD+leJdNNhrtjDe2xYMEkHKsOjKRyp9wQaNU01/Wlv1DRpp/1rc4rx4V1b4m+BdFtTvubW9k1S4VTzFDHGVDN6BmYAetd/aXtrfxNLY3MNzGrlC8MgcBgcFcjuDwRWX4e8G6B4V886FpyW8lxjzp2dpZZcdA0jksQPQmn6R4T0TQdFuNI0ewWzsbl5HliidhuZ/vHOcj8Dx2xRsrL1+f/DIN3f5fLX9WctZf8nGap/2Ldv8A+lD1F4Y26P8AHHxjY3ZEcmsQ2l/Z7jjzURDHIB67SB+dXV+Dfghbo3K6deicqEMv9sXm4qDkDPm5xntXQ+IPCWh+KbeGHXdPS68ht0Mm5kkiPqsikMv4EU72St5r73f+vQm2rv1s/uSX+f3nI3ZXWf2htNWzPmLoOjzPdspyI3nYBEPuVUtj0r0asrQPDOjeFrFrTQNPisonffJsyWkb+8zHLMfckmtWlskv63b/AFH1b7/5JfoFFFFAwooooAKKKKACiiigAooooAKKKKACiiigAooooA850kJo37QXiGK7byzr+m21xaFjgSGEFHVfUgEHHoc0mvBNY+PvheC1cOdBsbu8vCp4iEqiNFb0J5OPQZrsfEHhfRfFNmltr1hHdpE2+JiSrxN/eR1IZT7gimaJ4Q0Hw7p09jo+mRW8Fzn7RyXefIwd7sSzcepNCbVvK/62+6/4Dbu352/T/L8Rmo+MdE0yHS7ie8SS11S5Frb3UJDw+YQcZcHABKkZ9eK4Xxpotj4L8Y6L4l8NNLFrmr6tFZ3Nu8zzC8hkYmQBXJ2bfvZXAFdzbeCvDlr4THhmLSLc6KAQLOQGROW3E/MSc5Oc5zVfQvh54W8N6h9v0jSlS7ClEnmmkneNf7qGRmKD2XApqylfs/w7fMTvy2/r1Oe+Fm3S9X8ZeHrkhL231ya9EbHl4J8OjgenUfUUeGCur/HHxZrFofMtLGyttLMqnKtMCZHUH1XIB9Ca6fxD4H8O+KbiK41vTVnuIVKpcRyvDKF/u74yrFfbOK0dH0XTfD+lxadotlDY2cX3IYU2gep9ye5PJpLo30Vvwt+Qmk7ru7/jf8y9RRRQMKKKKACiiigAooooAKKKKACiiigAooooAKKKKACvOZCmj/tEpPeMI4tc0MW9q7HAeaGXcyD32sDj616NWbrvh3SPE2n/AGHXrCK9twwdVkHKMOjKw5U+4INGzT/rZr9QaTTT/qzv+hxnjRl1b4ueB9ItGEk9hLPqd0FOfJiEexS3puZsD6V2N3JoOuaX5d8+najYTSiLZMY5YpJA33cHILBh065FQ+H/AAfoPhaOddD06O3a4OZ5WZpJZfTdI5LN+JqrH8PPCcXhlvD66FatpTStP9mkBcCRjksCSSD6EHjoKVklZevz/wCGQbu/y/P9fwOS+I2kaXpWv+Drnw/Z29lr761DFCbSNY3lt+fOVsDlAnXPSrngJk0n4k+OtEuW2XNxfJqkCscGWGSNQWX1AZSD6V0mg+AvDXhm8a80fS1ju2TZ9pmleeUL/dDyMzBfYHFTeIfBugeKvJbXdOS4lgz5M6SPFLGD1CyIQwB7gHBprT8fxt/l+LB6/h+v+ZydiF1j9orUL+zYSW+jaEljO68gTySmTZn1CjJHbIr0es7Q/D+leGtNWw0KwhsbYMW2RL95j1Zj1Y+5ya0afRLt/nf9Qbbbb/qyt+gUUUUgCiiigAooooAKKKKACiiigAooooAKKKKACiiigAooooAKKKKACiiigAooooAKKKKACiiigAooooAKKKKACiiigAooooAKKKKACiiigAooooAKKKKACiiigAooooAKKKKACiiigAooooAKKKKACiiigAooooAKKKKACiiigAooooAKKKKACiiigAooooAKKKKACiiigAooooAKKKKACiiigAooooAKKKKACiiigAooooAKKKKACiiigAooooAKKKKACiiigAooooAKKKKACiiigAooooAKKKKACiiigAooooAKKKKACiiigAooooAKKKKAGbG/56t+Q/wo2N/z1b8h/hT6KAGbG/56t+Q/wo2N/wA9W/If4U+igBmxv+erfkP8KNjf89W/If4U+igBmxv+erfkP8KNjf8APVvyH+FPooAZsb/nq35D/CjY3/PVvyH+FPooAZsb/nq35D/CjY3/AD1b8h/hT6KAGbG/56t+Q/wo2N/z1b8h/hT6KAGbG/56t+Q/wo2N/wA9W/If4U+igBmxv+erfkP8KNjf89W/If4U+igBmxv+erfkP8KNjf8APVvyH+FPooAZsb/nq35D/CjY3/PVvyH+FPooAZsb/nq35D/CjY3/AD1b8h/hT6KAGbG/56t+Q/wo2N/z1b8h/hT6KAGbG/56t+Q/wo2N/wA9W/If4U+igBmxv+erfkP8KNjf89W/If4U+igBmxv+erfkP8KNjf8APVvyH+FPooAZsb/nq35D/CjY3/PVvyH+FPooAZsb/nq35D/CjY3/AD1b8h/hT6KAGbG/56t+Q/wo2N/z1b8h/hT6KAGbG/56t+Q/wo2N/wA9W/If4U+igBmxv+erfkP8KNjf89W/If4U+igBmxv+erfkP8KNjf8APVvyH+FPooAZsb/nq35D/CjY3/PVvyH+FPooAZsb/nq35D/CjY3/AD1b8h/hT6KAGbG/56t+Q/wo2N/z1b8h/hT6KAGbG/56t+Q/wo2N/wA9W/If4U+igBmxv+erfkP8KNjf89W/If4U+igBmxv+erfkP8KNjf8APVvyH+FPooAZsb/nq35D/CjY3/PVvyH+FPooAZsb/nq35D/CjY3/AD1b8h/hT6KAGbG/56t+Q/wo2N/z1b8h/hT6KAGbG/56t+Q/wo2N/wA9W/If4U+igBmxv+erfkP8KNjf89W/If4U+igBmxv+erfkP8KNjf8APVvyH+FPooAZsb/nq35D/CjY3/PVvyH+FPooAZsb/nq35D/CjY3/AD1b8h/hT6KAGbG/56t+Q/wo2N/z1b8h/hT6KAGbG/56t+Q/wo2N/wA9W/If4U+igBmxv+erfkP8KNjf89W/If4U+igBmxv+erfkP8KNjf8APVvyH+FPooAZsb/nq35D/CjY3/PVvyH+FPooAZsb/nq35D/CjY3/AD1b8h/hT6KAGbG/56t+Q/wo2N/z1b8h/hT6KAGbG/56t+Q/wo2N/wA9W/If4U+igBmxv+erfkP8KNjf89W/If4U+igBmxv+erfkP8KNjf8APVvyH+FPooAZsb/nq35D/CjY3/PVvyH+FPooAZsb/nq35D/CjY3/AD1b8h/hT6KAGbG/56t+Q/wo2N/z1b8h/hT6KAGbG/56t+Q/wo2N/wA9W/If4U+igBmxv+erfkP8KNjf89W/If4U+igBmxv+erfkP8KNjf8APVvyH+FPooAZsb/nq35D/CjY3/PVvyH+FPooAZsb/nq35D/CjY3/AD1b8h/hT6KAGbG/56t+Q/wo2N/z1b8h/hT6KAGbG/56t+Q/wo2N/wA9W/If4U+igBmxv+erfkP8KNjf89W/If4U+igBmxv+erfkP8KUIwP+sY+2B/hTqKACiiigAooooAKKKKACiiigAooooAKKKKACiiigAooooAKKKKACiiigAooooAKKK848QX3j7xD46uvD/hSQ+GtKsYFkl1u50/z/ALTI3OyIP8jAdD6YPtk62Dpc9Horzn4ZeMtc1TxB4i8J+LXtrnVNAlRftttHsW5jcHBK9A3Hbjn259Go6JrqHVrsFFFFABRRRQAUUUUAFFFFABRRRQAUUUUAFFFFABRRRQAUUUUAFFFFABRRRQAUUUUAFFFFABRRRQAUUUUAFFFcX4t8Q6vJ4r03wh4VngtNRvYHvLq9mi837JbqQu5UyAzMxwM8cGjrYPM7SiuBstY8QeFfHGm+H/FOqR61Ya0kgsdQNssE0c6DcYpAnyEFckEAHIIrY8e+KJ/C3h+OXTbeO51S+uorGwglJCPNIcAtjnaBlj7Cj0DqdNRXmutX3jL4f2EPiDWvEEOv6Yk0a6nbGwSA28bsFMkLJyQpI4fORnkV0us6Dr+qah9q0fxpd6Tasi7baGxtpVz/AHt0iFufrQB0tFeaeELzxPN8VNV0ufxTca1o2j2qpdNPZW8WbqTlUUxoD8q8nnqQK9Lo6Jh1aCiiigAooooAKKKKACiiigAooooAKKKKACiiigAooooAKK4fxBrmuat45Xwh4UvItMaC0F5qOpPAJmhVm2xxxo3y72wTlsgAdDSaHrmt6N46Xwj4rvotT+12jXem6ksAheUIQJI5EX5dwyCCoAI7ULX8fw/4Zg9P67/8OjuaK57xjqWuWOm20HhaxFzqF9cpbrNJGXitFOS00gGOFA6ZGSRXM3Wo+KfA/iPQI9d8QR+IdN1q9FhIJLKO3lt5WUlWTZgFMqQQ2SPU0LV2+QPRX+Z6PRXnvxO8Y+ING02+svB2nO19b2L3txqVzERb2kSgngkYkkO0gKMgdTxXW+F7yfUfCOkXt5J5lxc2UMsr7QNzMgJOBwOT2oWqb7f8H/IHo0u//A/zNWiiigAooooAKKKKACiiigAooooAKKKKACiiigAooooAKKK4rxVr+s3HjCw8H+FLiGzvbi2e9vb+aHzfskAYKNqHhnZjgZ4AB4NHWwdLna0Vwenazr/hnx1YeG/FOpR6xaavDI2n6j9mWCVZYxlopFT5DleQQB0IxXReLdR1bS/Ds03h3Tv7R1N3SK3hbOxWZgN7452qCWP0o6XDrY2qK801m88Z+BW0vVdU8SQ69Z3V/BZ3lk+npBs81toaFkO7gkcNuyM8itLxNda9qnxE0/w54f1+XRYl02W+u5YbaGZm/eIkYxIrYH3+npRvt5/gr/kHr/WtvzO5orH8PaVqulQzLrPiK51x5GBR57aGHygOwEarnPvmtigAooooAKKKKACiiigAooooAKKKKACiiigAooooAKKKKACiiigAooooAKKKKACiiigAooooAKKKKACuI+JPxGg8EafDa2MB1LxDqJ8rTtOiGWkc8bmA5Cg/n09SO3rzXXPgho+ueMrnxQ/iPxLY6ncHiSyvUj8pcY2ofLLKuO2e5qXdu3Qa01Lvwr8BXPhDTb3UdfuPtfiPW5ftOpTA5CtyRGvsMn8T6Yrva5Twj4DXwleXFwvifxJrPnxhPK1jUPtCJznco2jB7Zrq6tkq/UKKKKQwooooAKKKKACiiigAooooAKKKKACiiigAooooAKKKKACiiigAooooAKKKKACiiigAooooAKKKKACvO2Bs/wBpFJLgkJqHhsx2xPRnjn3Oo98MDXolYniXwnpviq3t01Dz4bi0k820vLSUxT2z4xuRx044IOQe4ou00/61TX6ho01/W6f6HLfEQfa/iB8PrC3ObkarJdkL1WKOI7yfQfMB+NHxYH2e98FalKdtrZ+IoDO3ZA6sgY+2SB+Nb/h7wLp2gapNqr3eoatqs0XktqGp3HmyrHnOxcAKi55woGe9M034e6HYeEr3w3OtxqWm300k06X8xlYl23EBuCMHoeuec55oWlvW/wCK0+5feJpSvfqrfnr97M340zJF8H9ejbmS5hW3hTu8juqqB75NafiLX18D/DmTUrsebNZ2iRxx9TNMQFRB6ksQKp2Hwy0u21Gzu9R1TWdaXT3Ellb6ne+dFbOOjKuBuYdi+4j1rZ17wtY+I73Sp9SknaPS7oXcdsjARyygYUuCMnbnIAI565pcq187fd/nq/wKvqvK/wB/+WiKHw68NTeGPB0EGoMJNUvHa91GXvJcSHc/Pt90ewrqaKKpu7JWgUUUUhhRRRQAUUUUAFFFFABRRRQAUUUUAFFFFABRRRQB514fU2X7QHi6K5c79Q02yubZW7xoGjbH0b+dJ4mU3vx78FQ2zZksLO+urkL/AAxsqxrn2Lfyrp/Evg3TvE8trdXEt3Y6hZFvsuoWE3lTwhvvANyCp7qwI9qj0HwPpmg/bpo576+1DUE8u61K9uDJcSKBgDcMBQM8BQAKE2rPtf8AW35jerfnb9L/AJG3qGoWmladPf6lcR21rboZJZpGwqKOpJrz/wAPW158RPFVn4y1WCS00LTS50KylUq87MMG6kHbIzsXsDn62tQ+EGj6j4J0zws+r61Hp2nTGZdtxGzTNuLDzN6MGAJ4GAKvWXgG6s7uCb/hOPFM6QureRLcW/luAc7WAhBwehwRxTVua/3f5/1/lZPa39en+f3d72/iN/yTDxN/2C7j/wBFtVrwV/yIOgf9g23/APRa1V8XeDF8X25t59e1jTbWSFoJrfT5Y0SZW67t8bHpxxipPCnhL/hE7U20eu6vqkAjSKKLUZY3ECqMAJsRe2OuegpR2d+tvwv/AJhLpbpf8bf5HQ0UUUAFFFFABRRRQAUUUUAFFFFABRRRQAUUUUAFFFFABXncI+x/tH3JuDgah4dQWxPRjHMd6j3G4H8a9ErD8TeEdM8VR2xvzcW91ZuZLS+s5TFPbMRglHHqOCDkHuKNpJ/1qmv1BpNNP+rNP9Dl/Hn+l/FD4fWNvzcR3lxduB1WJISCT7EsBXcalq+n6Otu2p3UdstzOltCZDgPI3Cr9TWP4e8DaboGo3Gpm5v9U1W4jEMmo6jP5s3lg52LgBUXPOFA5qCz+HGg23gufwvcC6v9Onmedjd3BeUOzb8q4wQQeQRz9TmklZfj+X6L7werv8vz/X8DlviTpc3hnUrTx0NTutTS0voVGjX5WS3TzHWPdAoAKSDcSGO49a67Xvh34U8UasNT8QaPHfXXkCDdLI+NgJIG0Nt6knOM1Tsvhnp0Oo2l3qur63rv2FxJaQareebFA46MFCruYdi24j1qzrPgO31XWZNUtdc13R7uZVWc6dfFUlAGBlHDKMDuADT2SXn+gat3/rcw/h4kmjeOfFvhazuZ7jRdMNrJZpNK0ptTKhLwh2JJUYBAPTNei1keHPDGmeFtPe00mJx50hmnmmkaWWeQ9Xd2JLMfetem+gdQooopAFFFFABRRRQAUUUUAFFFFABRRRQAUUUUAFFFFABRRRQAUUUUAFFFFABRRRQAUUUUAFFFFABRRRQAUUUUAFFFFABRRRQAUUUUAFFFFABRRRQAUUUUAFFFFABRRRQAUUUUAFFFFABRRRQAUUUUAFFFFABRRRQAUUUUAFFFFABRRRQAUUUUAFFFFABRRRQAUUUUAFFFFABRRRQAUUUUAFFFFABRRRQAUUUUAFFFFABRRRQAUUUUAFFFFABRRRQAUUUUAFFFFABRRRQAUUUUAFFFFABRRRQAUUUUAFFFFABRRRQAUUUUAFFFFABRRRQAUUUUAMxJ/fX/AL5P+NGJP76/98n/ABp9FADMSf31/wC+T/jRiT++v/fJ/wAafRQAzEn99f8Avk/40Yk/vr/3yf8AGn0UAMxJ/fX/AL5P+NGJP76/98n/ABp9FADMSf31/wC+T/jRiT++v/fJ/wAafRQAzEn99f8Avk/40Yk/vr/3yf8AGn0UAMxJ/fX/AL5P+NGJP76/98n/ABp9FADMSf31/wC+T/jRiT++v/fJ/wAafRQAzEn99f8Avk/40Yk/vr/3yf8AGn0UAMxJ/fX/AL5P+NGJP76/98n/ABp9FADMSf31/wC+T/jRiT++v/fJ/wAafRQAzEn99f8Avk/40Yk/vr/3yf8AGn0UAMxJ/fX/AL5P+NGJP76/98n/ABp9FADMSf31/wC+T/jRiT++v/fJ/wAafRQAzEn99f8Avk/40Yk/vr/3yf8AGn0UAMxJ/fX/AL5P+NGJP76/98n/ABp9FADMSf31/wC+T/jRiT++v/fJ/wAafRQAzEn99f8Avk/40Yk/vr/3yf8AGn0UAMxJ/fX/AL5P+NGJP76/98n/ABp9FADMSf31/wC+T/jRiT++v/fJ/wAafRQAzEn99f8Avk/40Yk/vr/3yf8AGn0UAMxJ/fX/AL5P+NGJP76/98n/ABp9FADMSf31/wC+T/jRiT++v/fJ/wAafRQAzEn99f8Avk/40Yk/vr/3yf8AGn0UAMxJ/fX/AL5P+NGJP76/98n/ABp9FADMSf31/wC+T/jRiT++v/fJ/wAafRQAzEn99f8Avk/40Yk/vr/3yf8AGn0UAMxJ/fX/AL5P+NGJP76/98n/ABp9FADMSf31/wC+T/jRiT++v/fJ/wAafRQAzEn99f8Avk/40Yk/vr/3yf8AGn0UAMxJ/fX/AL5P+NGJP76/98n/ABp9FADMSf31/wC+T/jRiT++v/fJ/wAafRQAzEn99f8Avk/40Yk/vr/3yf8AGn0UAMxJ/fX/AL5P+NGJP76/98n/ABp9FADMSf31/wC+T/jRiT++v/fJ/wAafRQAzEn99f8Avk/40Yk/vr/3yf8AGn0UAMxJ/fX/AL5P+NGJP76/98n/ABp9FADMSf31/wC+T/jRiT++v/fJ/wAafRQAzEn99f8Avk/40Yk/vr/3yf8AGn0UAMxJ/fX/AL5P+NGJP76/98n/ABp9FADMSf31/wC+T/jRiT++v/fJ/wAafRQAzEn99f8Avk/40Yk/vr/3yf8AGn0UAMxJ/fX/AL5P+NGJP76/98n/ABp9FADMSf31/wC+T/jRiT++v/fJ/wAafRQAzEn99f8Avk/40Yk/vr/3yf8AGn0UAMxJ/fX/AL5P+NGJP76/98n/ABp9FADMSf31/wC+T/jRiT++v/fJ/wAafRQAzEn99f8Avk/40Yk/vr/3yf8AGn0UAMxJ/fX/AL5P+NGJP76/98n/ABp9FADMSf31/wC+T/jRiT++v/fJ/wAafRQAzEn99f8Avk/40Yk/vr/3yf8AGn0UAMxJ/fX/AL5P+NGJP76/98n/ABp9FADMSf31/wC+T/jRiT++v/fJ/wAafRQAzEn99f8Avk/40Yk/vr/3yf8AGn0UAMxJ/fX/AL5P+NGJP76/98n/ABp9FADMSf31/wC+T/jRiT++v/fJ/wAafRQAzEn99f8Avk/40Yk/vr/3yf8AGn0UAMxJ/fX/AL5P+NKBJnllx/u//Xp1FABRRRQAUUUUAFFFFABRRRQAUUUUAFFFFABRRRQAUUUUAFFFFABRRRQAUUUUAFFFee+JvGvieTxsfCXgHRrS5voLcXF3f6ozrawA9F+TlieOh/rhdbB0uehUVwfw/wDHmp+INd1rw14p0yCw13RShnNpIXgmRxkMmeR24Oeo9wO8qulw62CiiikAUUUUAFFFFABRRRQAUUUUAFFFFABRRRQAUUUUAFFFFABRRRQAUUUUAFFFFABRRRQAUUUUAFFFFABRRXKeLPFd/pusab4e8NWcF7rmpK8iC5kKw20KY3SyY5IyQAByT3pAdXRXE6V4q13TvGFr4a8b22nrPqELy6ff6cXWGcpgvEUcllcA56kEVseMvFMXhDw6+ovbveXDypb2lpGwVriZ22ogJ6ZJ5PYAmm9FcFvY3qK88vfFnjHwktrqXjWy0Z9GnnSG4k015BJp5c7VZ9+RIuSASNuM5xXXeJPEVh4W8PXWsapJtt7dcgLy0jHhUUd2JwAPeh6K4LV2NWisTwjda/f+HobzxVbWtne3BMq2lurf6PGfuo5Ync4HUjAzxjitum1Z2Yk7hRRRSGFFFFABRRRQAUUUUAFFFFABRRRQAUUUUAFFFFABRXH+I/FWqr4pt/CvhC0tLjVpLY3dxcXzMILOHdtBYL8zMxyAoI6ZzR4e8VasPFUvhbxhaWkGqC2+12tzYs3kXkQO1tqt8yMpIypJ65zQtf67A9DsKKztf1/TvDOiz6rrNwLe1gA3NjJYk4CqByWJ4AHWuV+HnjnV/F+teIbbWNHGkJp0kH2e3fPnhJELAy8kBiMHAAxnBziha3sD0O7orlNTh+ILalOdHv8AwzHYlv3K3VlcPKF/2isoBP0ArO8AeJ/Euv8AiLxDZa4dJnstImS1S706CSMST4zIvzyNkLkA9OTQtQeh3lFFFABRRRQAUUUUAFFFFABRRRQAUUUUAFFFFABRRRQAUUVyXirxXqFjr2n+GvC9nb3mt6hG8+bqQrDawJgGWTb8x5IAUdT3GKPIDraK4vR/FWt2Xi+Hwx41trBLu9geewvtPZxDc7Mb4yj5ZHUEHqQR9K1/GHiU+FtAN7DZSahdyzR21paRnaZpnbaqk/wjuT2ANHRPv/wwdbG7RXntz4q8Y+Fb7TJvGdnos2l6jdx2bSaW0oks5JDhN2/IkXPBI29elX9c8U61ceL38LeDbWxe+t7Zbq9vNRZ/JtkckIoRMM7nBOMgADrR/X6/kH9fodnRXJeGPFGq3HiK+8M+KrS1t9YtIEuklsXYwXUDErvUN8ykMMFTntgmutoDyCiiigAooooAKKKKACiiigAooooAKKKKACiiigAooooAKKKKACiiigAooooAKKKKACiiigAooooAKx9Xmk1ex1HSvDuvW9hrMaL+9RUne0JPDNET3AOM1sVwHiX4YTX/AItfxR4R8SXPhjWp4hDdSxW6XEVwo6bo2IBOABnPYcUnroNdzmfhEbnRPiZ4v8NeIxFf+IR5d3PrSM2buMgbVKnhNocYC8duwJ9lrj/A/wAPLXwdc6hqVxqN1rGt6mwN5qN1gNJjoqqOFX25/QY7Cq6JdkT1bCiiikMKKKKACiiigAooooAKKKKACiiigAooooAKKKKACiiigAooooAKKKKACiiigAooooAKKKKACiiigArzpQY/2lXNx0m8MAW5I67bj5wD+IOK9FrnPFXhBPEU9jqFnqE2k6xprM1nfwKrlAwwyMjcOh7qfTqKE7ST9fxTX6hvFr+tGn+hz3xIy/jn4eQwH/STrLyAd/LWFvM/DBFHxVymreBJpDi2j8SQeaT0BKOFz+Na+h+Cbm28RjxD4n1yTXdWiha3tn+zrbw2qNy3lxgnDHHLEk44pkfgA3vgq88PeKdcvdb+0XLzpeyYjmgO7dHsIzgoQMHp7AcUL3bet/y0+5CaUr+at+ev4lb40vGnwb8R+bj5rYIgPdy6hQPfOK5jUNI1Px38SrDQ7jVrjTLHwxptveSfZ0QyS3UqkBhvVlG0KcEqcHOMHkdKPh7qmp3NkvjHxZPrenWMyzw2Qs0txK6HKNMyk+Zg84G0EgEitHxD4Mn1DX4vEHh7WJND1lIPs0k4gWeK4izuCSRsRnByQQQRk80krS5v60Tt+L/BDeqt/WrV/wAF+Jj6Be654c+JzeEdV1ibXNPvNPa+srm7VBcQFHCvG5RVDA7gQcA9q9CrmPDfg1tI1i61zWdVm1rXLqJYHvJIliWOIHIjjjXhVzyeSSeprp6fRX/rX/IOr/rp/mFFFFABRRRQAUUUUAFFFFABRRRQAUUUUAFFFFABRRRQB534bDx/H3xotyw3S6fYSW4PXygrhse2/P503xWHk+PHgNbb78VtqEk+O0RjUDPtuxW94l8GtrGsWmuaLqsui65aRtCl5HEsqSxMcmOSNsB1zyOQQehqPQvBMunale61rGtTarr13b/ZvtxhWJbeMchIoxkKM8nJJJ6miLas+1/1t+evzHLVvzt+n+WnyOqdEkXbIquMg4YZ5ByD+dcD4L/5K18Q/wDrtY/+k9b+k6DrOk+CU0j/AISSW91WNGC6teW/mMWLEgsm7kAHGN3brXOaJ4A8WaP4pv8AWm8a2c7anNDJfRf2IF8xY12hVPnHbleM4PrTWkn6fqv8hP4Td+IXid/Cng26vbRPN1GYra6fB3luJDtRQO/Jz9Aan8D+GU8I+DrHSA/mzxpvuZicmaZjukcnvlif0pmr+EhrfjLRtZvrzdaaOJJILDyuGuGGBKzZ52rkAY6nOa6OktE/P+v+D9wPdLt+f9fqFFFFABRRRQAUUUUAFFFFABRRRQAUUUUAFFFFABRRRQAV53a5j/aRv/POPN8NxfZ89wJzux+JH6V6JXNeKfB6+ILyx1PT9Rm0jWtO3fZb6BFfCt95HRuHQ4HBxyMgihaST9fxTX6g1eLXp+DT/QwPiB+8+JXw7igP+kf2jcSYHXyxAd5+nIr0QkAEk4A6k1yWheCbiz8Qt4h8R63LresCA20EvkLBDaxk5YRxAnBJAyxJJwBWXqnw88Q6l8PZPDTeObppri5eS51Ce03ySwsSfIwHUqOQMg9MjgHAVrR09fyX5K/3j3d/l+b/AOAUZ52+K3i+zTTx/wAUl4fvRcS3mTjUbuPO1I/WNDyW6E8D1rV1/wAMa7p3jSXxf4QvdNjlubRbfUbTVN6wyJGSVkEiAlWAJHIIxTdJ8H+M9Gs7WxsfGOlw2FqFRLeLw8FAQfwg+fx9efWtrxr4YuPF+irpCaq2nWM0q/bhFEWkuIQeYg24bA3QnB44ptWS5f6vpf7vwC93739df68zkPhdDq/iXxNq/jzXJ4ZIrqIafpgt4mjja3RiWdQxJKs/Qnk4JwMgV6jUVrawWNnDa2cSwwQII440GFRQMAAfSpabtstkSr7vdhRRRSGFFFFABRRRQAUUUUAFFFFABRRRQAUUUUAFFFFABRRRQAUUUUAFFFFABRRRQAUUUUAFFFFABRRRQAUUUUAFFFFABRRRQAUUUUAFFFFABRRRQAUUUUAFFFFABRRRQAUUUUAFFFFABRRRQAUUUUAFFFFABRRRQAUUUUAFFFFABRRRQAUUUUAFFFFABRRRQAUUUUAFFFFABRRRQAUUUUAFFFFABRRRQAUUUUAFFFFABRRRQAUUUUAFFFFABRRRQAUUUUAFFFFABRRRQAUUUUAFFFFABRRRQAUUUUAFFFFABRRRQAUUUUAFFFFABRRRQAUUUUAMzJ/cX/vo/wCFGZP7i/8AfR/wp9FADMyf3F/76P8AhRmT+4v/AH0f8KfRQAzMn9xf++j/AIUZk/uL/wB9H/Cn0UAMzJ/cX/vo/wCFGZP7i/8AfR/wp9FADMyf3F/76P8AhRmT+4v/AH0f8KfRQAzMn9xf++j/AIUZk/uL/wB9H/Cn0UAMzJ/cX/vo/wCFGZP7i/8AfR/wp9FADMyf3F/76P8AhRmT+4v/AH0f8KfRQAzMn9xf++j/AIUZk/uL/wB9H/Cn0UAMzJ/cX/vo/wCFGZP7i/8AfR/wp9FADMyf3F/76P8AhRmT+4v/AH0f8KfRQAzMn9xf++j/AIUZk/uL/wB9H/Cn0UAMzJ/cX/vo/wCFGZP7i/8AfR/wp9FADMyf3F/76P8AhRmT+4v/AH0f8KfRQAzMn9xf++j/AIUZk/uL/wB9H/Cn0UAMzJ/cX/vo/wCFGZP7i/8AfR/wp9FADMyf3F/76P8AhRmT+4v/AH0f8KfRQAzMn9xf++j/AIUZk/uL/wB9H/Cn0UAMzJ/cX/vo/wCFGZP7i/8AfR/wp9FADMyf3F/76P8AhRmT+4v/AH0f8KfRQAzMn9xf++j/AIUZk/uL/wB9H/Cn0UAMzJ/cX/vo/wCFGZP7i/8AfR/wp9FADMyf3F/76P8AhRmT+4v/AH0f8KfRQAzMn9xf++j/AIUZk/uL/wB9H/Cn0UAMzJ/cX/vo/wCFGZP7i/8AfR/wp9FADMyf3F/76P8AhRmT+4v/AH0f8KfRQAzMn9xf++j/AIUZk/uL/wB9H/Cn0UAMzJ/cX/vo/wCFGZP7i/8AfR/wp9FADMyf3F/76P8AhRmT+4v/AH0f8KfRQAzMn9xf++j/AIUZk/uL/wB9H/Cn0UAMzJ/cX/vo/wCFGZP7i/8AfR/wp9FADMyf3F/76P8AhRmT+4v/AH0f8KfRQAzMn9xf++j/AIUZk/uL/wB9H/Cn0UAMzJ/cX/vo/wCFGZP7i/8AfR/wp9FADMyf3F/76P8AhRmT+4v/AH0f8KfRQAzMn9xf++j/AIUZk/uL/wB9H/Cn0UAMzJ/cX/vo/wCFGZP7i/8AfR/wp9FADMyf3F/76P8AhRmT+4v/AH0f8KfRQAzMn9xf++j/AIUZk/uL/wB9H/Cn0UAMzJ/cX/vo/wCFGZP7i/8AfR/wp9FADMyf3F/76P8AhRmT+4v/AH0f8KfRQAzMn9xf++j/AIUZk/uL/wB9H/Cn0UAMzJ/cX/vo/wCFGZP7i/8AfR/wp9FADMyf3F/76P8AhRmT+4v/AH0f8KfRQAzMn9xf++j/AIUZk/uL/wB9H/Cn0UAMzJ/cX/vo/wCFGZP7i/8AfR/wp9FADMyf3F/76P8AhRmT+4v/AH0f8KfRQAzMn9xf++j/AIUZk/uL/wB9H/Cn0UAMzJ/cX/vo/wCFGZP7i/8AfR/wp9FADMyf3F/76P8AhRmT+4v/AH0f8KfRQAzMn9xf++j/AIUZk/uL/wB9H/Cn0UAMzJ/cX/vo/wCFGZP7i/8AfR/wp9FADMyf3F/76P8AhRmT+4v/AH0f8KfRQAzMn9xf++j/AIUZk/uL/wB9H/Cn0UAMzJ/cX/vo/wCFGZP7i/8AfR/wp9FADMyf3F/76P8AhRmT+4v/AH0f8KfRQAzMn9xf++j/AIUZk/uL/wB9H/Cn0UAMzJ/cX/vo/wCFKDJnlVx/vf8A1qdRQAUUUUAFFFFABRRRQAUUUUAFFFFABRRRQAUUUUAFFFFABRRRQAUUUUAFFFFABRRVDXNbsfDmh3er6tMILO0jMkrn0HYepJ4A7k0m0ldjSbdkX6K4n4X/ABFHxK0K+1IaU+li1vGthE83mMwCq24/KMH5unP1rtqpprcW4UUUUgCiiigAooooAKKKKACiiigAooooAKKKKACiiigAooooAKKKKACiiigAooooAKKKKACiiigAooooAKKK5zxV4vTw7PY2Fnp82raxqTMtnYQMqFwoyzs7cIgBGWPr0NAHR0VyWh+Nbm68SDw94m0STQ9WkhNxbL9oW4huo1IDbJABllzypUHHPStjxN4jsfCmgXGr6oZDDDhRHCm6SV2IVURe7EkACh6K4LV2NWiuFX4g6rpt1ZN4w8Jz6Jp9/MsEN4LxLgRO5wizKoHl5PGQWAJAJrS8V+KtQ0TVtJ0rQ9Gj1fUNT85lilvPsyokagsxbY394DGO9AHUUVieHtQ8R3zT/wDCR6Ba6QqBfKMGpfajIec5Hlrtxx65zW3QAUUUUAFFFFABRRRQAUUUUAFFFFABRRRQAUUUUAFFFFABRXL+JfGT6PrFpoejaVLrWuXcTTJaRyrEkcSnBkkkbIRc8DgknoKPDfjJ9W1q50LW9Kl0XW7aITtavMsyTRE48yKQY3Lng8Ag9RQtdgeh1FFV7+/tNL0+e+1G4jtrW3QvLNK21UUdya5TwJ8Rbfx5qGsxWWm3Fpbaa8Qimucq1ykilg+wgFQQARknIIPHSha7A9Ds6K5DX/F2sWfi1PD/AIa8Pw6xciyF7O02ofZViQuUUf6tskkH06VtaBea1e2ckniHSLfSZxJhIYL37SGXA+YtsXHOeOelC1V/67A9Hb+u5q0UUUAFFFFABRRRQAUUUUAFFFFABRRRQAUUUUAFFFFABRRXN+KfGA8P3ljplhp0+r6zqRb7LYwOqZVRlnd24RBkc88ngGgDpKK5TQfGlxe+Im8PeI9Fk0PWDAbiGMzrPDcxg4YxyADJBIypAIyDWp4o8S2XhPQZdU1ESyIrLHHDAu6SaRjtSNB3Yk4oeiuG7sa9FcLH8QNW07UtOh8Y+FJdEtNTnW2trtL6O5VJW+4koUDYT0yNwz3q94m8W6rpfiXT9C8PaFFrF7d2st04mv8A7MsUaMi5zsbOS/t0o/r9fyA6yisfw9fa9fQzN4j0S20h1YCJIL/7V5g7kny12/rWxQAUUUUAFFFFABRRRQAUUUUAFFFFABRRRQAUUUUAFFFFABRRRQAUUUUAFFFFABRRRQAUUUUAFFFFABXhfiPxboHj74pf2Jruuafpvhbw1NvuYr26SE6ldqSAuGIzGhBz6nPqCPdKwLrwH4QvruW6vfCmiXNxMxeSabToXd2PUklck+9C0kn2/Mf2Wjzv4Da3pM9z4ws7bUbSS4uPEN3dQQJMpeSElcSKoOSnuOK9jrz34ZfDSPwPda7dXdnpX2m91KeazmtIvnhtXIKxbioKgY+6MrXoVU9l6L8ier9WFFFFSMKKKKACiiigAooooAKKKKACiiigAooooAKKKKACiiigAooooAKKKKACiiigAooooAKKKKACiiigArzpSZP2lXFx0h8MA24J6brj5yB+AGa9FrlPFnhS+1LWNO8Q+GryCy1zTVeNDcoWhuYXxuikxyBkAgjkHtQnaSfr+Ka/UN4tf1o0/wBDG+JGU8c/DyaAf6SNZeMHv5bQt5n4YAo+KuX1bwJDIM20niSDzQehIRyufxq9pXhTXdR8X2viXxvdae0+nRPFp9hpwcwwF+HlZ3wzuQMdAAKZceDdd8S+CJ9L8ZavbNqqXxurG/sIdotij7oW2nGSO49DjJ60L3bet/xWn4XE1zX13Vvz1/EPjSkb/BvxH5uPltg6E9nDqVI984pNS8Hazr2qaHr9j4lk0W5tNNNuwjso52Jk2MxBkyB9wD7p+tVr7wn4x8XJa6Z42vtGj0aCdJriPTEkMmoFDuVX38RqSASBuJxjNbuuweNotWFz4WutFnsjEEax1KOSMowz86ypuJzkcFe1JKzv/Wz/ADvb5Ib10/rp+VjM8Ia9rsHjTVPB3im6g1K5s7WK9tdRhh8kzwuxUiRASAwYY44I7Cu5rlfCnhS903WdR8Q+I72G+1vUlSJzbRlIbeFM7YowSSRkkknkk9q6qq6K+4ur7f1+oUUUUhhRRRQAUUUUAFFFFABRRRQAUUUUAFFFFABRRRQB534bLyfH3xo1yo3RafYR25PXyirlse2/P5U3xWXj+PHgNrb78ttqEc+O8QjUjPtuxWt4j8Kaq3iqDxV4Qu7S31aO2NpcW98rGC8h3bgGK/MrKckMAeuMVHovhTW28R3PinxRe2UutG0NpZQWaObayQnJwWwzszYySBwMAURdrO21/wBfzv8AmOWrfnb9P8jqdT0qw1mz+yatZwXlvvVzFOgdSykFTg+hArifBQx8WviEBwPOsf8A0nroNJh8W2fglI9VudN1HxIiNmXDRW8jbjtztXIG3AyF69q5Tw74e+Iek+NNX1m6g8MtFrU9u1ykd7cFoUjXYdmYhk455I5prSTXl+q/yE/hNXVvA2uXXjS+8QaL4vk0dru1htvKj06KYgRliMtJnIJcnAAPvU3gHxHq2qT65oniT7PJqmg3a28tzbIUS5RkDpJtJO0kHkZxmpNUh+IMGsXD6Fd+H7zT5iDFFqEcsMlrwBjcm4SDvztPPWrXg3wq/hq2vpr+9/tDVtUuTdX92I9iu+AAqrk7VVQABk0o7eVvxv8A8OEt/wCtrf8ADHR0UUUAFFFFABRRRQAUUUUAFFFFABRRRQAUUUUAFFFFABXndrmT9pG/88Z8rw3F9nz2BnO7H4gfpXolcl4q8J6hfa9p/iXwveW9nrmnxvBi6jLQXUDkExSbfmHIBDDoexoWkk/X8U1+oNXi16fg0/0Mj4gfJ8Svh3LAP9I/tG4jyOvlmA7x9OBXfXNnbXgjF3bxTiKQSxiVA2xx0YZ6EetchpHhTXL3xfD4n8aXdg95ZQPBp9jp6uYLbfjfIXfDO5AA6AAfWqeq6N8S7v4eSaZBrOkf29cXLrLfLvgWO2JOAm1CQ+MDOOOeSRkrVR/H8lb9fvHu/wAPzf8AwCp4kuj8RfGth4Z0XL6XoV/He6zfqRsEsZ3R2yHu27lsfdA9eK2de8E6xqfjT/hIdH8Vy6M/2AWXlxWEUxxvLk5kyBkkZG3PHWszwxovjrwtpFppGl6N4St7CDAO3ULlnbJ+ZyTD8zHk5PU1u6zD47h1mSfw5daHdWEqqFtdRjlieAgckSJu3564IH1p2Stb+na35aCve/8AXW/56lPwR4h1mfxBrvhfxPJBd6hoxhdL+3i8pbqGVSVYpk7WG0ggceldrXMeD/ClxoVzqera1epqGt6vKsl3PFF5caKi7UijUkkKoz1OTkmunpvoHXQKKKKQBRRRQAUUUUAFFFFABRRRQAUUUUAFFFFABRRRQAUUUUAFFFFABRRRQAUUUUAFFFFABRRRQAUUUUAFFFFABRRRQAUUUUAFFFFABRRRQAUUUUAFFFFABRRRQAUUUUAFFFFABRRRQAUUUUAFFFFABRRRQAUUUUAFFFFABRRRQAUUUUAFFFFABRRRQAUUUUAFFFFABRRRQAUUUUAFFFFABRRRQAUUUUAFFFFABRRRQAUUUUAFFFFABRRRQAUUUUAFFFFABRRRQAUUUUAFFFFABRRRQAUUUUAFFFFABRRRQAUUUUAFFFFABRRRQAUUUUAFFFFADN7f88m/Mf40b2/55N+Y/wAafRQAze3/ADyb8x/jRvb/AJ5N+Y/xp9FADN7f88m/Mf40b2/55N+Y/wAafRQAze3/ADyb8x/jRvb/AJ5N+Y/xp9FADN7f88m/Mf40b2/55N+Y/wAafRQAze3/ADyb8x/jRvb/AJ5N+Y/xp9FADN7f88m/Mf40b2/55N+Y/wAafRQAze3/ADyb8x/jRvb/AJ5N+Y/xp9FADN7f88m/Mf40b2/55N+Y/wAafRQAze3/ADyb8x/jRvb/AJ5N+Y/xp9FADN7f88m/Mf40b2/55N+Y/wAafRQAze3/ADyb8x/jRvb/AJ5N+Y/xp9FADN7f88m/Mf40b2/55N+Y/wAafRQAze3/ADyb8x/jRvb/AJ5N+Y/xp9FADN7f88m/Mf40b2/55N+Y/wAafRQAze3/ADyb8x/jRvb/AJ5N+Y/xp9FADN7f88m/Mf40b2/55N+Y/wAafRQAze3/ADyb8x/jRvb/AJ5N+Y/xp9FADN7f88m/Mf40b2/55N+Y/wAafRQAze3/ADyb8x/jRvb/AJ5N+Y/xp9FADN7f88m/Mf40b2/55N+Y/wAafRQAze3/ADyb8x/jRvb/AJ5N+Y/xp9FADN7f88m/Mf40b2/55N+Y/wAafRQAze3/ADyb8x/jRvb/AJ5N+Y/xp9FADN7f88m/Mf40b2/55N+Y/wAafRQAze3/ADyb8x/jRvb/AJ5N+Y/xp9FADN7f88m/Mf40b2/55N+Y/wAafRQAze3/ADyb8x/jRvb/AJ5N+Y/xp9FADN7f88m/Mf40b2/55N+Y/wAafRQAze3/ADyb8x/jRvb/AJ5N+Y/xp9FADN7f88m/Mf40b2/55N+Y/wAafRQAze3/ADyb8x/jRvb/AJ5N+Y/xp9FADN7f88m/Mf40b2/55N+Y/wAafRQAze3/ADyb8x/jRvb/AJ5N+Y/xp9FADN7f88m/Mf40b2/55N+Y/wAafRQAze3/ADyb8x/jRvb/AJ5N+Y/xp9FADN7f88m/Mf40b2/55N+Y/wAafRQAze3/ADyb8x/jRvb/AJ5N+Y/xp9FADN7f88m/Mf40b2/55N+Y/wAafRQAze3/ADyb8x/jRvb/AJ5N+Y/xp9FADN7f88m/Mf40b2/55N+Y/wAafRQAze3/ADyb8x/jRvb/AJ5N+Y/xp9FADN7f88m/Mf40b2/55N+Y/wAafRQAze3/ADyb8x/jRvb/AJ5N+Y/xp9FADN7f88m/Mf40b2/55N+Y/wAafRQAze3/ADyb8x/jRvb/AJ5N+Y/xp9FADN7f88m/Mf40b2/55N+Y/wAafRQAze3/ADyb8x/jRvb/AJ5N+Y/xp9FADN7f88m/Mf40b2/55N+Y/wAafRQAze3/ADyb8x/jRvb/AJ5N+Y/xp9FADN7f88m/Mf40b2/55N+Y/wAafRQAze3/ADyb8x/jRvb/AJ5N+Y/xp9FADN7f88m/Mf40b2/55N+Y/wAafRQAze3/ADyb8x/jRvb/AJ5N+Y/xp9FADN7f88m/Mf40b2/55N+Y/wAafRQAze3/ADyb8x/jRvb/AJ5N+Y/xp9FADN7f88m/Mf40b2/55N+Y/wAafRQAze3/ADyb8x/jSh2J/wBWw98j/GnUUAFFFFABRRRQAUUUUAFFFFABRRRQAUUUUAFFFFABRRRQAUUUUAFFFFABRRRQAUUVxnjD4maf4P1200eTRtb1i+uoGuEh0i0WdlQHBJG4Hr7UroDs6K57wj4uHi61uZ10DXNGEDhNmsWf2dpMjOVG45A9a6GnsJO4UUUUDCiiigAooooAKKKKACiiigAooooAKKKKACiiigAooooAKKKKACiiigAooooAKKKKACiiigAooooAKKKxPEvizTfCtvbvqHnzXF3J5VpZ2kRlnuXxnaiDrxyScAdzQBt0VzXh7xzp2v6pNpT2moaTqsMXnNp+pweVK0ecb1wSrLnjKk4PWtjWNY0/w/o9zqmsXSWtlbJvllfoo/DkkngAck0PRXYLV2RdorjbD4maXdajZ2moaXrOjLqDiOxuNTsvKiuWPIVWBO0kdA4UmuxZgqlmICgZJJ6UbK4C0VznhDxzo/jiPUpdBM0kGn3ZtXmkQBZWAB3JySVweCcV0dABRRRQAUUUUAFFFFABRRRQAUUUUAFFFFABRRRQAUUUUAFFYHiXxlp3hiW1tbiK7vtQvS32XT7CHzZ5gv3iF4AUd2Yge9J4b8Zad4luLq0hhvLDUbMKbnT7+Hyp4g33Wxkgqf7ykj3oWobHQUUjuscbPIwRFBLMxwAPUmua8JfEDQ/G19qtv4elluE0uRI5LgqBHKWB5jOcsODzge2RzRuGx01Fczr/AI60/Q9WXSYLHUdY1QxCZrLS7fzZI4ycB3JKqgPbLAntVzwz4r03xXazy6d9ohmtZfJurS7hMU1vJjO10PQ4PUZB7Gha7A9DaooooAKKKKACiiigAooooAKKKKACiiigAooooAKKKKACiisPxN4u0zwrHbC/FxcXV45jtLGzhMs9ywGSEQeg5JOAO5oA3KK5zw94307xDqU+mG1vtL1W3jEsmn6lB5U3lk4DjBKsueMqTWpret6f4d0e41TWblbazt1zJIwJ74AAHJJJAAHJJoemoLV2L9Fcdp/xL0261azsNR0nWtEbUH2WUuqWXlR3LYyFVgTtYjor7SfSrviHxxp+ganDpaWmoatqs0fnLYaZB5sojzje2SFRc8ZYjPagDpKKw/DHi7TfFcN19gW5t7myk8q7sryExT27kZAZT6jkEZB7GtygAooooAKKKKACiiigAooooAKKKKACiiigAooooAKKKKACiiigAooooAKKKKACiiigAooooAKKKKACvK/E3hfx+Pi7L4r8IxaFJGNKWxh/tSWXC/Pvb5UGc598Yr1SuD17WPiXpXiG5/sbwtpev6RLtFr5eoC2mh45Mm/hucnCil1T/rsPox/w4+IF14vl1fStd01dM17RJhDewRvvjbOcOh9DtPHPbnmu5rgfhp4H1Pw7ea54g8TzW8mu6/cCa4jtc+VboM7Y1J64ycn6dep76qeyvvZX9epPV226BRRRSGFFFFABRRRQAUUUUAFFFFABRRRQAUUUUAFFFFABRRRQAUUUUAFFFFABRRRQAUUUUAFFFFABRRRQAV52xN7+0gkdwCY9O8OGS2B6K8k+12HvhQK9Eri/Fnh7V4/Fmm+MPCsEF3qNlA9ndWM0vlfa7diG2q+CFZWGRnjk0J2km/P8U1+oPWLXp+aZn/EQ/Y/iB8Pr+3BFydVktCV6tFJEd4PqPlB/Cj4rkz3ngrTZQTaXniKATr2cIrOFPtuAP4VNZ6P4h8VeONM8QeKNLj0Wx0VJDY6eblZ5ZZ3G0yyFPkAC5AAJOSTTNT0HxT428E41u1stE8Q6fqX2zTDHKZYgYnzGXI5wwyD3wc4HShe7a/R3+V1/wXbzE1zXs91b52f/AAxP8aIUk+EGuysdslrEtxC4OCkiOrKwPrkVS1zUrrxvcWfgzTJHijltYrjxBdRnBghZQRAD2eTp7Lk9xUet2PjP4gafD4e1rw/DoGmSTRtqd0b9JzcRowYxwqnIDEDl8YGeDXQ6n8MfBWs6jLf6p4bsbm6mx5krx8tgADP4ACklZtvbt6f5/p2G3tbf/P8Ar8TK+G9tBZeI/HFraRLDBBq8ccUaDARRawgAewArv6848BfDLTPDPi7X9U/sC2sz9uzpUyEErAYUVgME4G7fwea9Hp/ZXovyFs36v8wooooGFFFFABRRRQAUUUUAFFFFABRRRQAUUUUAFFFFAHnXh9je/H/xdLcod+n6bZW1sW7RuGkbH1b+VJ4mc2Xx68FTWy4e/s761uSv8Uaqsi59g386veIND1zSfHK+L/ClnFqbT2gs9R015xC0yq26OSN2+XeuSMNgEHqKi0nRPEGseMm8YeJNPg0+WysntdK0r7QJWQucvJJIo2hmwFwuQB3NEXblb6X/AF/O/TuOWrfnb9Pyt+B1mvaDY+JdHl0vVkkks5ipljjlaPeAQdpKkEqcYI7iuL8BW0Fn8UPH1taQpBBDJYJHFGoVUUW+AAB0FdJpOpeJv+EJS+13Qov7eCMz6bZ3CbWO4gBXZtoJXB5bHvXGeFm8Zaf8QPEGq3vgW8itddntcN/aNofsyxpsZmAkJPrgc046Sa8v1QnrG53V/Zpoi6prWhaH/aGrXYj82KKVY3udvyqN7kKNoJrk/hfP/aGv+K9U1NGsdfu7mEX+kMuDYqke2Ibukm4AneOD+FaF/J418P8AijULrTtOPifR77Y8NsLyOCaxcLhlHmYVkOAeuQc9af4M8O6vD4i1vxT4ljgtdQ1gRRJY28nmLbQxAhQXwNzksSSOOmKUe/l/l/X69yW1js6KKKACiiigAooooAKKKKACiiigAooooAKKKKACiiigArzuEm8/aPuVuASun+HUNsD0UyTHew9yFA/CvRK4rxV4f1m38YWHjHwpBDe3tvbPZXmnzTeV9rgLbhtc8K6tyM8EE8ihaST9fyaBq8Wl5fg0yh48P2P4ofD69t+LiS8uLRyvV4nhJIPqAVBrttV0XT9chgh1W2W5jgnS5jRiQBIhyrcHnB5weK4+w0bxB4m8c2HiXxRpsWj2ujwyrp+m/aVnlaaQYaWRk+QYXgAE9Sc0zVdW+JTfDyR7Lw1ar4lnuXhSK3u4ilvDk7Zsu4DNgD5c9SCQORS1jH8fy/XXyuPd/h+f/DFbx7c/8Jd4u0TwZov76eyv4NU1S4VcrZRRncqk9A7ngDrjJ6V276fo+j32o+IZUitp5oV+2Xkjkfu4wcZycAAE9MVwXgtdf8I6WlhbfDrVHlnl8291C41SzaW5lY/NK580kn27DgVB8QLLxh4j8XRafL4Uu9Q8IWZWV4La+tojqUowQJN8gIjU/wAOOSOe1O1kkvv/AK8vvC6bu/6/r8DS+HIn8QeLPEnjgQvb6bq3kW2mrIhRp4YQR55B5wxY4zzgV6LXP+G9X1m/le31TwlcaDBDGPKeW7t5VbttCxOSMD14roKdkkktib3bbCiiikMKKKKACiiigAooooAKKKKACiiigAooooAKKKKACiiigAooooAKKKKACiiigAooooAKKKKACiiigAooooAKKKKACiiigAooooAKKKKACiiigAooooAKKKKACiiigAooooAKKKKACiiigAooooAKKKKACiiigAooooAKKKKACiiigAooooAKKKKACiiigAooooAKKKKACiiigAooooAKKKKACiiigAooooAKKKKACiiigAooooAKKKKACiiigAooooAKKKKACiiigAooooAKKKKACiiigAooooAKKKKACiiigAooooAKKKKACiiigAooooAKKKKACiiigAooooAKKKKACiiigAooooAKKKKACiiigAooooAKKKKACiiigAooooAKKKKACiiigAooooAKKKKACiiigAooooAKKKKACiiigAooooAKKKKACiiigAooooAKKKKACiiigAooooAKKKKACiiigAooooAKKKKACiiigAooooAKKKKACiiigAooooAKKKKACiiigAooooAKKKKACiiigAooooAKKKKACiiigAooooAKKKKACiiigAooooAKKKKACiiigAooooAKKKKACiiigAooooAKKKKACiiigAooooAKKKKACiiigAooooAKKKKACiiigAooooAKKKKACiiigAooooAKKKKACiiigAooooAKKKKACiiigAooooAKKKKACiiigAooooAKKKKACiiigAooooAKKKKACiiigAooooAKKKKACiiigAooooAKKKKACiiigAooooAKKKKACiiigAooooAKKKKACiiigAooooAKKKKACiiigAooooAKKKKACiiigAooooAKKKKACiiigAooooAKKKKACiiigAooooAKKKKACiiigAooooAKKKKACiiigAooooAKKKKACiiigAooooAKKKKACiiigD//2Q==)"
      ],
      "metadata": {
        "id": "ALuX7ttetma9"
      }
    },
    {
      "cell_type": "code",
      "source": [
        "# 5206 Kaew\n",
        "# Cramer's V interpretation\n",
        "def cramer_itp(score, deg):\n",
        "  # degree of freedom = 1\n",
        "  if deg == 1:\n",
        "    if score < 0.1:\n",
        "      return \"no relationship\" \n",
        "    elif score >= 0.1:\n",
        "      return \"small\"\n",
        "    elif score >= 0.3:\n",
        "      return \"medium\"\n",
        "    elif score >= 0.5:\n",
        "      return \"large\"\n",
        "  \n",
        "  # degree of freedom = 2  \n",
        "  elif deg == 12:\n",
        "    if score < 0.07:\n",
        "      return \"no relationship\" \n",
        "    elif score >= 0.07:\n",
        "      return \"small\"\n",
        "    elif score >= 0.21:\n",
        "      return \"medium\"\n",
        "    elif score >= 0.35:\n",
        "      return \"large\""
      ],
      "metadata": {
        "id": "63dLEQMnbtoA"
      },
      "execution_count": 17,
      "outputs": []
    },
    {
      "cell_type": "code",
      "source": [
        "# 5206 Kaew\n",
        "# display cramer's v interpretation\n",
        "cmv_itp = cramer_itp(cramer,deg_freedom)\n",
        "print(f\"Cramer's V = {cramer} and degrees of freedom = {deg_freedom}\\nindicates a {cmv_itp} association between hand and brain\")"
      ],
      "metadata": {
        "colab": {
          "base_uri": "https://localhost:8080/"
        },
        "id": "I2TCrAKYgAtV",
        "outputId": "fe025e67-e836-43ca-b084-6ef4f9ba446b"
      },
      "execution_count": 18,
      "outputs": [
        {
          "output_type": "stream",
          "name": "stdout",
          "text": [
            "Cramer's V = 0.2625752465908215 and degrees of freedom = 1\n",
            "indicates a small association between hand and brain\n"
          ]
        }
      ]
    },
    {
      "cell_type": "markdown",
      "metadata": {
        "id": "zuywdqJ8QmB8"
      },
      "source": [
        "## Goodman Kruskal's lambda"
      ]
    },
    {
      "cell_type": "markdown",
      "source": [
        "![fm1.JPG](data:image/jpeg;base64,/9j/4AAQSkZJRgABAQEAeAB4AAD/4RDaRXhpZgAATU0AKgAAAAgABAE7AAIAAAAFAAAISodpAAQAAAABAAAIUJydAAEAAAAKAAAQyOocAAcAAAgMAAAAPgAAAAAc6gAAAAgAAAAAAAAAAAAAAAAAAAAAAAAAAAAAAAAAAAAAAAAAAAAAAAAAAAAAAAAAAAAAAAAAAAAAAAAAAAAAAAAAAAAAAAAAAAAAAAAAAAAAAAAAAAAAAAAAAAAAAAAAAAAAAAAAAAAAAAAAAAAAAAAAAAAAAAAAAAAAAAAAAAAAAAAAAAAAAAAAAAAAAAAAAAAAAAAAAAAAAAAAAAAAAAAAAAAAAAAAAAAAAAAAAAAAAAAAAAAAAAAAAAAAAAAAAAAAAAAAAAAAAAAAAAAAAAAAAAAAAAAAAAAAAAAAAAAAAAAAAAAAAAAAAAAAAAAAAAAAAAAAAAAAAAAAAAAAAAAAAAAAAAAAAAAAAAAAAAAAAAAAAAAAAAAAAAAAAAAAAAAAAAAAAAAAAAAAAAAAAAAAAAAAAAAAAAAAAAAAAAAAAAAAAAAAAAAAAAAAAAAAAAAAAAAAAAAAAAAAAAAAAAAAAAAAAAAAAAAAAAAAAAAAAAAAAAAAAAAAAAAAAAAAAAAAAAAAAAAAAAAAAAAAAAAAAAAAAAAAAAAAAAAAAAAAAAAAAAAAAAAAAAAAAAAAAAAAAAAAAAAAAAAAAAAAAAAAAAAAAAAAAAAAAAAAAAAAAAAAAAAAAAAAAAAAAAAAAAAAAAAAAAAAAAAAAAAAAAAAAAAAAAAAAAAAAAAAAAAAAAAAAAAAAAAAAAAAAAAAAAAAAAAAAAAAAAAAAAAAAAAAAAAAAAAAAAAAAAAAAAAAAAAAAAAAAAAAAAAAAAAAAAAAAAAAAAAAAAAAAAAAAAAAAAAAAAAAAAAAAAAAAAAAAAAAAAAAAAAAAAAAAAAAAAAAAAAAAAAAAAAAAAAAAAAAAAAAAAAAAAAAAAAAAAAAAAAAAAAAAAAAAAAAAAAAAAAAAAAAAAAAAAAAAAAAAAAAAAAAAAAAAAAAAAAAAAAAAAAAAAAAAAAAAAAAAAAAAAAAAAAAAAAAAAAAAAAAAAAAAAAAAAAAAAAAAAAAAAAAAAAAAAAAAAAAAAAAAAAAAAAAAAAAAAAAAAAAAAAAAAAAAAAAAAAAAAAAAAAAAAAAAAAAAAAAAAAAAAAAAAAAAAAAAAAAAAAAAAAAAAAAAAAAAAAAAAAAAAAAAAAAAAAAAAAAAAAAAAAAAAAAAAAAAAAAAAAAAAAAAAAAAAAAAAAAAAAAAAAAAAAAAAAAAAAAAAAAAAAAAAAAAAAAAAAAAAAAAAAAAAAAAAAAAAAAAAAAAAAAAAAAAAAAAAAAAAAAAAAAAAAAAAAAAAAAAAAAAAAAAAAAAAAAAAAAAAAAAAAAAAAAAAAAAAAAAAAAAAAAAAAAAAAAAAAAAAAAAAAAAAAAAAAAAAAAAAAAAAAAAAAAAAAAAAAAAAAAAAAAAAAAAAAAAAAAAAAAAAAAAAAAAAAAAAAAAAAAAAAAAAAAAAAAAAAAAAAAAAAAAAAAAAAAAAAAAAAAAAAAAAAAAAAAAAAAAAAAAAAAAAAAAAAAAAAAAAAAAAAAAAAAAAAAAAAAAAAAAAAAAAAAAAAAAAAAAAAAAAAAAAAAAAAAAAAAAAAAAAAAAAAAAAAAAAAAAAAAAAAAAAAAAAAAAAAAAAAAAAAAAAAAAAAAAAAAAAAAAAAAAAAAAAAAAAAAAAAAAAAAAAAAAAAAAAAAAAAAAAAAAAAAAAAAAAAAAAAAAAAAAAAAAAAAAAAAAAAAAAAAAAAAAAAAAAAAAAAAAAAAAAAAAAAAAAAAAAAAAAAAAAAAAAAAAAAAAAAAAAAAAAAAAAAAAAAAAAAAAAAAAAAAAAAAAAAAAAAAAAAAAAAAAAAAAAAAAAAAAAAAAAAAAAAAAAAAAAAAAAAAAAAAAAAAAAAAAAAAAAAAAAAAAAAAAAAAAAAAAAAAAAAAAAAAAAAAAAAAAAAAAAAAAAAAAAAAAAAAAAAAAAAAAAAAAAAAAAAAAAAAAAAAAAAAAAAAAAAAAAAAAAAAAAAAAAAAAAAAAAAAAAAAAAAAAAAAAAAAAAAAAAAAAAAAAAAAAAAAAAAAAAAAAAAAAAAAAAAAAAAAAAAAAAAAAAAAAAAAAAAAAAAAAAAAAAAAAAAAAAAAAAAAAAAAAAAAAAAAAAAAAAAAAAAAAAAAAAAAAAAAAAAAAAAAAAAAAAAAAAAAAAAAAAAAAAAAAAAAAAAAAAAAAAAAAAAAAAAAAAAAAAAAAAAAAAAAAAAAAAAAAAAAAAAAAAAAAAAAAAAAAAAAAAAAAAAAAAAAAAAAAAAAAAAAAAAAAAAAAAAAAAAAAAAAAAAAAAAAAAAAAAAAAAAAAAAAAAAAAAAAAAAAAAAAAAAAAAAAAAAAAAAAAAAAAAAAAAAAAAAAAAAAAAAAAAAAAAAAAAAAAAAAAAAAAAAAAAAAAAAAAAAAAAAAAAAAAAAAAAAAAAAAAAAAAAAAAAAAAAAAAAAAAAAAAAAAAAAAAAAAAAAAAAAAAAAAAAAAAAAAAAAAAAAAAAAAAAAAAAAAAAAAAAAAAAAAAAAAAAAAAAAAAAAAAAAAAAAAAAAAAAAAAAAAAAAAAAAAAAAAAAAAAAAAAAAAAAAAAAAAAAAAAAAAAAAAAAAAAAAAAAAAAAAAAAAAAAAAAAAAAAAAAAAAAAAAAAAAAAAAAAAAAAAAAAAAAAAAAAAAAAAAAAAAAAAAAAAAAAAAAAAAAAAAAAAAAAAAAAAAAAAAAAAAAAAAAAAAAAAAAAAAAAAAAAAAAAAAAAAAAAAAAAAAAAAAAAAAAAAAAFVzZXIAAAAFkAMAAgAAABQAABCekAQAAgAAABQAABCykpEAAgAAAAMxNQAAkpIAAgAAAAMxNQAA6hwABwAACAwAAAiSAAAAABzqAAAACAAAAAAAAAAAAAAAAAAAAAAAAAAAAAAAAAAAAAAAAAAAAAAAAAAAAAAAAAAAAAAAAAAAAAAAAAAAAAAAAAAAAAAAAAAAAAAAAAAAAAAAAAAAAAAAAAAAAAAAAAAAAAAAAAAAAAAAAAAAAAAAAAAAAAAAAAAAAAAAAAAAAAAAAAAAAAAAAAAAAAAAAAAAAAAAAAAAAAAAAAAAAAAAAAAAAAAAAAAAAAAAAAAAAAAAAAAAAAAAAAAAAAAAAAAAAAAAAAAAAAAAAAAAAAAAAAAAAAAAAAAAAAAAAAAAAAAAAAAAAAAAAAAAAAAAAAAAAAAAAAAAAAAAAAAAAAAAAAAAAAAAAAAAAAAAAAAAAAAAAAAAAAAAAAAAAAAAAAAAAAAAAAAAAAAAAAAAAAAAAAAAAAAAAAAAAAAAAAAAAAAAAAAAAAAAAAAAAAAAAAAAAAAAAAAAAAAAAAAAAAAAAAAAAAAAAAAAAAAAAAAAAAAAAAAAAAAAAAAAAAAAAAAAAAAAAAAAAAAAAAAAAAAAAAAAAAAAAAAAAAAAAAAAAAAAAAAAAAAAAAAAAAAAAAAAAAAAAAAAAAAAAAAAAAAAAAAAAAAAAAAAAAAAAAAAAAAAAAAAAAAAAAAAAAAAAAAAAAAAAAAAAAAAAAAAAAAAAAAAAAAAAAAAAAAAAAAAAAAAAAAAAAAAAAAAAAAAAAAAAAAAAAAAAAAAAAAAAAAAAAAAAAAAAAAAAAAAAAAAAAAAAAAAAAAAAAAAAAAAAAAAAAAAAAAAAAAAAAAAAAAAAAAAAAAAAAAAAAAAAAAAAAAAAAAAAAAAAAAAAAAAAAAAAAAAAAAAAAAAAAAAAAAAAAAAAAAAAAAAAAAAAAAAAAAAAAAAAAAAAAAAAAAAAAAAAAAAAAAAAAAAAAAAAAAAAAAAAAAAAAAAAAAAAAAAAAAAAAAAAAAAAAAAAAAAAAAAAAAAAAAAAAAAAAAAAAAAAAAAAAAAAAAAAAAAAAAAAAAAAAAAAAAAAAAAAAAAAAAAAAAAAAAAAAAAAAAAAAAAAAAAAAAAAAAAAAAAAAAAAAAAAAAAAAAAAAAAAAAAAAAAAAAAAAAAAAAAAAAAAAAAAAAAAAAAAAAAAAAAAAAAAAAAAAAAAAAAAAAAAAAAAAAAAAAAAAAAAAAAAAAAAAAAAAAAAAAAAAAAAAAAAAAAAAAAAAAAAAAAAAAAAAAAAAAAAAAAAAAAAAAAAAAAAAAAAAAAAAAAAAAAAAAAAAAAAAAAAAAAAAAAAAAAAAAAAAAAAAAAAAAAAAAAAAAAAAAAAAAAAAAAAAAAAAAAAAAAAAAAAAAAAAAAAAAAAAAAAAAAAAAAAAAAAAAAAAAAAAAAAAAAAAAAAAAAAAAAAAAAAAAAAAAAAAAAAAAAAAAAAAAAAAAAAAAAAAAAAAAAAAAAAAAAAAAAAAAAAAAAAAAAAAAAAAAAAAAAAAAAAAAAAAAAAAAAAAAAAAAAAAAAAAAAAAAAAAAAAAAAAAAAAAAAAAAAAAAAAAAAAAAAAAAAAAAAAAAAAAAAAAAAAAAAAAAAAAAAAAAAAAAAAAAAAAAAAAAAAAAAAAAAAAAAAAAAAAAAAAAAAAAAAAAAAAAAAAAAAAAAAAAAAAAAAAAAAAAAAAAAAAAAAAAAAAAAAAAAAAAAAAAAAAAAAAAAAAAAAAAAAAAAAAAAAAAAAAAAAAAAAAAAAAAAAAAAAAAAAAAAAAAAAAAAAAAAAAAAAAAAAAAAAAAAAAAAAAAAAAAAAAAAAAAAAAAAAAAAAAAAAAAAAAAAAAAAAAAAAAAAAAAAAAAAAAAAAAAAAAAAAAAAAAAAAAAAAAAAAAAAAAAAAAAAAAAAAAAAAAAAAAAAAAAAAAAAAAAAAAAAAAAAAAAAAAAAAAAAAAAAAAAAAAAAAAAAAAAAAAAAAAAAAAAAAAAAAAAAAAAAAAAAAAAAAAAAAAAAAAAAAAAAAAAAAAAAAAAAAAAAAAAAAAAAAAAAAAAAAAAAAAAAAAAAAAAAAAAAAAAAAAAAAAAAAAAAAAAAAAAAAAAAAAAAAAAAAAAAAAAAAAAAAAAAAAAAAAAAAAAAAAAAAAAAAAAAAAAAAAAAAAAAAAAAAAAAAAAAAAAAAAAAAAAAAAAAAAAAAAAAAAAAAAAAAAAAAAAAAAAAAAAAAAAAAAAAAAAAAAAAAAAAAAAAAAAAAAAAAAAAAAAAAAAAAAAAAAAAAAAAAAAAAAAAAAAAAAAAAAAAAAAAAAAAAAAAAAAAAAAAAAAAAAAAAAAAAAAAAAAAAAAAAAAAAAAAAAAAAAAAAAAAAAAAAAAAAAAAAAAAAAAAAAAAAAAAAAAAAAAAAAAAAAAAAAAAAAAAAAAAAAAAAAAAAAAAAAAAAAAAAAAAAAAAAAAAAAAAAAAAAAAAAAAAAAAAAAAAAAAAAAAAAAAAAAAAAAAAAAAAAAAAAAAAAAAAAAAAAAAAAAAAAAAAAAAAAAAAAAAAAAAAAAAAAAAAAAAAAAAAAAAAAAAAAAAAAAAAAAAAAAAAAAAAAAAAAAAAAAAAAAAAAAAAAAAAAAAAAAAAAAAAAAAAAAAAAAAAAAAAAAAAAAAAAAAAAAAAAAAAAAAAAAAAAAAAAAAAAAAAAAAAAAAAAAAAAAAAAAAAAAAAAAAAAAAAAAAAAAAAAAAAAAAAAAAAAAAAAAAAAAAAAAAAAAAAAAAAAAAAAAAAAAAAAAAAAAAAAAAAAAAAAAAAAAAAAAAAAAAAMjAyMToxMjoxMiAxMDoyMToyNgAyMDIxOjEyOjEyIDEwOjIxOjI2AAAAVQBzAGUAcgAAAP/hCxdodHRwOi8vbnMuYWRvYmUuY29tL3hhcC8xLjAvADw/eHBhY2tldCBiZWdpbj0n77u/JyBpZD0nVzVNME1wQ2VoaUh6cmVTek5UY3prYzlkJz8+DQo8eDp4bXBtZXRhIHhtbG5zOng9ImFkb2JlOm5zOm1ldGEvIj48cmRmOlJERiB4bWxuczpyZGY9Imh0dHA6Ly93d3cudzMub3JnLzE5OTkvMDIvMjItcmRmLXN5bnRheC1ucyMiPjxyZGY6RGVzY3JpcHRpb24gcmRmOmFib3V0PSJ1dWlkOmZhZjViZGQ1LWJhM2QtMTFkYS1hZDMxLWQzM2Q3NTE4MmYxYiIgeG1sbnM6ZGM9Imh0dHA6Ly9wdXJsLm9yZy9kYy9lbGVtZW50cy8xLjEvIi8+PHJkZjpEZXNjcmlwdGlvbiByZGY6YWJvdXQ9InV1aWQ6ZmFmNWJkZDUtYmEzZC0xMWRhLWFkMzEtZDMzZDc1MTgyZjFiIiB4bWxuczp4bXA9Imh0dHA6Ly9ucy5hZG9iZS5jb20veGFwLzEuMC8iPjx4bXA6Q3JlYXRlRGF0ZT4yMDIxLTEyLTEyVDEwOjIxOjI2LjE1MzwveG1wOkNyZWF0ZURhdGU+PC9yZGY6RGVzY3JpcHRpb24+PHJkZjpEZXNjcmlwdGlvbiByZGY6YWJvdXQ9InV1aWQ6ZmFmNWJkZDUtYmEzZC0xMWRhLWFkMzEtZDMzZDc1MTgyZjFiIiB4bWxuczpkYz0iaHR0cDovL3B1cmwub3JnL2RjL2VsZW1lbnRzLzEuMS8iPjxkYzpjcmVhdG9yPjxyZGY6U2VxIHhtbG5zOnJkZj0iaHR0cDovL3d3dy53My5vcmcvMTk5OS8wMi8yMi1yZGYtc3ludGF4LW5zIyI+PHJkZjpsaT5Vc2VyPC9yZGY6bGk+PC9yZGY6U2VxPg0KCQkJPC9kYzpjcmVhdG9yPjwvcmRmOkRlc2NyaXB0aW9uPjwvcmRmOlJERj48L3g6eG1wbWV0YT4NCiAgICAgICAgICAgICAgICAgICAgICAgICAgICAgICAgICAgICAgICAgICAgICAgICAgICAgICAgICAgICAgICAgICAgICAgICAgICAgICAgICAgICAgICAgICAgICAgICAgICAKICAgICAgICAgICAgICAgICAgICAgICAgICAgICAgICAgICAgICAgICAgICAgICAgICAgICAgICAgICAgICAgICAgICAgICAgICAgICAgICAgICAgICAgICAgICAgICAgICAgIAogICAgICAgICAgICAgICAgICAgICAgICAgICAgICAgICAgICAgICAgICAgICAgICAgICAgICAgICAgICAgICAgICAgICAgICAgICAgICAgICAgICAgICAgICAgICAgICAgICAgCiAgICAgICAgICAgICAgICAgICAgICAgICAgICAgICAgICAgICAgICAgICAgICAgICAgICAgICAgICAgICAgICAgICAgICAgICAgICAgICAgICAgICAgICAgICAgICAgICAgICAKICAgICAgICAgICAgICAgICAgICAgICAgICAgICAgICAgICAgICAgICAgICAgICAgICAgICAgICAgICAgICAgICAgICAgICAgICAgICAgICAgICAgICAgICAgICAgICAgICAgIAogICAgICAgICAgICAgICAgICAgICAgICAgICAgICAgICAgICAgICAgICAgICAgICAgICAgICAgICAgICAgICAgICAgICAgICAgICAgICAgICAgICAgICAgICAgICAgICAgICAgCiAgICAgICAgICAgICAgICAgICAgICAgICAgICAgICAgICAgICAgICAgICAgICAgICAgICAgICAgICAgICAgICAgICAgICAgICAgICAgICAgICAgICAgICAgICAgICAgICAgICAKICAgICAgICAgICAgICAgICAgICAgICAgICAgICAgICAgICAgICAgICAgICAgICAgICAgICAgICAgICAgICAgICAgICAgICAgICAgICAgICAgICAgICAgICAgICAgICAgICAgIAogICAgICAgICAgICAgICAgICAgICAgICAgICAgICAgICAgICAgICAgICAgICAgICAgICAgICAgICAgICAgICAgICAgICAgICAgICAgICAgICAgICAgICAgICAgICAgICAgICAgCiAgICAgICAgICAgICAgICAgICAgICAgICAgICAgICAgICAgICAgICAgICAgICAgICAgICAgICAgICAgICAgICAgICAgICAgICAgICAgICAgICAgICAgICAgICAgICAgICAgICAKICAgICAgICAgICAgICAgICAgICAgICAgICAgICAgICAgICAgICAgICAgICAgICAgICAgICAgICAgICAgICAgICAgICAgICAgICAgICAgICAgICAgICAgICAgICAgICAgICAgIAogICAgICAgICAgICAgICAgICAgICAgICAgICAgICAgICAgICAgICAgICAgICAgICAgICAgICAgICAgICAgICAgICAgICAgICAgICAgICAgICAgICAgICAgICAgICAgICAgICAgCiAgICAgICAgICAgICAgICAgICAgICAgICAgICAgICAgICAgICAgICAgICAgICAgICAgICAgICAgICAgICAgICAgICAgICAgICAgICAgICAgICAgICAgICAgICAgICAgICAgICAKICAgICAgICAgICAgICAgICAgICAgICAgICAgICAgICAgICAgICAgICAgICAgICAgICAgICAgICAgICAgICAgICAgICAgICAgICAgICAgICAgICAgICAgICAgICAgICAgICAgIAogICAgICAgICAgICAgICAgICAgICAgICAgICAgICAgICAgICAgICAgICAgICAgICAgICAgICAgICAgICAgICAgICAgICAgICAgICAgICAgICAgICAgICAgICAgICAgICAgICAgCiAgICAgICAgICAgICAgICAgICAgICAgICAgICAgICAgICAgICAgICAgICAgICAgICAgICAgICAgICAgICAgICAgICAgICAgICAgICAgICAgICAgICAgICAgICAgICAgICAgICAKICAgICAgICAgICAgICAgICAgICAgICAgICAgICAgICAgICAgICAgICAgICAgICAgICAgICAgICAgICAgICAgICAgICAgICAgICAgICAgICAgICAgICAgICAgICAgICAgICAgIAogICAgICAgICAgICAgICAgICAgICAgICAgICAgICAgICAgICAgICAgICAgICAgICAgICAgICAgICAgICAgICAgICAgICAgICAgICAgICAgICAgICAgICAgICAgICAgICAgICAgCiAgICAgICAgICAgICAgICAgICAgICAgICAgICAgICAgICAgICAgICAgICAgICAgICAgICAgICAgICAgICAgICAgICAgICAgICAgICAgICAgICAgICAgICAgICAgICAgICAgICAKICAgICAgICAgICAgICAgICAgICAgICAgICAgICAgICAgICAgICAgICAgICAgICAgICAgICAgICAgICAgICAgICAgICAgICAgICAgICAgICAgICAgICAgICAgICAgICAgICAgIAogICAgICAgICAgICAgICAgICAgICAgICAgICAgPD94cGFja2V0IGVuZD0ndyc/Pv/bAEMABwUFBgUEBwYFBggHBwgKEQsKCQkKFQ8QDBEYFRoZGBUYFxseJyEbHSUdFxgiLiIlKCkrLCsaIC8zLyoyJyorKv/bAEMBBwgICgkKFAsLFCocGBwqKioqKioqKioqKioqKioqKioqKioqKioqKioqKioqKioqKioqKioqKioqKioqKioqKv/AABEIAHcBrQMBIgACEQEDEQH/xAAfAAABBQEBAQEBAQAAAAAAAAAAAQIDBAUGBwgJCgv/xAC1EAACAQMDAgQDBQUEBAAAAX0BAgMABBEFEiExQQYTUWEHInEUMoGRoQgjQrHBFVLR8CQzYnKCCQoWFxgZGiUmJygpKjQ1Njc4OTpDREVGR0hJSlNUVVZXWFlaY2RlZmdoaWpzdHV2d3h5eoOEhYaHiImKkpOUlZaXmJmaoqOkpaanqKmqsrO0tba3uLm6wsPExcbHyMnK0tPU1dbX2Nna4eLj5OXm5+jp6vHy8/T19vf4+fr/xAAfAQADAQEBAQEBAQEBAAAAAAAAAQIDBAUGBwgJCgv/xAC1EQACAQIEBAMEBwUEBAABAncAAQIDEQQFITEGEkFRB2FxEyIygQgUQpGhscEJIzNS8BVictEKFiQ04SXxFxgZGiYnKCkqNTY3ODk6Q0RFRkdISUpTVFVWV1hZWmNkZWZnaGlqc3R1dnd4eXqCg4SFhoeIiYqSk5SVlpeYmZqio6Slpqeoqaqys7S1tre4ubrCw8TFxsfIycrS09TV1tfY2dri4+Tl5ufo6ery8/T19vf4+fr/2gAMAwEAAhEDEQA/APpGiiigAooooAKKKKACiiigAooooAKKKKACiiigAooooAKKKKACiiigAooooAKKKKACiiigAooooAKKKKACiiigAooooAKKKKACiiigAooooAKKKKACiiigAooooAKKKKACiiigAooooAKKKKACiiigAooooAKKKKACiiigAooooAKKKKACiiigAooooAKKKKACiiigAooooAKKKKACiiigAooooAKKKKACiiigAooooAKKKKACiiigAooooAKKKKACiiigAooooAKKKKACiiigAooooAKKKKACiiigAooooAKKKKACiiigAooooAKKKKACiiigAooooAKKKKACiiigApGO1STnAGeBmlooA46D4q+E7pbt7a41KVLKVobqRNFvStu6/eV28rCkd84xXS6Tq+n67pcOo6PeQ3tnOMxzwuGVux59QeCOxryH4Z+JrbQ9W+IUUtjqt5O3iq9eOOx02ecN82Mb0Qop4/iYetavwNMOkaTqfhu9aS21tb2XULjTHgkT7FHKQEQMVCsPlzlSRzQB6rRRRQAUU2SRYonkkOERSzHHQCqOha5p3iXRLbV9FuPtNjdKWhl2Mm4AkHhgCOQeooA0KKKKACis3V/Eeh+H/J/t7WdP0zz93lfbbpIfM24zt3EZxkZx6is3/hY/gj/ocvD/AP4NIP8A4qgDpKKqaZq2na1ZC80e/tdQtSxUT2syyoSOo3KSM1boA5R/iX4aXWL7Sll1Ka+04gXcFvo15KYcjILbIjgEcg9CORWxoPiPSPE+nm90G/ivYFcxu0ZOUcdVZTyp9iAa8v0TXbXQ/wBoX4iPdwahN5sOn7FstPnujkW69fKRtvX+LAqf4aXUWlfETxKusxXOk6h4qvDeafpc9tIpMMatukLBdgZs5K7sjAzyaAPXKKKKACiis3RfEGmeIoLmbR7n7RHa3UlpMfLZNsqHDL8wGceo496ANKiisS/8YaJpum6rqF3dSC20ebyL547aWQwPsRzkKpJAWRSWAIAPJ4OADboqGyvINQsLe9s38y3uYllifBG5GGQcHkcHvU1ABRRRQAUVk3fijSbDxPYeHru4kj1LUkd7SM28hSUIrMwEgXZkBSSC2enHIzrUAFFFFABRRRQAUUUUAFFFFABRRRQAUV5x4ptLvwd4i0XxHb+IdVnt7rVo7K+sry73wNFOSqlI+ApRipGBnAOc4r0egAooooAKKKKACiiigAooooAKKKKACiiigAooooAKRjhSQCxA6DvS0UAeb/CjRde0XVPF7a9ok+nR6rrU+pWskk8EgZJG4UiN2IYY57e9V4NOvdQ+PXin7DqkmmBdIs1aaCJHlyWcjb5gZQPlOcqc9sda9Qrlb/wFb3Xiu68RWOtatpWo3dultM9m8RVo1zgbZI3GeevUdiOaAPP9T+IHif8A4U9c6zBqQt9X0fXP7Nnnjt4/LvFWcRksjK23IYE7ccjjjiu51j+2PD2n3t3e+MoIobm4gWF72yjH2UE4dIgmDIzE/IGDEYwd1R6p8LdF1HwPD4Viu9RsdPS4FzI9vKjS3Em7eWd5EbJL/MSMcj04rX8QeErXxJpOn2l9e3sc2nXMV3bX0LIJkmjBAk5UoSQzZBXHPSgDj/C/iXVtT1/xhoZ1rULmCxs4biwv7vTltrmIur7so0SK4BUFW2YI9awv+E38Vy/B7wN4ih1opqWo6rDa3jNaxNHcJJKy4ZdoxgKPuFTyec4I723+Htva65qmrw67rH23VbJbS6kaSFg20ELIAY8KwycAYXn7tZz/AAi0xvBuj+Gk1zWorLR7oXVs6PB5m8MWXcTCQQpJI47854oAn0XVdZsvi1qHhjUtUfU7NtIi1O3eaGNHhYytGyfIqgr8uRnJHqa7iubi8GQRfECTxd/aupPeSWa2TWzNF5HlDkDAj3D5sv8Ae6k9uK6SgAooooAKKKKAPN/Cmja9ZfG3xhrd9odxbaVrEdsltdNPAwzDGEOVWQsAx5HH1xTPGFpc3nxy8GLZ3f2R00/UGMojDsowinaDxnngkEex6V6XXN+IPBVp4g8Qabrf9o6hp2o6XHLHaz2bxjaJMbiVdGVuBjBBHJ4zggA4bUPF3iSy0X4kaT/bMrah4TihubTVPs0IklSSHzVR02bCRtKkhRkHjBro7O58QR+EU8TXviy1hjuNHilMV9aRrbW0zBW83cu1sYONpJyTkY4FWpfhtpk3hnWdIbUNS8zXW3alqJkja5uOAuCShRRtG0BVAA6Yq5deB9Pv/h8vhDULq9ubFYY4RO7qJwI2DIcqoXKlVx8vbnPNAHLeHPFWoy/FKPQRrl9q2m3mkSXQlvdMFq0UySKMxN5SB0Ib/awR96saHxf4ob4K+MNXbXpjqui6ndQ2159mg3NHEygKy+XsOQTk7Qfeu6h8AQx+KrHxHNr2sXOp2ds9qZZXh2zRtzhkEQUYIB+ULyOc1Qi+FGnReC9X8M/25rD2esXL3N1KzQeaWcguARFgBiBnj6YoApxa54h0/wAb+CobzVvttn4ktp/tNs1vHGkEkcAlVoyF3YOCCGZvUY6VV1H/AJEb4wf9dr3/ANNkFdHL8PbebVfDWoSa7q5m8NoUtRug2ygrtbzB5XJZPlONvHTB5qlZ+GJNcsfHukai19p1tq2rMonhUI8kLWlsrFC6kFTtdCcH+LGCOADF0fU9e0KX4cRHV/tFjrVsttcWLW8YjiC2u9GjYDfkbcHcxBycBelRfELxlqmiadr1/pXiom90uQGHT7DS/tECKNpKXUmxyrEE874wMrXTzfDa2mXw1nX9ZRvDY/0NleDL8bcyZiw3yfLxjj35qK/+FWlX9hrmntqurQ6drk8l1c2UM0YRZnILSKShfkjO0sV/2aAKOv65r3/C1PC2k6Zq72en63YXEk8Bt4pPKaNQwZGK7t3zY5JXgHaeQc0+Pte0DwL42uL6ZNW1Dw/qv2CzuJo1j80SGJYzIqBRlTLztAzjtXVyfD63l8TaFrs2uas91odv9ngUtBskUjDlwIsksAAcEdOMVDB8MNIFj4jstQvtR1O08Ryme8hu3jwsnHzIURSCMLjJONo98gHN6tpWrad8Xvhy2reIbnV2kk1Dcs1vDGsb/ZGyU8tFIX2YsenNer1xx+HMEuq6Jqd54h1u7vdDd2tZ5pYclWXayMBEAQV4JwGPcnAx2NABRRRQAUUUUAFFFFABRRRQAUUUUAeK/ESG4+Iuv67ZabI32Hwbp8lwrIeJdTZC0aj18tQfozYroPiD4wv7X4eaD4q8Pau1hFdXNoZAI4njlhmK5Db1JGAeoIxzn27Pw94W0fwtYT2eh2f2eG4ne4m3yvK0sjY3MzOSxJwOprhPHvgmz0HwPb2/g3QZ5wms2l1JZ2xeZiiS7yFDE7VGW+UYUZPAzQB29j4w0TUdTuNOtbqX7bbw+e1vJayxu8ecb41ZQZFzxuTcOnrVLTviR4V1YWJ0/UZJhf3LWsB+xzqPOGcxsSg2N8p4bGccVgN9o8S/FrRvEFjp+p22l6Lp1ytxPeWMtuZnl2hY0jdQ742kkhcdMEmk+C6Xlr4L1GG70y/srgapdTrFe2sluXV3LIRvUZyO/agDpI/iD4Ym1O1sYtSLveTG3tplt5TbzSjOUSfb5bNweA2eKr2XiGGXx9rlp/b0066fZxvJo/8AZbq1v1JlWTbmXcOirnpxXmOrz+JdX0Xwtf6np2u/aNP8Q2t1f6TaaGUt7JEkJJT92ZJcD+JGZTk56gV2OlvPb/HfxPqM2naktkdJgjS5/s+by5WjJLKjbcMcEYAzntmgDctfih4QvbOzvLbVme1vJ/s8U/2SYRrLuKhHYpiNiRwH256jg1bn1G9b4ippCXLR2cmjyXG1UXKyiVVDgkHkAnjp7V47DZakv7M1xpDeH9aOptqw22n9lT+aB9rE2/bszt8sH5umflzk4r1QXCzfFi1uFWRUfw7I4V42VwDPGcFSMg+xGaAMHwX8SLe08OXR8ba489xb6vcWJvGsyERVm8uPzWiTy4s8YLbc122s+KtH0GdbfUbmQ3LxmYW1tbyXE3lg4L+XErNtB/ixj3rxq6g1G5/Z/wDF+nw6BrYv7/V7h4LVtKnWWRZJxIr7dudu0cntjB7V3esa3rV54vtY7S31bTNKudNWWG+s9HMtzLMzHMLmRGWAAYOJFAyeSKAN67+IHhiy0DTtbuNUUaXqUix212sMjxszHADEKdnOR82MYPpVvSvFmja1q1zpmn3Tte20ayyQS28kLGMnAdd6jehPRlyPevE1stUh/Z30LR5NA1s6jaa5umtRpczSKq3TTF8KmCuxx8w4JyByCB3lx59z8f47iHTtSS2l8MSWQvzYSrCJWlWVVMm3AIUHqRg/L944oArfEz4kw2Xhe4l8I65dQ6hZ3sUJlt9PM1tKxlVJImmeJo8gFjgMGyuPavUq8GurfVYf2df+EPHhnWBrOnvBHcQRWEjI2y7VzIjhdsoYDPyEkZJIABNe628wubWKdFkRZUDhZEKMARnBU8g+x5FAEWpRxy6Vdxz2P9oRPC6vZ7Ub7QCpzHhyFO7p8xA55IFef/2B4f8A+iJf+SWk/wDyRXpNFAHG+GdK0m01kS2Hw1/4RyXYw+3fZrBMD+7mCVn5+mPWug8Q2OqajoNxa6Dq/wDY2oSbfKvvsy3HlYYE/u24bKgrz0zntWlRQB5t/wAIT8Tv+iuf+W1bf/FUf8IT8Tv+iuf+W1bf/FV6TRQB5t/whPxO/wCiuf8AltW3/wAVR/whPxO/6K5/5bVt/wDFV6TRQB5t/wAIT8Tv+iuf+W1bf/FUf8IT8Tv+iuf+W1bf/FV6TRQB5t/whPxO/wCiuf8AltW3/wAVR/whPxO/6K5/5bVt/wDFV6TRQB5t/wAIT8Tv+iuf+W1bf/FUf8IT8Tv+iuf+W1bf/FV6TXlPhW48UeJPGfjPS5/Gep20Oi3qQ2nk2lkfldS3z7oCWxgDgigC7/whPxO/6K5/5bVt/wDFUf8ACE/E7/orn/ltW3/xVXvhb4t1XxNZ65Za/wCTLfaFqs2mvdQR7EuQhwH29j1yB7V3dAHm3/CE/E7/AKK5/wCW1bf/ABVH/CE/E7/orn/ltW3/AMVXpNFAHm3/AAhPxO/6K5/5bVt/8VR/whPxO/6K5/5bVt/8VXpNFAHm3/CE/E7/AKK5/wCW1bf/ABVH/CE/E7/orn/ltW3/AMVXpNFAHm3/AAhPxO/6K5/5bVt/8VR/whPxO/6K5/5bVt/8VXpNFAHm3/CE/E7/AKK5/wCW1bf/ABVH/CE/E7/orn/ltW3/AMVXpNFAHm3/AAhPxO/6K5/5bVt/8VR/whPxO/6K5/5bVt/8VXpNFAHm3/CE/E7/AKK5/wCW1bf/ABVek0UUAFFFFABRRRQAUUUUAFFFFABRRRQAUUUUAFFFFABRRRQAVnnRrdvEqa2Xl+0paNaBMjZsLhycYznKjv8AhWhRQAUUUUAFFFFABRRRQAUUUUAFFFFABRRRQAUUUUAFFFFABRRRQAV434K0e61b4n/EgW2v6lpKLqUIdLEQfvMoepkidh/wEjrXslc/ongfQfDutX+raRbXEN7qJ3Xcj308omOcgsruVJGTg44yQOtAHB6c8Xw2+LEHhmyv7keH7vSpdRezaBZ5ZLrzFUsGVDNIzAEkZY9ccAAdtP8AETwvbeFZPEcupN/ZcMxgmmW1mZoJAcFZIwhdCDwdwGMj1Fc/rslxo/xystcn0nUbnTP7Aeze6s7KS4EUjThx8sasx4XHAOM88Vx/iLRNYl+F3xCu10fUvN8S6msmn6elo8k5QFBveNQSm7Yx+bGMDPJAoA9V/wCE88NB79ZdUWFdPijmuJJ4njjCSMVjZXZQrhmBAKk5PFSab4z0TVp763sp7g3OnxCW4tprKeKZUIJDCN0DMDjgqDntWV4m1PVbf4a2154f0uW5uGFtugnsneSCMsu9/IOGZ0HIXrke1cv4fN/a/Gq51a+j8QX1jceHAkWoXekmMMyzM5jCxxKVOAcK43k+oK0Ab+h+PNI034dweINd8USaxYyXTw/2oNKkhGTIwVWiRCUAI2biACcc5IroNO8YaFqutvpFjel71YftCxtBIgliyB5kbMoWRckfMhIrxK40zVn/AGUdQ0NdC1k6rcagVjsv7Mn805uxNu27MhdgJ3dM8ZzxXoOpXD3fxq8JX1vpeqfZBpVwslydNmWOIy7DGjsV+Q/KchsbcjOM0Aej0UUUAFFFFABRRRQAUUUUAFFFFABRRRQAUUUUAFFFFABRRRQAUUUUAFFFFABRRRQAUUUUAFFFFABRRRQAUUUUAFFFFABRRRQAUUUUAFFFFABRRRQAUUUUAFFFFABRRRQAUUUUAFFFFABRRRQAUUUUAFFFFABRRRQAUUUUAFFFFABRRRQAUUUUAFFFFABRRRQAUUUUAFFFFABRRRQAUUUUAFFFFABRRRQAUUUUAFFFFABRRRQAUUUUAFFFFABRRRQAUUUUAFFFFABRRRQAUUUUAFFFFABRRRQAUUUUAFFFFABRRRQAUUUUAFFFFABRRRQAUUUUAFFFFAH/2Q==)\n",
        "\n",
        "\n",
        "\n",
        "\n",
        "\n"
      ],
      "metadata": {
        "id": "Ni4TQr7lp6J-"
      }
    },
    {
      "cell_type": "code",
      "metadata": {
        "id": "G1veRH4kc8sp"
      },
      "source": [
        "# 5206 Kaew\n",
        "def goodman (ctg_rawtotal, ctg_rawnototal, n):\n",
        "  #------- Find maximum in each column from contingency with total --------------#\n",
        "  #ctg_total = test1_ctg_total\n",
        "  ctg_total_arr = ctg_rawtotal.to_numpy()\n",
        "  maxcolArr = np.amax(ctg_total_arr, axis=0)\n",
        "  #print(maxcolArr,\"MaxcolArr\")\n",
        "  max_colArr = max(maxcolArr[0:-1])\n",
        "  print(\"Max value in column (exclude last column) : \",max_colArr)\n",
        "\n",
        "  #------- Find maximum in each row from contingency without total   -------------# \n",
        "  #ctg_nototal = test1_ctg_nototal\n",
        "  ctg_nototal_arr = ctg_rawnototal.to_numpy()\n",
        "  maxrowArr = np.amax(ctg_nototal_arr, axis=1)\n",
        "  #print(\"maxrowArr\",maxrowArr)\n",
        "\n",
        "  #------- Sum maximum in each row --------------#\n",
        "  summaxrow = 0\n",
        "  for element in maxrowArr:\n",
        "    summaxrow += element\n",
        "  \n",
        "  summax_row =summaxrow\n",
        "  print(\"Summation of max value in each row : \",summax_row)\n",
        "  #-------- Prob E -------------------# \n",
        "  probE = 1-(max_colArr/n)\n",
        "  print(\"Reduction error probability  of event : \",probE)\n",
        "\n",
        "  #---------Prob E|x -----------------#\n",
        "  probEX = 1-(summax_row/n)\n",
        "  print(\"Reduction error probability of event depends on another variable : \",probEX)\n",
        "\n",
        "  #----------Lambda--------------------#\n",
        "  lambda_EX = (probE-probEX)/probE\n",
        "\n",
        "  return lambda_EX\n",
        "\n",
        "\n",
        "                "
      ],
      "execution_count": 19,
      "outputs": []
    },
    {
      "cell_type": "code",
      "metadata": {
        "colab": {
          "base_uri": "https://localhost:8080/"
        },
        "id": "l1FjxOu6XkEs",
        "outputId": "582e3eef-754d-4c39-83a7-2c44bb7e5e6f"
      },
      "source": [
        "# 5206 Kaew\n",
        "# display result from Goodman-Kruskal's lambda for predicting brain from hand data\n",
        "know_hand = goodman(test1_ctg_total, test1_ctg_nototal, n)\n",
        "pc_knowHand = know_hand*100\n",
        "print(\"***************************************************************************************\")\n",
        "print(\"Reduction error probability for predicting brain from hand : %.3f \" %know_hand)\n",
        "print()\n",
        "print(f\"It's mean that if we predict brain based on hand data can reduce {pc_knowHand:.2f} % of error. \" )"
      ],
      "execution_count": 20,
      "outputs": [
        {
          "output_type": "stream",
          "name": "stdout",
          "text": [
            "Max value in column (exclude last column) :  33\n",
            "Summation of max value in each row :  35\n",
            "Reduction error probability  of event :  0.33999999999999997\n",
            "Reduction error probability of event depends on another variable :  0.30000000000000004\n",
            "***************************************************************************************\n",
            "Reduction error probability for predicting brain from hand : 0.118 \n",
            "\n",
            "It's mean that if we predict brain based on hand data can reduce 11.76 % of error. \n"
          ]
        }
      ]
    },
    {
      "cell_type": "markdown",
      "source": [
        "![kb.JPG](data:image/jpeg;base64,/9j/4AAQSkZJRgABAQEAeAB4AAD/4RDaRXhpZgAATU0AKgAAAAgABAE7AAIAAAAFAAAISodpAAQAAAABAAAIUJydAAEAAAAKAAAQyOocAAcAAAgMAAAAPgAAAAAc6gAAAAgAAAAAAAAAAAAAAAAAAAAAAAAAAAAAAAAAAAAAAAAAAAAAAAAAAAAAAAAAAAAAAAAAAAAAAAAAAAAAAAAAAAAAAAAAAAAAAAAAAAAAAAAAAAAAAAAAAAAAAAAAAAAAAAAAAAAAAAAAAAAAAAAAAAAAAAAAAAAAAAAAAAAAAAAAAAAAAAAAAAAAAAAAAAAAAAAAAAAAAAAAAAAAAAAAAAAAAAAAAAAAAAAAAAAAAAAAAAAAAAAAAAAAAAAAAAAAAAAAAAAAAAAAAAAAAAAAAAAAAAAAAAAAAAAAAAAAAAAAAAAAAAAAAAAAAAAAAAAAAAAAAAAAAAAAAAAAAAAAAAAAAAAAAAAAAAAAAAAAAAAAAAAAAAAAAAAAAAAAAAAAAAAAAAAAAAAAAAAAAAAAAAAAAAAAAAAAAAAAAAAAAAAAAAAAAAAAAAAAAAAAAAAAAAAAAAAAAAAAAAAAAAAAAAAAAAAAAAAAAAAAAAAAAAAAAAAAAAAAAAAAAAAAAAAAAAAAAAAAAAAAAAAAAAAAAAAAAAAAAAAAAAAAAAAAAAAAAAAAAAAAAAAAAAAAAAAAAAAAAAAAAAAAAAAAAAAAAAAAAAAAAAAAAAAAAAAAAAAAAAAAAAAAAAAAAAAAAAAAAAAAAAAAAAAAAAAAAAAAAAAAAAAAAAAAAAAAAAAAAAAAAAAAAAAAAAAAAAAAAAAAAAAAAAAAAAAAAAAAAAAAAAAAAAAAAAAAAAAAAAAAAAAAAAAAAAAAAAAAAAAAAAAAAAAAAAAAAAAAAAAAAAAAAAAAAAAAAAAAAAAAAAAAAAAAAAAAAAAAAAAAAAAAAAAAAAAAAAAAAAAAAAAAAAAAAAAAAAAAAAAAAAAAAAAAAAAAAAAAAAAAAAAAAAAAAAAAAAAAAAAAAAAAAAAAAAAAAAAAAAAAAAAAAAAAAAAAAAAAAAAAAAAAAAAAAAAAAAAAAAAAAAAAAAAAAAAAAAAAAAAAAAAAAAAAAAAAAAAAAAAAAAAAAAAAAAAAAAAAAAAAAAAAAAAAAAAAAAAAAAAAAAAAAAAAAAAAAAAAAAAAAAAAAAAAAAAAAAAAAAAAAAAAAAAAAAAAAAAAAAAAAAAAAAAAAAAAAAAAAAAAAAAAAAAAAAAAAAAAAAAAAAAAAAAAAAAAAAAAAAAAAAAAAAAAAAAAAAAAAAAAAAAAAAAAAAAAAAAAAAAAAAAAAAAAAAAAAAAAAAAAAAAAAAAAAAAAAAAAAAAAAAAAAAAAAAAAAAAAAAAAAAAAAAAAAAAAAAAAAAAAAAAAAAAAAAAAAAAAAAAAAAAAAAAAAAAAAAAAAAAAAAAAAAAAAAAAAAAAAAAAAAAAAAAAAAAAAAAAAAAAAAAAAAAAAAAAAAAAAAAAAAAAAAAAAAAAAAAAAAAAAAAAAAAAAAAAAAAAAAAAAAAAAAAAAAAAAAAAAAAAAAAAAAAAAAAAAAAAAAAAAAAAAAAAAAAAAAAAAAAAAAAAAAAAAAAAAAAAAAAAAAAAAAAAAAAAAAAAAAAAAAAAAAAAAAAAAAAAAAAAAAAAAAAAAAAAAAAAAAAAAAAAAAAAAAAAAAAAAAAAAAAAAAAAAAAAAAAAAAAAAAAAAAAAAAAAAAAAAAAAAAAAAAAAAAAAAAAAAAAAAAAAAAAAAAAAAAAAAAAAAAAAAAAAAAAAAAAAAAAAAAAAAAAAAAAAAAAAAAAAAAAAAAAAAAAAAAAAAAAAAAAAAAAAAAAAAAAAAAAAAAAAAAAAAAAAAAAAAAAAAAAAAAAAAAAAAAAAAAAAAAAAAAAAAAAAAAAAAAAAAAAAAAAAAAAAAAAAAAAAAAAAAAAAAAAAAAAAAAAAAAAAAAAAAAAAAAAAAAAAAAAAAAAAAAAAAAAAAAAAAAAAAAAAAAAAAAAAAAAAAAAAAAAAAAAAAAAAAAAAAAAAAAAAAAAAAAAAAAAAAAAAAAAAAAAAAAAAAAAAAAAAAAAAAAAAAAAAAAAAAAAAAAAAAAAAAAAAAAAAAAAAAAAAAAAAAAAAAAAAAAAAAAAAAAAAAAAAAAAAAAAAAAAAAAAAAAAAAAAAAAAAAAAAAAAAAAAAAAAAAAAAAAAAAAAAAAAAAAAAAAAAAAAAAAAAAAAAAAAAAAAAAAAAAAAAAAAAAAAAAAAAAAAAAAAAAAAAAAAAAAAAAAAAAAAAAAAAAAAAAAAAAAAAAAAAAAAAAAAAAAAAAAAAAAAAAAAAAAAAAAAAAAAAAAAAAAAAAAAAAAAAAAAAAAAAAAAAAAAAAAAAAAAAAAAAAAAAAAAAAAAAAAAAAAAAAAAAAAAAAAAAAAAAAAAAAAAAAAAAAAAAAAAAAAAAAAAAAAAAAAAAAAAAAAAAAAAAAAAAAAAAAAAAAAAAAAAAAAAAAAAAAAAAAAAAAAAAAAAAAAAAAAAAAAAAAAAAAAAAAAAAAAAAAAAAAAAAAAAAAAAAAAAAAAAAAAAAAAAAAAAAAAAAAAAAAAAAAAAAAAAAAAAAAAAAAAAAAAAAAAAAAAAAAAAAAAAAAAAAAAAAAAAAAAAAAAAAAAAAAAAAAAAAAAAAAAAAAAAAAAAAAAAAAAAAAAAAAAAAAAAAAAAAAAAAAAAAAAAAAAAAAAAAAAAAAAAAAAAAAAAAAAAAAAAAAAAAAAAAAAAAAAAAAAAAAAAAAAAAAAAAAAAAAAAAAAAAAAAAAAAAAAAAAAAAAAAAAAAAAAAAAAAAAAAAAAAAAAAAAAAAAAAAAAAAAAAAAFVzZXIAAAAFkAMAAgAAABQAABCekAQAAgAAABQAABCykpEAAgAAAAMzNAAAkpIAAgAAAAMzNAAA6hwABwAACAwAAAiSAAAAABzqAAAACAAAAAAAAAAAAAAAAAAAAAAAAAAAAAAAAAAAAAAAAAAAAAAAAAAAAAAAAAAAAAAAAAAAAAAAAAAAAAAAAAAAAAAAAAAAAAAAAAAAAAAAAAAAAAAAAAAAAAAAAAAAAAAAAAAAAAAAAAAAAAAAAAAAAAAAAAAAAAAAAAAAAAAAAAAAAAAAAAAAAAAAAAAAAAAAAAAAAAAAAAAAAAAAAAAAAAAAAAAAAAAAAAAAAAAAAAAAAAAAAAAAAAAAAAAAAAAAAAAAAAAAAAAAAAAAAAAAAAAAAAAAAAAAAAAAAAAAAAAAAAAAAAAAAAAAAAAAAAAAAAAAAAAAAAAAAAAAAAAAAAAAAAAAAAAAAAAAAAAAAAAAAAAAAAAAAAAAAAAAAAAAAAAAAAAAAAAAAAAAAAAAAAAAAAAAAAAAAAAAAAAAAAAAAAAAAAAAAAAAAAAAAAAAAAAAAAAAAAAAAAAAAAAAAAAAAAAAAAAAAAAAAAAAAAAAAAAAAAAAAAAAAAAAAAAAAAAAAAAAAAAAAAAAAAAAAAAAAAAAAAAAAAAAAAAAAAAAAAAAAAAAAAAAAAAAAAAAAAAAAAAAAAAAAAAAAAAAAAAAAAAAAAAAAAAAAAAAAAAAAAAAAAAAAAAAAAAAAAAAAAAAAAAAAAAAAAAAAAAAAAAAAAAAAAAAAAAAAAAAAAAAAAAAAAAAAAAAAAAAAAAAAAAAAAAAAAAAAAAAAAAAAAAAAAAAAAAAAAAAAAAAAAAAAAAAAAAAAAAAAAAAAAAAAAAAAAAAAAAAAAAAAAAAAAAAAAAAAAAAAAAAAAAAAAAAAAAAAAAAAAAAAAAAAAAAAAAAAAAAAAAAAAAAAAAAAAAAAAAAAAAAAAAAAAAAAAAAAAAAAAAAAAAAAAAAAAAAAAAAAAAAAAAAAAAAAAAAAAAAAAAAAAAAAAAAAAAAAAAAAAAAAAAAAAAAAAAAAAAAAAAAAAAAAAAAAAAAAAAAAAAAAAAAAAAAAAAAAAAAAAAAAAAAAAAAAAAAAAAAAAAAAAAAAAAAAAAAAAAAAAAAAAAAAAAAAAAAAAAAAAAAAAAAAAAAAAAAAAAAAAAAAAAAAAAAAAAAAAAAAAAAAAAAAAAAAAAAAAAAAAAAAAAAAAAAAAAAAAAAAAAAAAAAAAAAAAAAAAAAAAAAAAAAAAAAAAAAAAAAAAAAAAAAAAAAAAAAAAAAAAAAAAAAAAAAAAAAAAAAAAAAAAAAAAAAAAAAAAAAAAAAAAAAAAAAAAAAAAAAAAAAAAAAAAAAAAAAAAAAAAAAAAAAAAAAAAAAAAAAAAAAAAAAAAAAAAAAAAAAAAAAAAAAAAAAAAAAAAAAAAAAAAAAAAAAAAAAAAAAAAAAAAAAAAAAAAAAAAAAAAAAAAAAAAAAAAAAAAAAAAAAAAAAAAAAAAAAAAAAAAAAAAAAAAAAAAAAAAAAAAAAAAAAAAAAAAAAAAAAAAAAAAAAAAAAAAAAAAAAAAAAAAAAAAAAAAAAAAAAAAAAAAAAAAAAAAAAAAAAAAAAAAAAAAAAAAAAAAAAAAAAAAAAAAAAAAAAAAAAAAAAAAAAAAAAAAAAAAAAAAAAAAAAAAAAAAAAAAAAAAAAAAAAAAAAAAAAAAAAAAAAAAAAAAAAAAAAAAAAAAAAAAAAAAAAAAAAAAAAAAAAAAAAAAAAAAAAAAAAAAAAAAAAAAAAAAAAAAAAAAAAAAAAAAAAAAAAAAAAAAAAAAAAAAAAAAAAAAAAAAAAAAAAAAAAAAAAAAAAAAAAAAAAAAAAAAAAAAAAAAAAAAAAAAAAAAAAAAAAAAAAAAAAAAAAAAAAAAAAAAAAAAAAAAAAAAAAAAAAAAAAAAAAAAAAAAAAAAAAAAAAAAAAAAAAAAAAAAAAAAAAAAAAAAAAAAAAAAAAAAAAAAAAAAAAAAAAAAAAAAAAAAAAAAAAAAAAAAAAAAAAAAAAAAAAAAAAAAAAAAAAAAAAAAAAAAAAAAAAAAAAAAAAAAAAAAAAAAAAAAAAAAAAAAAAAAAAAAAAAAAAAAAAAAAAAAAAAAAAAAAAAAAAAAAAAAAAAAAAAAAAAAAAAAAAAAAAAAAAAAAAAAAAAAAAAAAAAAAAAAAAAAAAAAAAAAAAAAAAAAAAAAAAAAAAAAAAAAAAAAAAAAAAAAAAAAAAAAAAAAAAAAAAAAAAAAAAAAAAAAAAAAAAAAAAAAAAAAAAAAAAAAAAAAAAAAAAAAAAAAAAAAAAAAAAAAAAAAAAAAAAAAAAAAAAAAAAAAAAAAAAAAAAAAAAAAAAAAAAAAAAAAAAAAAAAAAAAAAAAAAAAAAAAAAAAAAAAAAAAAAAAAAAAAAAAAAAAAAAAAAAAAAAAAAAAAAAAAAAAAAAAAAAAAAAAAAAAAAAAAAAAAAAAAAAAAAAAAAAAAAAAAAAAAAAAAAAAAAAAAAAAAAAAAAAAAAAAAAAAAAAAAAAAAAAAAAAAAAAAAAAAAAAAAAAAAAAAAAAAAAAAAAAAAAAAAAAAAAAAAAAAAAAAAAAAAAAAAAAAAAAAAAAAAAAAAAAAAAAAAAAAAAAAAAAAAAAAAAAAAAAAAAAAAAAAAAAAAAAAAAAAAAAAAAAAAAAAAAAAAAAAAAAAAAAAAAAAAAAAAAAAAAAAAAAAAAAAAAAAAAAAAAAAAAAAAAAAAAAAAAAAAAAAAAAAAAAAAAAAAAAAAAAAAAAAAAAAAAAAAAAAAAAAAAAAAAAAAAAAAAAAAAAAAAAAAAAAAAAMjAyMToxMjoxMiAxMDo1NDoxMAAyMDIxOjEyOjEyIDEwOjU0OjEwAAAAVQBzAGUAcgAAAP/hCxdodHRwOi8vbnMuYWRvYmUuY29tL3hhcC8xLjAvADw/eHBhY2tldCBiZWdpbj0n77u/JyBpZD0nVzVNME1wQ2VoaUh6cmVTek5UY3prYzlkJz8+DQo8eDp4bXBtZXRhIHhtbG5zOng9ImFkb2JlOm5zOm1ldGEvIj48cmRmOlJERiB4bWxuczpyZGY9Imh0dHA6Ly93d3cudzMub3JnLzE5OTkvMDIvMjItcmRmLXN5bnRheC1ucyMiPjxyZGY6RGVzY3JpcHRpb24gcmRmOmFib3V0PSJ1dWlkOmZhZjViZGQ1LWJhM2QtMTFkYS1hZDMxLWQzM2Q3NTE4MmYxYiIgeG1sbnM6ZGM9Imh0dHA6Ly9wdXJsLm9yZy9kYy9lbGVtZW50cy8xLjEvIi8+PHJkZjpEZXNjcmlwdGlvbiByZGY6YWJvdXQ9InV1aWQ6ZmFmNWJkZDUtYmEzZC0xMWRhLWFkMzEtZDMzZDc1MTgyZjFiIiB4bWxuczp4bXA9Imh0dHA6Ly9ucy5hZG9iZS5jb20veGFwLzEuMC8iPjx4bXA6Q3JlYXRlRGF0ZT4yMDIxLTEyLTEyVDEwOjU0OjEwLjM0NDwveG1wOkNyZWF0ZURhdGU+PC9yZGY6RGVzY3JpcHRpb24+PHJkZjpEZXNjcmlwdGlvbiByZGY6YWJvdXQ9InV1aWQ6ZmFmNWJkZDUtYmEzZC0xMWRhLWFkMzEtZDMzZDc1MTgyZjFiIiB4bWxuczpkYz0iaHR0cDovL3B1cmwub3JnL2RjL2VsZW1lbnRzLzEuMS8iPjxkYzpjcmVhdG9yPjxyZGY6U2VxIHhtbG5zOnJkZj0iaHR0cDovL3d3dy53My5vcmcvMTk5OS8wMi8yMi1yZGYtc3ludGF4LW5zIyI+PHJkZjpsaT5Vc2VyPC9yZGY6bGk+PC9yZGY6U2VxPg0KCQkJPC9kYzpjcmVhdG9yPjwvcmRmOkRlc2NyaXB0aW9uPjwvcmRmOlJERj48L3g6eG1wbWV0YT4NCiAgICAgICAgICAgICAgICAgICAgICAgICAgICAgICAgICAgICAgICAgICAgICAgICAgICAgICAgICAgICAgICAgICAgICAgICAgICAgICAgICAgICAgICAgICAgICAgICAgICAKICAgICAgICAgICAgICAgICAgICAgICAgICAgICAgICAgICAgICAgICAgICAgICAgICAgICAgICAgICAgICAgICAgICAgICAgICAgICAgICAgICAgICAgICAgICAgICAgICAgIAogICAgICAgICAgICAgICAgICAgICAgICAgICAgICAgICAgICAgICAgICAgICAgICAgICAgICAgICAgICAgICAgICAgICAgICAgICAgICAgICAgICAgICAgICAgICAgICAgICAgCiAgICAgICAgICAgICAgICAgICAgICAgICAgICAgICAgICAgICAgICAgICAgICAgICAgICAgICAgICAgICAgICAgICAgICAgICAgICAgICAgICAgICAgICAgICAgICAgICAgICAKICAgICAgICAgICAgICAgICAgICAgICAgICAgICAgICAgICAgICAgICAgICAgICAgICAgICAgICAgICAgICAgICAgICAgICAgICAgICAgICAgICAgICAgICAgICAgICAgICAgIAogICAgICAgICAgICAgICAgICAgICAgICAgICAgICAgICAgICAgICAgICAgICAgICAgICAgICAgICAgICAgICAgICAgICAgICAgICAgICAgICAgICAgICAgICAgICAgICAgICAgCiAgICAgICAgICAgICAgICAgICAgICAgICAgICAgICAgICAgICAgICAgICAgICAgICAgICAgICAgICAgICAgICAgICAgICAgICAgICAgICAgICAgICAgICAgICAgICAgICAgICAKICAgICAgICAgICAgICAgICAgICAgICAgICAgICAgICAgICAgICAgICAgICAgICAgICAgICAgICAgICAgICAgICAgICAgICAgICAgICAgICAgICAgICAgICAgICAgICAgICAgIAogICAgICAgICAgICAgICAgICAgICAgICAgICAgICAgICAgICAgICAgICAgICAgICAgICAgICAgICAgICAgICAgICAgICAgICAgICAgICAgICAgICAgICAgICAgICAgICAgICAgCiAgICAgICAgICAgICAgICAgICAgICAgICAgICAgICAgICAgICAgICAgICAgICAgICAgICAgICAgICAgICAgICAgICAgICAgICAgICAgICAgICAgICAgICAgICAgICAgICAgICAKICAgICAgICAgICAgICAgICAgICAgICAgICAgICAgICAgICAgICAgICAgICAgICAgICAgICAgICAgICAgICAgICAgICAgICAgICAgICAgICAgICAgICAgICAgICAgICAgICAgIAogICAgICAgICAgICAgICAgICAgICAgICAgICAgICAgICAgICAgICAgICAgICAgICAgICAgICAgICAgICAgICAgICAgICAgICAgICAgICAgICAgICAgICAgICAgICAgICAgICAgCiAgICAgICAgICAgICAgICAgICAgICAgICAgICAgICAgICAgICAgICAgICAgICAgICAgICAgICAgICAgICAgICAgICAgICAgICAgICAgICAgICAgICAgICAgICAgICAgICAgICAKICAgICAgICAgICAgICAgICAgICAgICAgICAgICAgICAgICAgICAgICAgICAgICAgICAgICAgICAgICAgICAgICAgICAgICAgICAgICAgICAgICAgICAgICAgICAgICAgICAgIAogICAgICAgICAgICAgICAgICAgICAgICAgICAgICAgICAgICAgICAgICAgICAgICAgICAgICAgICAgICAgICAgICAgICAgICAgICAgICAgICAgICAgICAgICAgICAgICAgICAgCiAgICAgICAgICAgICAgICAgICAgICAgICAgICAgICAgICAgICAgICAgICAgICAgICAgICAgICAgICAgICAgICAgICAgICAgICAgICAgICAgICAgICAgICAgICAgICAgICAgICAKICAgICAgICAgICAgICAgICAgICAgICAgICAgICAgICAgICAgICAgICAgICAgICAgICAgICAgICAgICAgICAgICAgICAgICAgICAgICAgICAgICAgICAgICAgICAgICAgICAgIAogICAgICAgICAgICAgICAgICAgICAgICAgICAgICAgICAgICAgICAgICAgICAgICAgICAgICAgICAgICAgICAgICAgICAgICAgICAgICAgICAgICAgICAgICAgICAgICAgICAgCiAgICAgICAgICAgICAgICAgICAgICAgICAgICAgICAgICAgICAgICAgICAgICAgICAgICAgICAgICAgICAgICAgICAgICAgICAgICAgICAgICAgICAgICAgICAgICAgICAgICAKICAgICAgICAgICAgICAgICAgICAgICAgICAgICAgICAgICAgICAgICAgICAgICAgICAgICAgICAgICAgICAgICAgICAgICAgICAgICAgICAgICAgICAgICAgICAgICAgICAgIAogICAgICAgICAgICAgICAgICAgICAgICAgICAgPD94cGFja2V0IGVuZD0ndyc/Pv/bAEMABwUFBgUEBwYFBggHBwgKEQsKCQkKFQ8QDBEYFRoZGBUYFxseJyEbHSUdFxgiLiIlKCkrLCsaIC8zLyoyJyorKv/bAEMBBwgICgkKFAsLFCocGBwqKioqKioqKioqKioqKioqKioqKioqKioqKioqKioqKioqKioqKioqKioqKioqKioqKv/AABEIAFMBcwMBIgACEQEDEQH/xAAfAAABBQEBAQEBAQAAAAAAAAAAAQIDBAUGBwgJCgv/xAC1EAACAQMDAgQDBQUEBAAAAX0BAgMABBEFEiExQQYTUWEHInEUMoGRoQgjQrHBFVLR8CQzYnKCCQoWFxgZGiUmJygpKjQ1Njc4OTpDREVGR0hJSlNUVVZXWFlaY2RlZmdoaWpzdHV2d3h5eoOEhYaHiImKkpOUlZaXmJmaoqOkpaanqKmqsrO0tba3uLm6wsPExcbHyMnK0tPU1dbX2Nna4eLj5OXm5+jp6vHy8/T19vf4+fr/xAAfAQADAQEBAQEBAQEBAAAAAAAAAQIDBAUGBwgJCgv/xAC1EQACAQIEBAMEBwUEBAABAncAAQIDEQQFITEGEkFRB2FxEyIygQgUQpGhscEJIzNS8BVictEKFiQ04SXxFxgZGiYnKCkqNTY3ODk6Q0RFRkdISUpTVFVWV1hZWmNkZWZnaGlqc3R1dnd4eXqCg4SFhoeIiYqSk5SVlpeYmZqio6Slpqeoqaqys7S1tre4ubrCw8TFxsfIycrS09TV1tfY2dri4+Tl5ufo6ery8/T19vf4+fr/2gAMAwEAAhEDEQA/APpGiiigAooooAKKKKACiiigAooooAKKKKACiiigAooooAKKKKACisvxNH5vhXVFEs0J+ySMskEzROpCkgh1IIOR2NeQaJa3U37Oa+MD4l16DXINOnvBdvq9xIryRs+1WikcxkHaFxt7+tAHudFYXgfVr3XfAWiarqsYjvLyximmAXaCzKCSB2B64963aACiiigAooooAKKKKACiiigAorzP4/3l7pnwmvNS0rUL3T7y2nh8uazupIWG6QKQdhGRgng5qj8R47v4fDQNX8K6vqxnuNXgspNPvNRmvI7xH3ZULM7FW46rj+RoA9aooooAKKKKACiiigAooooAKKKKACiiigAooooAKKKKACiiua8X+Idc8P2r3WjeGTrNvBCZ7hherCyqMkhFKku2BnHGemc0AdLRVPSNUttb0Wy1WwbfbXsCXERI5KuoYZ98GrlABRRRQAUUUUAFFFFABRRRQAUUUUAFFFFABRRRQBneITjwxqmf+fOb/wBANeYfB/wR4f134P8Ah661aC41ANG7Nb3F/PJbbllb/lgX8oYI6betes3tla6lZS2eo20N3bTLtkgnjDo49Cp4IqHStF0rQrVrbRNMs9NgZt7RWdusSlumSFAGeBzQB5d4R8Y/8IjpPjH+0o9d1ew0fxBcRGYym5NnaqkQXLSuGZV+Y4Xcw5JHOa9D1LxRBZNZxWVhf6rcXsRnghsoh80YAyxeRlRfvDhmBOeAa85Tw/4qfwB8R9Ofwxcx3mu6jcXFhEbu2PmJOipyRJhSuzJzjgjGTnGzPZ+LriXw7FPpmqRaNHpvlXtjYahDBPHdAqqtJKsgJj2g/wCrfPOSD0oA0bz4q6NafD//AITA2WpS6fHc/ZrmJI4xNavv8s+YrOBgPgHaT94HpkjTsfG1leeK08PzWGoWN1Pam7tXu4lRLmIEAlcMWBGRlXCt7V5bf+CPF7/AjxF4Si8Ozvqd7q7SQAX8MitEbhZvMMjyBiMJt+b5yWBI6kdxqFnrt98WvC+tJ4fuk06206eO6ma4gzBJNtOwqJMnbswSuRzxmgDC+J3jkal8OvEEvhq214ppzMi61p0wgijmRsEbhKsjqCSCQrL+WR6pYMz6dbM5LM0SkknJJwK8hk8KeLbP4O654Ct9A+0zZuRZ363UKw3MckzSDgsGV/mIwVC8fe9fWdIM50a0+12zWs4hUSQuysUIGCMqSD+BoAtSKXiZVdoyykB1xlfcZBGfqK53/hF9X/6HvxB/340//wCRa6SigDE0/QdRsr+O4ufFmsahEmd1tcxWYjfII5McCtxnPDDkdxxW3RRQB5b+0Yf+LI6r/wBdrf8A9GrW3rfgDw+mi3uoxjUJb23tJHtb2bVbmea3O0ndFI8jFDwOVIyOOldRq2haRr0CQ65pdlqUUbbkjvLdJlU+oDA4NVtZsjaeDb2x0LTVcrZvDbWVtsiHKkBVyQqjn2FAHG+BviAkPg3wZBrlvqsj6vBDbJqs6ho5rkoTsZi3mbjtPzFdp9a6DxB4+tPD51Fn0jV76DSkV7+4tYEEdupUNnMjrvwpyfL3Y71w02geK4vh98OdPi8LXU15oOoW9zfwrd2wKLAjJwTKAxbfkYPY5xxVzxh4f8Ya+PF9jcWeoXkV1bSJopttUW1tFQxY2SKrq7uWzw4ZDkAkDNAHV6l8Q9M03XtE0s2WoXTa9btPp9xbRI8c21dxT7wYHBU5K7QGBJADYn0jx3pOp6Xq97crcaV/YkrxajDfhVe3KqGJOxmUjByCCc1xQ0LxO/ir4XXjeGrpYPD9lNDqTm6tj5LSwrBwPMywXZvO0H5SMZbKhX8H+INct/iZp91pUmmr4gcNp9xPPE6SbYhGMhGZlyUB5HAPqMUAGveLLrVvF/gS70+x8Q6TaX2ohBLPMIre8hMbthoklJzkKR5iKcVvX8txeav47s5L28jhg0+2eAQXUkRhby5WJQqQVJKjOMZxzmsnV7XxdrP/AAhlw3hOaCTRdRjmvYje2/IETIWjxIQUy3chuny9TW1FbyXfjDx3bwLulmsLSNFzjLGKUAUAYvgP4giw+G/hWbxJBq0kd9HHbyazcKHj85yQocs3mcnA37SvI+auiuviJbW/iHWNDi0LWrvUNJt1uXhtoYnM8TZw0f7znp904Y9ACa4tPCvirWvhboPgTUfD76e1q1qt5qL3cLQrFC4b5Arl2chQMFQMk84rpNI0rW4fjlrms3GjTxaTeafDaw3rTwkM0ZJJ2By4BzgcducUAamsePrfSLe6mGh61eJY2y3V8YLZF+yoy7/m8x13EDkhNxHeqOveJtMuNc8EutxraQatMJrGbT5US3uN0e4JcAtuK7TuAA61k+LND8Xa1qPie0ntNQu7K4tdmjG01NbS2jzFhhMFdZGYvnqGUjA4Gaof8I94nbTfhbCfDd0r+HzH/aP+k237nZF5PH735s43fLng+vFAHWyfEe1Gv63osGhazc6hoqJLNDDFEfNjYEh0YyBcYGcMVY54BOQOg8Pa7Y+J/D1lrWkuz2d7EJIiwwQPQjsQcg/SuL0jT/EGnfFrxjrsnh26axvbOBbORbi3/wBIeBSNoHmZXeT8pYAf3sVo/CPSNV8P/DDStH1/T3sL6xV43jeWOTd85YMCjMMfN354PFAHaUUUUAFFFFABXO+PPE6eEfBl9qvlefcBRDaW+MmedztjQDvliM+2a6KuN13wpqniH4j6HqN/NaDw7ooa5itg7GWa8Iwrsu3aFQEkYbOfrwAZ/wAKZr7SfhcdNv7d7zUfD89zYzQWu3dK0bkqE3FV5RkxkgcjpXV+FPEtn4w8L2WvaZHPFa3qF40uFCuAGK8gEjqPU1lab4e1rR/H2rX1jNYtoWryR3M8Uhfzop1iEbbABtIYKhJJ4weDnjyrwut5o3wR8Ca5YatqMN1/advbmNLllgaGS5ZGjaIfIwIJO4gtnoQMCgD6BorzPxvfR3mo6/a2V/4jvLzTrFWNvpFwLWPTXKMyyPJvjDkjDbWLcD7vNYWpazrGoeFfhRqQ1i/tb3VLu2t7yW2uGQTrJES5ZPuMSVzkqcHp6UAe01g+JfFtt4WutHjvbG9nj1a+jsI57dYykMsjBU8zc4YA5PKhvunPbPEx6vqPhPxD8RLa0vbu/tdL0eLU7KC+uJLgxSeVKWUM5LbSUBxnjtisPW9Jz4U+HOvXmtalqGoX+v6VPPJNfyPDK0jbzthz5agdtqg4HU80Aes3HiKKLWr7SYLO6ur2zsI74xwhB5qu8iKilmA3Zibrgcjn0j8HeK7Hxv4Ts/EOlRXENpeb/LS5VVkGx2Q5Ckjqp79KzbT/AJLPq3/Yv2X/AKUXVeS6BHc+Hv2WNO8U6PrF/DqGmq09uEumEHN2Q0Twg7HB3EHcC2TwR0oA+h6K8v1EXd78eLTTG1PVbWx1Dw49xcWcN9KiCQSqoKgH5GAxym09fU5n1iGCLUo/DcWr+LNZuLDS0D2theCGVCSwW5muN8W52xjaXx8udvNAHb61rH9iwW0v9nahqH2i6jt9lhB5rR7zjzHGRhB3btWlXhU3iHWdQ+DHw812bVr6PUZ9YtbeeaC5eP7QjSsrCQKQHyEGc57+prpmt7nUfj3rGiy6xq0WmSaHFdtaw6hKiiQyFMoQ2Y+AD8hXJHPUggHp9VNTj1GWyK6PdWtrdbhiS6tmnQDuNiyIc++6uV+EmpX+pfDy3bVryW+ube6ubY3MxzJIsc7opY9zgAZ9q6rU9J07WrI2esWFrqFqWDGC6hWVCR0O1gRmgDG+w+N/+hh8P/8Aghn/APkytLSINch87+3tR0+9zt8r7FYPbbOud26aTdnjGMYweueM3/hXHgj/AKE3w/8A+CuD/wCJrS0jw5ofh/zv7B0bT9M8/b5v2K1SHzNucbtoGcZOM+poAreK/E3/AAiulR339i6xrPmTCH7Po9p9olXKsd5XIwvy4z6ketcj/wALk/6px8QP/BH/APZ16TRQB5t/wuT/AKpx8QP/AAR//Z0f8Lk/6px8QP8AwR//AGdek0UAebf8Lk/6px8QP/BH/wDZ0f8AC5P+qcfED/wR/wD2dek0UAebf8Lk/wCqcfED/wAEf/2dH/C5P+qcfED/AMEf/wBnXpNFAHm3/C5P+qcfED/wR/8A2dH/AAuT/qnHxA/8Ef8A9nXpNMnkaG3kkjhed0QssUZUM5A+6NxAyenJA9SKAPOf+Fyf9U4+IH/gj/8As6P+Fyf9U4+IH/gj/wDs6s6X8W7bV/DsuvWPhTxFJpcDOstyI7Ztmz7/AMgnLnGOymux0PW9P8R6Ha6vo1wtzY3ab4pQCMjoeDyCCCCD0IoA4X/hcn/VOPiB/wCCP/7Oj/hcn/VOPiB/4I//ALOvSaKAPNv+Fyf9U4+IH/gj/wDs6P8Ahcn/AFTj4gf+CP8A+zr0migDzb/hcn/VOPiB/wCCP/7Oj/hcn/VOPiB/4I//ALOvSaKAPNv+Fyf9U4+IH/gj/wDs6qwfFGzttTu9Qg+GfxAW6vFjWeT+xSd4QELwZMDG49K9TooA82/4XJ/1Tj4gf+CP/wCzo/4XJ/1Tj4gf+CP/AOzr0migDzb/AIXJ/wBU4+IH/gj/APs6P+Fyf9U4+IH/AII//s69JooA82/4XJ/1Tj4gf+CP/wCzrc8KeP8A/hKtVksf+ET8UaN5cJm+0axpv2eJsMo2Btxy3zZx6A+ldbRQAUUUUAFFFFABRRRQBFd2sd7ZT2txv8qeNo38uRo22sMHDKQVOD1BBHauVb4WeEW8N2ugf2dcDS7Of7Tb266jcjy5OuQwkzweQM4BJI5NdfRQBzt14D8O3uo3F9c2Mjz3cKwXX+lzBblFXavmoH2yEDgFgT71Uf4Y+FJNO0mxayuvs2jOZLBBqVyPIbOcgiTJI7ZzgcDArraKAMK28GaFa+JL/XobST+0NRj8q7d7qV0mToFMbMUwO3y8ZOOprOb4W+EGsYrNtMmNtbzrcW8X2+4227qcjy/3n7sZ52rgcDjgV11FAHO2uk3kXxLv9UaEixl0e1tY5S4O6RJrhmXGc8CRDk8HPXrVSx+F/hDTY7aK00t1trVxLDaPeTvbq46P5LOULd9xXOec5rraKAMOXwbok/jCLxRJbznWIY/KS4F5MFVMY2+WH2Y7429eevNLfeD9D1LXP7Xu7NzetEIZHjuJI1njHRJEVgsi8nhwRW3RQByA+FnhEaDY6Mun3K6fp9wbq1gXUrkCKXOdwIkzweRzgEkjGTnQHgnQl8Uz+I1t7karPB9nkuPt0/MeMbdu/aB3GBweRzzW/RQBj+GvCmj+ENNfT/D9vLbWryGUxvcyzAMepBkZiM9cDvk962KKKACiiigAooooAKKKKACiiigAooooAKKKZOZVt5DbIkkwQmNJHKKzY4BYAkDPfBx6GgDw/wCEeqa5H8Kryw0LwzdX00t7eLFePcW8dsrMx+9mTzMA9cIfaut+DKwaJ4auPBJgu49R8NuI757hUCSPMWlDRlWbKYbjODjGQDmrnwm8J654K8Kz6R4g/s92+1yXEUtlO8gYOckMGRcYPpnPtjnmxpZ1Hx78VXOoahZ+Qlm8f2G6e3YSCyBDlkIY4x90nb1yDxgA9eorzCz8QtqfgLwP/bGq6q+o6taLK1npY2T6iViBfMg2mNRkMWDL1AzzXMSavq7fCP4io9/rVpNomoyCxee/Y3dqoSNhG00cjbwCxHLNweSewB7tWdr+rroHh+81aSzubyOziM0kNqEMhQfeIDsoOBk4z0Bxk4B8/SXUNJ8ffD549Y1C4XXra5TUYrm5eSOUpbCVHWMnYhBH8IGQefWs+ZZ/GPhv4iaprGr6jEdLutQ0+0tbS+kgit44I8AsiEBy33jvDDBGBigD1PRNVg17QNP1ezSRLfULWO6iWUAOquoYBgCRnB5wTV6ub+HH/JLPCn/YFs//AEQldJQAUUUUAFFFFABRRRQAUUUUAFFFFABRRRQAUUUUAFFFFABRRRQAUUUUAFFFFABRRRQAUUUUAFFFFABRRRQAUUUUAFFFFABRRRQAUUUUAFFFFABXNL8PvDiXmtXSWtyJtdUrqLDULj9+D7b/AJcdBtxgcDA4rpaKAOXj+HHhiHTNNsIbK4ih0pnaxePULhZbbcMMElEm8KQPu7se1RyfDDwlJZarZ/2ZKltq7rJfQxXs8aTMvQlVcAe+MZ75rrKKAObf4f8Ah2S+0W8e1umuNCQJp0h1C4zCvp9/5sjg7s5HByOKdd+AvDd7qF9eXGnt5moLtvEjuZY47jjG541YIzY6MRkdc10VFAFHRdFsfD2j2+laRE0NlapshiaV5Ni9hlyTj8avUUUAFFFFABRRRQAUUUUAFFFFABRRRQAUUUUAFFFFABRRRQAUUUUAFFFFABRRRQAUUUUAFFFFABRRRQAUUUUAFFFFABRRRQAUUUUAFFFFABRRRQAUUUUAFFFFABRRRQAUUUUAFFFFABRRRQAUUUUAFFFFABRRRQAUUUUAf//Z)"
      ],
      "metadata": {
        "id": "jp9PUEL9xwVH"
      }
    },
    {
      "cell_type": "markdown",
      "source": [
        "* note: Transpose contingency table before calculated"
      ],
      "metadata": {
        "id": "HUvDhq6jx1Gr"
      }
    },
    {
      "cell_type": "code",
      "metadata": {
        "colab": {
          "base_uri": "https://localhost:8080/",
          "height": 318
        },
        "id": "ve0323I0azxB",
        "outputId": "a3f42d62-3541-4353-ef48-7ace6ce71afe"
      },
      "source": [
        "# 5206 Kaew\n",
        "# tranposed contingency table for predicting hand based on brain data\n",
        "Tp_total = test1_ctg_total.transpose()\n",
        "display(Tp_total)\n",
        "print(\"***********************************************\")\n",
        "\n",
        "Tp_nototal = test1_ctg_nototal.transpose()\n",
        "display(Tp_nototal)"
      ],
      "execution_count": 21,
      "outputs": [
        {
          "output_type": "display_data",
          "data": {
            "text/html": [
              "<div>\n",
              "<style scoped>\n",
              "    .dataframe tbody tr th:only-of-type {\n",
              "        vertical-align: middle;\n",
              "    }\n",
              "\n",
              "    .dataframe tbody tr th {\n",
              "        vertical-align: top;\n",
              "    }\n",
              "\n",
              "    .dataframe thead th {\n",
              "        text-align: right;\n",
              "    }\n",
              "</style>\n",
              "<table border=\"1\" class=\"dataframe\">\n",
              "  <thead>\n",
              "    <tr style=\"text-align: right;\">\n",
              "      <th>Hand</th>\n",
              "      <th>Left hand</th>\n",
              "      <th>Right hand</th>\n",
              "      <th>All</th>\n",
              "    </tr>\n",
              "    <tr>\n",
              "      <th>Realbrain</th>\n",
              "      <th></th>\n",
              "      <th></th>\n",
              "      <th></th>\n",
              "    </tr>\n",
              "  </thead>\n",
              "  <tbody>\n",
              "    <tr>\n",
              "      <th>Left brain</th>\n",
              "      <td>3</td>\n",
              "      <td>30</td>\n",
              "      <td>33</td>\n",
              "    </tr>\n",
              "    <tr>\n",
              "      <th>Right brain</th>\n",
              "      <td>5</td>\n",
              "      <td>12</td>\n",
              "      <td>17</td>\n",
              "    </tr>\n",
              "    <tr>\n",
              "      <th>All</th>\n",
              "      <td>8</td>\n",
              "      <td>42</td>\n",
              "      <td>50</td>\n",
              "    </tr>\n",
              "  </tbody>\n",
              "</table>\n",
              "</div>"
            ],
            "text/plain": [
              "Hand         Left hand  Right hand  All\n",
              "Realbrain                              \n",
              "Left brain           3          30   33\n",
              "Right brain          5          12   17\n",
              "All                  8          42   50"
            ]
          },
          "metadata": {}
        },
        {
          "output_type": "stream",
          "name": "stdout",
          "text": [
            "***********************************************\n"
          ]
        },
        {
          "output_type": "display_data",
          "data": {
            "text/html": [
              "<div>\n",
              "<style scoped>\n",
              "    .dataframe tbody tr th:only-of-type {\n",
              "        vertical-align: middle;\n",
              "    }\n",
              "\n",
              "    .dataframe tbody tr th {\n",
              "        vertical-align: top;\n",
              "    }\n",
              "\n",
              "    .dataframe thead th {\n",
              "        text-align: right;\n",
              "    }\n",
              "</style>\n",
              "<table border=\"1\" class=\"dataframe\">\n",
              "  <thead>\n",
              "    <tr style=\"text-align: right;\">\n",
              "      <th>Hand</th>\n",
              "      <th>Left hand</th>\n",
              "      <th>Right hand</th>\n",
              "    </tr>\n",
              "    <tr>\n",
              "      <th>Realbrain</th>\n",
              "      <th></th>\n",
              "      <th></th>\n",
              "    </tr>\n",
              "  </thead>\n",
              "  <tbody>\n",
              "    <tr>\n",
              "      <th>Left brain</th>\n",
              "      <td>3</td>\n",
              "      <td>30</td>\n",
              "    </tr>\n",
              "    <tr>\n",
              "      <th>Right brain</th>\n",
              "      <td>5</td>\n",
              "      <td>12</td>\n",
              "    </tr>\n",
              "  </tbody>\n",
              "</table>\n",
              "</div>"
            ],
            "text/plain": [
              "Hand         Left hand  Right hand\n",
              "Realbrain                         \n",
              "Left brain           3          30\n",
              "Right brain          5          12"
            ]
          },
          "metadata": {}
        }
      ]
    },
    {
      "cell_type": "code",
      "source": [
        "# 5206 Kaew\n",
        "# display result from Goodman-Kruskal's lambda for predicting hand from brain data\n",
        "know_brain = goodman(Tp_total, Tp_nototal, n)\n",
        "pc_knowBrain = know_brain*100\n",
        "print(\"***************************************************************************************\")\n",
        "print(\"Reduction error probability for predicting hand from brain : %.3f \" %know_brain)\n",
        "print()\n",
        "print(f\"It's mean that if we predict hand based on brain data can reduce {pc_knowBrain:.2f} % of error. \" )"
      ],
      "metadata": {
        "colab": {
          "base_uri": "https://localhost:8080/"
        },
        "id": "uqkGWRY0ysuf",
        "outputId": "97847668-103d-4f00-c867-3f8010c110a3"
      },
      "execution_count": 22,
      "outputs": [
        {
          "output_type": "stream",
          "name": "stdout",
          "text": [
            "Max value in column (exclude last column) :  42\n",
            "Summation of max value in each row :  42\n",
            "Reduction error probability  of event :  0.16000000000000003\n",
            "Reduction error probability of event depends on another variable :  0.16000000000000003\n",
            "***************************************************************************************\n",
            "Reduction error probability for predicting hand from brain : 0.000 \n",
            "\n",
            "It's mean that if we predict hand based on brain data can reduce 0.00 % of error. \n"
          ]
        }
      ]
    },
    {
      "cell_type": "markdown",
      "source": [
        "## Explore overall data"
      ],
      "metadata": {
        "id": "sIGngthWzSCR"
      }
    },
    {
      "cell_type": "code",
      "source": [
        "df.head()"
      ],
      "metadata": {
        "colab": {
          "base_uri": "https://localhost:8080/",
          "height": 206
        },
        "id": "LT-enWiPu6rk",
        "outputId": "5cd2aad2-4bfa-4f4d-c085-eb83cb29b4c2"
      },
      "execution_count": 23,
      "outputs": [
        {
          "output_type": "execute_result",
          "data": {
            "text/html": [
              "<div>\n",
              "<style scoped>\n",
              "    .dataframe tbody tr th:only-of-type {\n",
              "        vertical-align: middle;\n",
              "    }\n",
              "\n",
              "    .dataframe tbody tr th {\n",
              "        vertical-align: top;\n",
              "    }\n",
              "\n",
              "    .dataframe thead th {\n",
              "        text-align: right;\n",
              "    }\n",
              "</style>\n",
              "<table border=\"1\" class=\"dataframe\">\n",
              "  <thead>\n",
              "    <tr style=\"text-align: right;\">\n",
              "      <th></th>\n",
              "      <th>Gender</th>\n",
              "      <th>Hand</th>\n",
              "      <th>Expected_brain</th>\n",
              "      <th>Left_brain</th>\n",
              "      <th>Right_brain</th>\n",
              "      <th>Personality</th>\n",
              "      <th>Realbrain</th>\n",
              "      <th>Percent_realbrain</th>\n",
              "    </tr>\n",
              "  </thead>\n",
              "  <tbody>\n",
              "    <tr>\n",
              "      <th>0</th>\n",
              "      <td>Male</td>\n",
              "      <td>Right hand</td>\n",
              "      <td>Left brain</td>\n",
              "      <td>56</td>\n",
              "      <td>44</td>\n",
              "      <td>Reasoning</td>\n",
              "      <td>Left brain</td>\n",
              "      <td>56</td>\n",
              "    </tr>\n",
              "    <tr>\n",
              "      <th>1</th>\n",
              "      <td>Female</td>\n",
              "      <td>Right hand</td>\n",
              "      <td>Left brain</td>\n",
              "      <td>37</td>\n",
              "      <td>63</td>\n",
              "      <td>Memory</td>\n",
              "      <td>Right brain</td>\n",
              "      <td>63</td>\n",
              "    </tr>\n",
              "    <tr>\n",
              "      <th>2</th>\n",
              "      <td>Female</td>\n",
              "      <td>Right hand</td>\n",
              "      <td>Right brain</td>\n",
              "      <td>43</td>\n",
              "      <td>57</td>\n",
              "      <td>Art</td>\n",
              "      <td>Right brain</td>\n",
              "      <td>57</td>\n",
              "    </tr>\n",
              "    <tr>\n",
              "      <th>3</th>\n",
              "      <td>Female</td>\n",
              "      <td>Right hand</td>\n",
              "      <td>Left brain</td>\n",
              "      <td>36</td>\n",
              "      <td>54</td>\n",
              "      <td>Art</td>\n",
              "      <td>Right brain</td>\n",
              "      <td>54</td>\n",
              "    </tr>\n",
              "    <tr>\n",
              "      <th>4</th>\n",
              "      <td>Female</td>\n",
              "      <td>Right hand</td>\n",
              "      <td>Right brain</td>\n",
              "      <td>40</td>\n",
              "      <td>60</td>\n",
              "      <td>Art</td>\n",
              "      <td>Right brain</td>\n",
              "      <td>60</td>\n",
              "    </tr>\n",
              "  </tbody>\n",
              "</table>\n",
              "</div>"
            ],
            "text/plain": [
              "   Gender        Hand  ...    Realbrain  Percent_realbrain\n",
              "0    Male  Right hand  ...   Left brain                 56\n",
              "1  Female  Right hand  ...  Right brain                 63\n",
              "2  Female  Right hand  ...  Right brain                 57\n",
              "3  Female  Right hand  ...  Right brain                 54\n",
              "4  Female  Right hand  ...  Right brain                 60\n",
              "\n",
              "[5 rows x 8 columns]"
            ]
          },
          "metadata": {},
          "execution_count": 23
        }
      ]
    },
    {
      "cell_type": "code",
      "source": [
        "# 5206 Kaew\n",
        "# create Frequency Distribution Table focused on actual brain\n",
        "pd.crosstab([df['Gender'], df['Hand']], df['Realbrain'], margins=True)"
      ],
      "metadata": {
        "colab": {
          "base_uri": "https://localhost:8080/",
          "height": 238
        },
        "id": "lacewdgjuv_2",
        "outputId": "1a67b847-bd67-463a-9c46-853859c10540"
      },
      "execution_count": 24,
      "outputs": [
        {
          "output_type": "execute_result",
          "data": {
            "text/html": [
              "<div>\n",
              "<style scoped>\n",
              "    .dataframe tbody tr th:only-of-type {\n",
              "        vertical-align: middle;\n",
              "    }\n",
              "\n",
              "    .dataframe tbody tr th {\n",
              "        vertical-align: top;\n",
              "    }\n",
              "\n",
              "    .dataframe thead th {\n",
              "        text-align: right;\n",
              "    }\n",
              "</style>\n",
              "<table border=\"1\" class=\"dataframe\">\n",
              "  <thead>\n",
              "    <tr style=\"text-align: right;\">\n",
              "      <th></th>\n",
              "      <th>Realbrain</th>\n",
              "      <th>Left brain</th>\n",
              "      <th>Right brain</th>\n",
              "      <th>All</th>\n",
              "    </tr>\n",
              "    <tr>\n",
              "      <th>Gender</th>\n",
              "      <th>Hand</th>\n",
              "      <th></th>\n",
              "      <th></th>\n",
              "      <th></th>\n",
              "    </tr>\n",
              "  </thead>\n",
              "  <tbody>\n",
              "    <tr>\n",
              "      <th rowspan=\"2\" valign=\"top\">Female</th>\n",
              "      <th>Left hand</th>\n",
              "      <td>3</td>\n",
              "      <td>3</td>\n",
              "      <td>6</td>\n",
              "    </tr>\n",
              "    <tr>\n",
              "      <th>Right hand</th>\n",
              "      <td>20</td>\n",
              "      <td>9</td>\n",
              "      <td>29</td>\n",
              "    </tr>\n",
              "    <tr>\n",
              "      <th rowspan=\"2\" valign=\"top\">Male</th>\n",
              "      <th>Left hand</th>\n",
              "      <td>0</td>\n",
              "      <td>2</td>\n",
              "      <td>2</td>\n",
              "    </tr>\n",
              "    <tr>\n",
              "      <th>Right hand</th>\n",
              "      <td>10</td>\n",
              "      <td>3</td>\n",
              "      <td>13</td>\n",
              "    </tr>\n",
              "    <tr>\n",
              "      <th>All</th>\n",
              "      <th></th>\n",
              "      <td>33</td>\n",
              "      <td>17</td>\n",
              "      <td>50</td>\n",
              "    </tr>\n",
              "  </tbody>\n",
              "</table>\n",
              "</div>"
            ],
            "text/plain": [
              "Realbrain          Left brain  Right brain  All\n",
              "Gender Hand                                    \n",
              "Female Left hand            3            3    6\n",
              "       Right hand          20            9   29\n",
              "Male   Left hand            0            2    2\n",
              "       Right hand          10            3   13\n",
              "All                        33           17   50"
            ]
          },
          "metadata": {},
          "execution_count": 24
        }
      ]
    },
    {
      "cell_type": "code",
      "source": [
        "# 5206 Kaew\n",
        "# create Frequency Distribution Table focused on expected brain \n",
        "pd.crosstab([df['Gender'], df['Hand']], df['Expected_brain'], margins=True)"
      ],
      "metadata": {
        "colab": {
          "base_uri": "https://localhost:8080/",
          "height": 238
        },
        "id": "PP_9_i1a6_k0",
        "outputId": "b9ae03ed-7dd1-4522-fc16-bb325cbc8098"
      },
      "execution_count": 25,
      "outputs": [
        {
          "output_type": "execute_result",
          "data": {
            "text/html": [
              "<div>\n",
              "<style scoped>\n",
              "    .dataframe tbody tr th:only-of-type {\n",
              "        vertical-align: middle;\n",
              "    }\n",
              "\n",
              "    .dataframe tbody tr th {\n",
              "        vertical-align: top;\n",
              "    }\n",
              "\n",
              "    .dataframe thead th {\n",
              "        text-align: right;\n",
              "    }\n",
              "</style>\n",
              "<table border=\"1\" class=\"dataframe\">\n",
              "  <thead>\n",
              "    <tr style=\"text-align: right;\">\n",
              "      <th></th>\n",
              "      <th>Expected_brain</th>\n",
              "      <th>Left brain</th>\n",
              "      <th>Right brain</th>\n",
              "      <th>All</th>\n",
              "    </tr>\n",
              "    <tr>\n",
              "      <th>Gender</th>\n",
              "      <th>Hand</th>\n",
              "      <th></th>\n",
              "      <th></th>\n",
              "      <th></th>\n",
              "    </tr>\n",
              "  </thead>\n",
              "  <tbody>\n",
              "    <tr>\n",
              "      <th rowspan=\"2\" valign=\"top\">Female</th>\n",
              "      <th>Left hand</th>\n",
              "      <td>2</td>\n",
              "      <td>4</td>\n",
              "      <td>6</td>\n",
              "    </tr>\n",
              "    <tr>\n",
              "      <th>Right hand</th>\n",
              "      <td>15</td>\n",
              "      <td>14</td>\n",
              "      <td>29</td>\n",
              "    </tr>\n",
              "    <tr>\n",
              "      <th rowspan=\"2\" valign=\"top\">Male</th>\n",
              "      <th>Left hand</th>\n",
              "      <td>1</td>\n",
              "      <td>1</td>\n",
              "      <td>2</td>\n",
              "    </tr>\n",
              "    <tr>\n",
              "      <th>Right hand</th>\n",
              "      <td>8</td>\n",
              "      <td>5</td>\n",
              "      <td>13</td>\n",
              "    </tr>\n",
              "    <tr>\n",
              "      <th>All</th>\n",
              "      <th></th>\n",
              "      <td>26</td>\n",
              "      <td>24</td>\n",
              "      <td>50</td>\n",
              "    </tr>\n",
              "  </tbody>\n",
              "</table>\n",
              "</div>"
            ],
            "text/plain": [
              "Expected_brain     Left brain  Right brain  All\n",
              "Gender Hand                                    \n",
              "Female Left hand            2            4    6\n",
              "       Right hand          15           14   29\n",
              "Male   Left hand            1            1    2\n",
              "       Right hand           8            5   13\n",
              "All                        26           24   50"
            ]
          },
          "metadata": {},
          "execution_count": 25
        }
      ]
    },
    {
      "cell_type": "code",
      "source": [
        "# 5206 Kaew\n",
        "# create Frequency Distribution Table focused on personality\n",
        "pd.crosstab(df['Realbrain'], df['Personality'], margins=True)"
      ],
      "metadata": {
        "colab": {
          "base_uri": "https://localhost:8080/",
          "height": 174
        },
        "id": "r7C0XRs-53QZ",
        "outputId": "9e37fce2-7c82-428c-a5b7-7266d499f525"
      },
      "execution_count": 26,
      "outputs": [
        {
          "output_type": "execute_result",
          "data": {
            "text/html": [
              "<div>\n",
              "<style scoped>\n",
              "    .dataframe tbody tr th:only-of-type {\n",
              "        vertical-align: middle;\n",
              "    }\n",
              "\n",
              "    .dataframe tbody tr th {\n",
              "        vertical-align: top;\n",
              "    }\n",
              "\n",
              "    .dataframe thead th {\n",
              "        text-align: right;\n",
              "    }\n",
              "</style>\n",
              "<table border=\"1\" class=\"dataframe\">\n",
              "  <thead>\n",
              "    <tr style=\"text-align: right;\">\n",
              "      <th>Personality</th>\n",
              "      <th>Analysis</th>\n",
              "      <th>Art</th>\n",
              "      <th>Fairness</th>\n",
              "      <th>Imagination</th>\n",
              "      <th>Instinct</th>\n",
              "      <th>Mathematics</th>\n",
              "      <th>Memory</th>\n",
              "      <th>Reasoning</th>\n",
              "      <th>Symbolic</th>\n",
              "      <th>Tidiness</th>\n",
              "      <th>All</th>\n",
              "    </tr>\n",
              "    <tr>\n",
              "      <th>Realbrain</th>\n",
              "      <th></th>\n",
              "      <th></th>\n",
              "      <th></th>\n",
              "      <th></th>\n",
              "      <th></th>\n",
              "      <th></th>\n",
              "      <th></th>\n",
              "      <th></th>\n",
              "      <th></th>\n",
              "      <th></th>\n",
              "      <th></th>\n",
              "    </tr>\n",
              "  </thead>\n",
              "  <tbody>\n",
              "    <tr>\n",
              "      <th>Left brain</th>\n",
              "      <td>4</td>\n",
              "      <td>0</td>\n",
              "      <td>6</td>\n",
              "      <td>0</td>\n",
              "      <td>0</td>\n",
              "      <td>3</td>\n",
              "      <td>0</td>\n",
              "      <td>18</td>\n",
              "      <td>1</td>\n",
              "      <td>1</td>\n",
              "      <td>33</td>\n",
              "    </tr>\n",
              "    <tr>\n",
              "      <th>Right brain</th>\n",
              "      <td>0</td>\n",
              "      <td>7</td>\n",
              "      <td>0</td>\n",
              "      <td>3</td>\n",
              "      <td>1</td>\n",
              "      <td>0</td>\n",
              "      <td>6</td>\n",
              "      <td>0</td>\n",
              "      <td>0</td>\n",
              "      <td>0</td>\n",
              "      <td>17</td>\n",
              "    </tr>\n",
              "    <tr>\n",
              "      <th>All</th>\n",
              "      <td>4</td>\n",
              "      <td>7</td>\n",
              "      <td>6</td>\n",
              "      <td>3</td>\n",
              "      <td>1</td>\n",
              "      <td>3</td>\n",
              "      <td>6</td>\n",
              "      <td>18</td>\n",
              "      <td>1</td>\n",
              "      <td>1</td>\n",
              "      <td>50</td>\n",
              "    </tr>\n",
              "  </tbody>\n",
              "</table>\n",
              "</div>"
            ],
            "text/plain": [
              "Personality  Analysis  Art  Fairness  ...  Symbolic  Tidiness  All\n",
              "Realbrain                             ...                         \n",
              "Left brain          4    0         6  ...         1         1   33\n",
              "Right brain         0    7         0  ...         0         0   17\n",
              "All                 4    7         6  ...         1         1   50\n",
              "\n",
              "[3 rows x 11 columns]"
            ]
          },
          "metadata": {},
          "execution_count": 26
        }
      ]
    },
    {
      "cell_type": "code",
      "metadata": {
        "colab": {
          "base_uri": "https://localhost:8080/",
          "height": 112
        },
        "id": "O8qatvm6fFEz",
        "outputId": "c463b54d-6898-40bd-8031-8a96e0d7f2d7"
      },
      "source": [
        "df.head(2)"
      ],
      "execution_count": 27,
      "outputs": [
        {
          "output_type": "execute_result",
          "data": {
            "text/html": [
              "<div>\n",
              "<style scoped>\n",
              "    .dataframe tbody tr th:only-of-type {\n",
              "        vertical-align: middle;\n",
              "    }\n",
              "\n",
              "    .dataframe tbody tr th {\n",
              "        vertical-align: top;\n",
              "    }\n",
              "\n",
              "    .dataframe thead th {\n",
              "        text-align: right;\n",
              "    }\n",
              "</style>\n",
              "<table border=\"1\" class=\"dataframe\">\n",
              "  <thead>\n",
              "    <tr style=\"text-align: right;\">\n",
              "      <th></th>\n",
              "      <th>Gender</th>\n",
              "      <th>Hand</th>\n",
              "      <th>Expected_brain</th>\n",
              "      <th>Left_brain</th>\n",
              "      <th>Right_brain</th>\n",
              "      <th>Personality</th>\n",
              "      <th>Realbrain</th>\n",
              "      <th>Percent_realbrain</th>\n",
              "    </tr>\n",
              "  </thead>\n",
              "  <tbody>\n",
              "    <tr>\n",
              "      <th>0</th>\n",
              "      <td>Male</td>\n",
              "      <td>Right hand</td>\n",
              "      <td>Left brain</td>\n",
              "      <td>56</td>\n",
              "      <td>44</td>\n",
              "      <td>Reasoning</td>\n",
              "      <td>Left brain</td>\n",
              "      <td>56</td>\n",
              "    </tr>\n",
              "    <tr>\n",
              "      <th>1</th>\n",
              "      <td>Female</td>\n",
              "      <td>Right hand</td>\n",
              "      <td>Left brain</td>\n",
              "      <td>37</td>\n",
              "      <td>63</td>\n",
              "      <td>Memory</td>\n",
              "      <td>Right brain</td>\n",
              "      <td>63</td>\n",
              "    </tr>\n",
              "  </tbody>\n",
              "</table>\n",
              "</div>"
            ],
            "text/plain": [
              "   Gender        Hand  ...    Realbrain  Percent_realbrain\n",
              "0    Male  Right hand  ...   Left brain                 56\n",
              "1  Female  Right hand  ...  Right brain                 63\n",
              "\n",
              "[2 rows x 8 columns]"
            ]
          },
          "metadata": {},
          "execution_count": 27
        }
      ]
    },
    {
      "cell_type": "markdown",
      "source": [
        "## Graph"
      ],
      "metadata": {
        "id": "jEPvpzqo0y8H"
      }
    },
    {
      "cell_type": "code",
      "source": [
        "# 5231 Floyd\n",
        "# number of left-right brain group by hand \n",
        "countbar = sns.countplot(df.Hand, hue = df.Realbrain , palette=['#7FA7B8',\"#F1485B\"])\n",
        "countbar.set( xlabel=None,ylabel='Number of people')\n",
        "countbar.legend(title='Actual brain')\n",
        "\n",
        "plt.show()\n",
        "# plt.savefig(\"countplot2.png\",dpi=(350))\n",
        "# files.download(\"countplot2.png\") \n"
      ],
      "metadata": {
        "colab": {
          "base_uri": "https://localhost:8080/",
          "height": 320
        },
        "id": "UQ5E3TWA8EH6",
        "outputId": "34a10c1d-edc2-48f8-a1f6-1e9c005de09a"
      },
      "execution_count": 28,
      "outputs": [
        {
          "output_type": "stream",
          "name": "stderr",
          "text": [
            "/usr/local/lib/python3.7/dist-packages/seaborn/_decorators.py:43: FutureWarning: Pass the following variable as a keyword arg: x. From version 0.12, the only valid positional argument will be `data`, and passing other arguments without an explicit keyword will result in an error or misinterpretation.\n",
            "  FutureWarning\n"
          ]
        },
        {
          "output_type": "display_data",
          "data": {
            "image/png": "[encoded data removed]",
            "text/plain": [
              "<Figure size 432x288 with 1 Axes>"
            ]
          },
          "metadata": {
            "needs_background": "light"
          }
        }
      ]
    },
    {
      "cell_type": "code",
      "source": [
        "#5231 Floyd\n",
        "# number of number of left-right brain group by expected  \n",
        "labels = [\"Leftbrain\", \"Rightbrain\"]\n",
        "GR_means = [21,12]\n",
        "GW_means = [12,5]\n",
        "\n",
        "width = 0.35       \n",
        "\n",
        "fig, ax = plt.subplots()\n",
        "\n",
        "ax.bar(labels, GR_means, width, label='Guess Right', color='#62b088')\n",
        "ax.bar(labels, GW_means, width,  bottom=GR_means, label='Guess Wrong',color=\"#ff834d\")\n",
        "\n",
        "ax.set_ylabel('Numbers of people')\n",
        "ax.legend()\n",
        "\n",
        "plt.show()\n",
        "# plt.savefig(\"stack1.png\",dpi=(350))\n",
        "# files.download(\"stack1.png\") "
      ],
      "metadata": {
        "id": "JX2S1eLzRRdG",
        "colab": {
          "base_uri": "https://localhost:8080/",
          "height": 265
        },
        "outputId": "ea470736-745a-4a47-8c08-031d0779824a"
      },
      "execution_count": 29,
      "outputs": [
        {
          "output_type": "display_data",
          "data": {
            "image/png": "[encoded data removed]",
            "text/plain": [
              "<Figure size 432x288 with 1 Axes>"
            ]
          },
          "metadata": {
            "needs_background": "light"
          }
        }
      ]
    },
    {
      "cell_type": "code",
      "source": [
        "# 5231 Floyd\n",
        "# distribution of brain percentage group by brain\n",
        "swarmplt = sns.swarmplot(x=df.Realbrain , y =df.Percent_realbrain, hue= df.Hand, size=12, palette=['#a478b8',\"#f5ae52\"])\n",
        "swarmplt.set( xlabel=None,ylabel='Actual brain (%)')\n",
        "swarmplt.legend(title='Hand')\n",
        "\n",
        "plt.show()\n",
        "# plt.savefig(\"swarm1.png\",dpi=(350))\n",
        "# files.download(\"swarm1.png\") "
      ],
      "metadata": {
        "colab": {
          "base_uri": "https://localhost:8080/",
          "height": 265
        },
        "id": "NyFrUI5K8T0g",
        "outputId": "9d603ece-f0af-4c03-b94f-30756c8ae41d"
      },
      "execution_count": 30,
      "outputs": [
        {
          "output_type": "display_data",
          "data": {
            "image/png": "[encoded data removed]",
            "text/plain": [
              "<Figure size 432x288 with 1 Axes>"
            ]
          },
          "metadata": {
            "needs_background": "light"
          }
        }
      ]
    },
    {
      "cell_type": "code",
      "source": [
        "# 5206 Kaew\n",
        "# create personality diactionary\n",
        "# store personality as keys and counts as values\n",
        "dict_psn = df['Personality'].value_counts().to_dict()\n",
        "dict_psn"
      ],
      "metadata": {
        "colab": {
          "base_uri": "https://localhost:8080/"
        },
        "id": "LGMO4wmS1hx5",
        "outputId": "27a5edb7-49f4-469d-b9ff-6fb162954f45"
      },
      "execution_count": 31,
      "outputs": [
        {
          "output_type": "execute_result",
          "data": {
            "text/plain": [
              "{'Analysis': 4,\n",
              " 'Art': 7,\n",
              " 'Fairness': 6,\n",
              " 'Imagination': 3,\n",
              " 'Instinct': 1,\n",
              " 'Mathematics': 3,\n",
              " 'Memory': 6,\n",
              " 'Reasoning': 18,\n",
              " 'Symbolic': 1,\n",
              " 'Tidiness': 1}"
            ]
          },
          "metadata": {},
          "execution_count": 31
        }
      ]
    },
    {
      "cell_type": "code",
      "source": [
        "# 5206 Kaew\n",
        "# extract keys and values from personality dictionary then store in different list \n",
        "psn = list(dict_psn.keys())\n",
        "num_psn = list(dict_psn.values())\n",
        "print(psn)\n",
        "print(num_psn)"
      ],
      "metadata": {
        "colab": {
          "base_uri": "https://localhost:8080/"
        },
        "id": "Y_gGxaoc2iSY",
        "outputId": "a79b01bd-8122-4912-9ce2-c12c05e9a8c4"
      },
      "execution_count": 32,
      "outputs": [
        {
          "output_type": "stream",
          "name": "stdout",
          "text": [
            "['Reasoning', 'Art', 'Memory', 'Fairness', 'Analysis', 'Mathematics', 'Imagination', 'Tidiness', 'Instinct', 'Symbolic']\n",
            "[18, 7, 6, 6, 4, 3, 3, 1, 1, 1]\n"
          ]
        }
      ]
    },
    {
      "cell_type": "code",
      "source": [
        "# 5206 Kaew\n",
        "# create function to divide personality in group \n",
        "def RL_psn(charList):\n",
        "  rl_psn =[]\n",
        "  rightb_psn = ['Memory', 'Music', 'Creativity','Instinct','Imagination','Emotional','Art' ]\n",
        "  leftb_psn =['Fairness', 'Mathematics', 'Analysis', 'Reasoning', 'Symbolic','Tidiness']\n",
        "  for i in charList:\n",
        "    if i in rightb_psn:\n",
        "      rl_psn.append(\"Right brain\")\n",
        "    else:\n",
        "      rl_psn.append(\"Left brain\")\n",
        "  return rl_psn\n"
      ],
      "metadata": {
        "id": "OaSzYfd03esJ"
      },
      "execution_count": 33,
      "outputs": []
    },
    {
      "cell_type": "code",
      "source": [
        "# 5206 Kaew\n",
        "brain_psn = RL_psn(psn)\n",
        "print(brain_psn)"
      ],
      "metadata": {
        "colab": {
          "base_uri": "https://localhost:8080/"
        },
        "id": "NEsY6gnL57CD",
        "outputId": "1df1ec13-4fdf-4bb6-eccd-22b6132dd302"
      },
      "execution_count": 34,
      "outputs": [
        {
          "output_type": "stream",
          "name": "stdout",
          "text": [
            "['Left brain', 'Right brain', 'Right brain', 'Left brain', 'Left brain', 'Left brain', 'Right brain', 'Left brain', 'Right brain', 'Left brain']\n"
          ]
        }
      ]
    },
    {
      "cell_type": "code",
      "source": [
        "# 5206 Kaew\n",
        "# create new dataframe for count people by personality\n",
        "dict_psn1 = {\"Brain\":brain_psn, \"Personality\":psn,\"Count\":num_psn}\n",
        "df_psn1 = pd.DataFrame(dict_psn1)\n",
        "df_psn1"
      ],
      "metadata": {
        "colab": {
          "base_uri": "https://localhost:8080/",
          "height": 363
        },
        "id": "yeDzAkgZ6w8m",
        "outputId": "0c285d72-aeed-480c-b7d4-a46726d01ad5"
      },
      "execution_count": 35,
      "outputs": [
        {
          "output_type": "execute_result",
          "data": {
            "text/html": [
              "<div>\n",
              "<style scoped>\n",
              "    .dataframe tbody tr th:only-of-type {\n",
              "        vertical-align: middle;\n",
              "    }\n",
              "\n",
              "    .dataframe tbody tr th {\n",
              "        vertical-align: top;\n",
              "    }\n",
              "\n",
              "    .dataframe thead th {\n",
              "        text-align: right;\n",
              "    }\n",
              "</style>\n",
              "<table border=\"1\" class=\"dataframe\">\n",
              "  <thead>\n",
              "    <tr style=\"text-align: right;\">\n",
              "      <th></th>\n",
              "      <th>Brain</th>\n",
              "      <th>Personality</th>\n",
              "      <th>Count</th>\n",
              "    </tr>\n",
              "  </thead>\n",
              "  <tbody>\n",
              "    <tr>\n",
              "      <th>0</th>\n",
              "      <td>Left brain</td>\n",
              "      <td>Reasoning</td>\n",
              "      <td>18</td>\n",
              "    </tr>\n",
              "    <tr>\n",
              "      <th>1</th>\n",
              "      <td>Right brain</td>\n",
              "      <td>Art</td>\n",
              "      <td>7</td>\n",
              "    </tr>\n",
              "    <tr>\n",
              "      <th>2</th>\n",
              "      <td>Right brain</td>\n",
              "      <td>Memory</td>\n",
              "      <td>6</td>\n",
              "    </tr>\n",
              "    <tr>\n",
              "      <th>3</th>\n",
              "      <td>Left brain</td>\n",
              "      <td>Fairness</td>\n",
              "      <td>6</td>\n",
              "    </tr>\n",
              "    <tr>\n",
              "      <th>4</th>\n",
              "      <td>Left brain</td>\n",
              "      <td>Analysis</td>\n",
              "      <td>4</td>\n",
              "    </tr>\n",
              "    <tr>\n",
              "      <th>5</th>\n",
              "      <td>Left brain</td>\n",
              "      <td>Mathematics</td>\n",
              "      <td>3</td>\n",
              "    </tr>\n",
              "    <tr>\n",
              "      <th>6</th>\n",
              "      <td>Right brain</td>\n",
              "      <td>Imagination</td>\n",
              "      <td>3</td>\n",
              "    </tr>\n",
              "    <tr>\n",
              "      <th>7</th>\n",
              "      <td>Left brain</td>\n",
              "      <td>Tidiness</td>\n",
              "      <td>1</td>\n",
              "    </tr>\n",
              "    <tr>\n",
              "      <th>8</th>\n",
              "      <td>Right brain</td>\n",
              "      <td>Instinct</td>\n",
              "      <td>1</td>\n",
              "    </tr>\n",
              "    <tr>\n",
              "      <th>9</th>\n",
              "      <td>Left brain</td>\n",
              "      <td>Symbolic</td>\n",
              "      <td>1</td>\n",
              "    </tr>\n",
              "  </tbody>\n",
              "</table>\n",
              "</div>"
            ],
            "text/plain": [
              "         Brain  Personality  Count\n",
              "0   Left brain    Reasoning     18\n",
              "1  Right brain          Art      7\n",
              "2  Right brain       Memory      6\n",
              "3   Left brain     Fairness      6\n",
              "4   Left brain     Analysis      4\n",
              "5   Left brain  Mathematics      3\n",
              "6  Right brain  Imagination      3\n",
              "7   Left brain     Tidiness      1\n",
              "8  Right brain     Instinct      1\n",
              "9   Left brain     Symbolic      1"
            ]
          },
          "metadata": {},
          "execution_count": 35
        }
      ]
    },
    {
      "cell_type": "code",
      "source": [
        "# 5206 Kaew\n",
        "# create left brain personality dataframe derive from df_psn1\n",
        "df_pieL = df_psn1.loc[df_psn1['Brain'] == 'Left brain']\n",
        "df_pieL"
      ],
      "metadata": {
        "colab": {
          "base_uri": "https://localhost:8080/",
          "height": 238
        },
        "id": "rtB_t7IZ31Jh",
        "outputId": "5c61c925-16d6-4197-c84d-ac38c683f542"
      },
      "execution_count": 36,
      "outputs": [
        {
          "output_type": "execute_result",
          "data": {
            "text/html": [
              "<div>\n",
              "<style scoped>\n",
              "    .dataframe tbody tr th:only-of-type {\n",
              "        vertical-align: middle;\n",
              "    }\n",
              "\n",
              "    .dataframe tbody tr th {\n",
              "        vertical-align: top;\n",
              "    }\n",
              "\n",
              "    .dataframe thead th {\n",
              "        text-align: right;\n",
              "    }\n",
              "</style>\n",
              "<table border=\"1\" class=\"dataframe\">\n",
              "  <thead>\n",
              "    <tr style=\"text-align: right;\">\n",
              "      <th></th>\n",
              "      <th>Brain</th>\n",
              "      <th>Personality</th>\n",
              "      <th>Count</th>\n",
              "    </tr>\n",
              "  </thead>\n",
              "  <tbody>\n",
              "    <tr>\n",
              "      <th>0</th>\n",
              "      <td>Left brain</td>\n",
              "      <td>Reasoning</td>\n",
              "      <td>18</td>\n",
              "    </tr>\n",
              "    <tr>\n",
              "      <th>3</th>\n",
              "      <td>Left brain</td>\n",
              "      <td>Fairness</td>\n",
              "      <td>6</td>\n",
              "    </tr>\n",
              "    <tr>\n",
              "      <th>4</th>\n",
              "      <td>Left brain</td>\n",
              "      <td>Analysis</td>\n",
              "      <td>4</td>\n",
              "    </tr>\n",
              "    <tr>\n",
              "      <th>5</th>\n",
              "      <td>Left brain</td>\n",
              "      <td>Mathematics</td>\n",
              "      <td>3</td>\n",
              "    </tr>\n",
              "    <tr>\n",
              "      <th>7</th>\n",
              "      <td>Left brain</td>\n",
              "      <td>Tidiness</td>\n",
              "      <td>1</td>\n",
              "    </tr>\n",
              "    <tr>\n",
              "      <th>9</th>\n",
              "      <td>Left brain</td>\n",
              "      <td>Symbolic</td>\n",
              "      <td>1</td>\n",
              "    </tr>\n",
              "  </tbody>\n",
              "</table>\n",
              "</div>"
            ],
            "text/plain": [
              "        Brain  Personality  Count\n",
              "0  Left brain    Reasoning     18\n",
              "3  Left brain     Fairness      6\n",
              "4  Left brain     Analysis      4\n",
              "5  Left brain  Mathematics      3\n",
              "7  Left brain     Tidiness      1\n",
              "9  Left brain     Symbolic      1"
            ]
          },
          "metadata": {},
          "execution_count": 36
        }
      ]
    },
    {
      "cell_type": "code",
      "source": [
        "# 5206 Kaew\n",
        "# pie chart for left brain personality\n",
        "palette1 = [\"#00529c\",\"#0077c0\",\"#0095d5\",\"#4dbeee\",\"#9cdcf9\",\"#d4effc\"]\n",
        "plt.pie(df_pieL['Count'],labels=df_pieL['Personality'],autopct='%1.1f%%', colors=palette1)\n",
        "plt.title('Left-brain personality')\n",
        "plt.axis('equal')\n",
        "plt.show()\n",
        "# plt.savefig('Lpersona.png',dpi=(350))\n",
        "# files.download(\"Lpersona.png\") "
      ],
      "metadata": {
        "colab": {
          "base_uri": "https://localhost:8080/",
          "height": 265
        },
        "id": "zTfSyEkE5dC1",
        "outputId": "d187b580-8869-47d3-efb9-8b228bb941c0"
      },
      "execution_count": 37,
      "outputs": [
        {
          "output_type": "display_data",
          "data": {
            "image/png": "[encoded data removed]",
            "text/plain": [
              "<Figure size 432x288 with 1 Axes>"
            ]
          },
          "metadata": {}
        }
      ]
    },
    {
      "cell_type": "code",
      "source": [
        "# 5206 Kaew\n",
        "# create right brain personality dataframe derive from df_psn1\n",
        "df_pieR = df_psn1.loc[df_psn1['Brain'] == 'Right brain']\n",
        "df_pieR"
      ],
      "metadata": {
        "colab": {
          "base_uri": "https://localhost:8080/",
          "height": 174
        },
        "id": "6me4RY4N5GID",
        "outputId": "de538597-b3f8-4b19-f8ce-eba40541b9b3"
      },
      "execution_count": 38,
      "outputs": [
        {
          "output_type": "execute_result",
          "data": {
            "text/html": [
              "<div>\n",
              "<style scoped>\n",
              "    .dataframe tbody tr th:only-of-type {\n",
              "        vertical-align: middle;\n",
              "    }\n",
              "\n",
              "    .dataframe tbody tr th {\n",
              "        vertical-align: top;\n",
              "    }\n",
              "\n",
              "    .dataframe thead th {\n",
              "        text-align: right;\n",
              "    }\n",
              "</style>\n",
              "<table border=\"1\" class=\"dataframe\">\n",
              "  <thead>\n",
              "    <tr style=\"text-align: right;\">\n",
              "      <th></th>\n",
              "      <th>Brain</th>\n",
              "      <th>Personality</th>\n",
              "      <th>Count</th>\n",
              "    </tr>\n",
              "  </thead>\n",
              "  <tbody>\n",
              "    <tr>\n",
              "      <th>1</th>\n",
              "      <td>Right brain</td>\n",
              "      <td>Art</td>\n",
              "      <td>7</td>\n",
              "    </tr>\n",
              "    <tr>\n",
              "      <th>2</th>\n",
              "      <td>Right brain</td>\n",
              "      <td>Memory</td>\n",
              "      <td>6</td>\n",
              "    </tr>\n",
              "    <tr>\n",
              "      <th>6</th>\n",
              "      <td>Right brain</td>\n",
              "      <td>Imagination</td>\n",
              "      <td>3</td>\n",
              "    </tr>\n",
              "    <tr>\n",
              "      <th>8</th>\n",
              "      <td>Right brain</td>\n",
              "      <td>Instinct</td>\n",
              "      <td>1</td>\n",
              "    </tr>\n",
              "  </tbody>\n",
              "</table>\n",
              "</div>"
            ],
            "text/plain": [
              "         Brain  Personality  Count\n",
              "1  Right brain          Art      7\n",
              "2  Right brain       Memory      6\n",
              "6  Right brain  Imagination      3\n",
              "8  Right brain     Instinct      1"
            ]
          },
          "metadata": {},
          "execution_count": 38
        }
      ]
    },
    {
      "cell_type": "code",
      "source": [
        "# 5206 Kaew\n",
        "# pie chart for right brain personality\n",
        "palette2 = [\"#cc5e77\",\"#e18093\",\"#ef959e\",\"#eca7ac\"]\n",
        "plt.pie(df_pieR['Count'],labels=df_pieR['Personality'],autopct='%1.1f%%', colors=palette2)\n",
        "plt.title('Right-brain personality')\n",
        "plt.axis('equal')\n",
        "plt.show()\n",
        "# plt.savefig('Rpersona.png',dpi=(350))\n",
        "# files.download(\"Rpersona.png\") "
      ],
      "metadata": {
        "colab": {
          "base_uri": "https://localhost:8080/",
          "height": 264
        },
        "id": "tIyNVtO26naT",
        "outputId": "5c6fdf60-af82-404e-f1d7-514721a8f468"
      },
      "execution_count": 39,
      "outputs": [
        {
          "output_type": "display_data",
          "data": {
            "image/png": "[encoded data removed]",
            "text/plain": [
              "<Figure size 432x288 with 1 Axes>"
            ]
          },
          "metadata": {}
        }
      ]
    }
  ]
}